{
  "cells": [
    {
      "cell_type": "markdown",
      "metadata": {
        "id": "view-in-github",
        "colab_type": "text"
      },
      "source": [
        "<a href=\"https://colab.research.google.com/github/DenizY98/pydemo/blob/main/Fallstudie.ipynb\" target=\"_parent\"><img src=\"https://colab.research.google.com/assets/colab-badge.svg\" alt=\"Open In Colab\"/></a>"
      ]
    },
    {
      "cell_type": "markdown",
      "source": [
        "#Prozessoptimierung - Fallstudie"
      ],
      "metadata": {
        "id": "qeOaIiTPxVdX"
      },
      "id": "qeOaIiTPxVdX"
    },
    {
      "cell_type": "markdown",
      "source": [
        "##PIP, OR-Tools und Pandas"
      ],
      "metadata": {
        "id": "Znr8k3tIxdcn"
      },
      "id": "Znr8k3tIxdcn"
    },
    {
      "cell_type": "code",
      "execution_count": null,
      "id": "LGrl_jqcfXzd",
      "metadata": {
        "id": "LGrl_jqcfXzd",
        "colab": {
          "base_uri": "https://localhost:8080/"
        },
        "outputId": "2dbc9fb4-8d27-4413-b7d6-b4138d8a1598"
      },
      "outputs": [
        {
          "output_type": "stream",
          "name": "stdout",
          "text": [
            "\u001b[33mWARNING: Running pip as the 'root' user can result in broken permissions and conflicting behaviour with the system package manager. It is recommended to use a virtual environment instead: https://pip.pypa.io/warnings/venv\u001b[0m\u001b[33m\n",
            "\u001b[0m\u001b[33mWARNING: Running pip as the 'root' user can result in broken permissions and conflicting behaviour with the system package manager. It is recommended to use a virtual environment instead: https://pip.pypa.io/warnings/venv\u001b[0m\u001b[33m\n",
            "\u001b[0m"
          ]
        }
      ],
      "source": [
        "# Importieren der benötigten Bibliotheken\n",
        "!pip install -U -q pip\n",
        "!pip install -q ortools\n",
        "# Laden des Programms\n",
        "from ortools.linear_solver import pywraplp\n",
        "import pandas as pd\n",
        "# Initialisieren des Solvers\n",
        "solver = pywraplp.Solver.CreateSolver('SCIP')"
      ]
    },
    {
      "cell_type": "code",
      "execution_count": null,
      "id": "I-5QslQG1kr3",
      "metadata": {
        "colab": {
          "base_uri": "https://localhost:8080/"
        },
        "id": "I-5QslQG1kr3",
        "outputId": "5b054b3f-086a-466e-d638-e96133b57cb1"
      },
      "outputs": [
        {
          "output_type": "stream",
          "name": "stdout",
          "text": [
            "fatal: destination path 'Industrielles_Management' already exists and is not an empty directory.\n"
          ]
        }
      ],
      "source": [
        "! git clone https://github.com/AlexKressner/Industrielles_Management"
      ]
    },
    {
      "cell_type": "code",
      "execution_count": null,
      "id": "oL-HwWpZeg-J",
      "metadata": {
        "id": "oL-HwWpZeg-J"
      },
      "outputs": [],
      "source": [
        "path = \"Industrielles_Management/Daten/Fallstudie/\""
      ]
    },
    {
      "cell_type": "code",
      "source": [
        "#dataframes laden aus Daten der CSV-Dateien\n",
        "nachfrage_df = pd.read_csv(f\"{path}/FLINK_Nachfrage.csv\", sep=\";\", index_col=0)\n",
        "standorte_df = pd.read_csv(f\"{path}/FLINK_Standorte.csv\", sep=\";\")"
      ],
      "metadata": {
        "id": "el0oHm4LHmo1"
      },
      "id": "el0oHm4LHmo1",
      "execution_count": null,
      "outputs": []
    },
    {
      "cell_type": "markdown",
      "source": [
        "##Ziel:\n",
        "Maximierung der bedienten Nachfrage innerhalb der vorgegebenen Lieferzeit und des Budgets.\n"
      ],
      "metadata": {
        "id": "Owirb-Fa5W8H"
      },
      "id": "Owirb-Fa5W8H"
    },
    {
      "cell_type": "markdown",
      "source": [
        "##Daten:\n"
      ],
      "metadata": {
        "id": "L1DkYz_FxqsJ"
      },
      "id": "L1DkYz_FxqsJ"
    },
    {
      "cell_type": "markdown",
      "source": [
        "###Indexmengen:\n",
        "$ Q = \\{q \\mid q = (i,j), i \\in \\{0, \\ldots, 12\\}, j \\in \\{0, \\ldots, 12\\}\\} $\n",
        "Menge aller Quadranten $ q $ als $( i , j )$ Tupel\n",
        "\n",
        "\n",
        "$ S = \\{s \\mid s \\in \\{0, \\ldots, 9\\}\\} $\n",
        "Menge aller potentieller DarkStores $ s $"
      ],
      "metadata": {
        "id": "O5J__6i85Xk8"
      },
      "id": "O5J__6i85Xk8"
    },
    {
      "cell_type": "code",
      "source": [
        "Q = [(i, j) for i in range(13) for j in range(13)]  # Menge aller Quadranten als (i, j) Paare\n",
        "S = standorte_df['Potenzielle_Standorte'].to_list()  # Menge aller potentieller DarkStores"
      ],
      "metadata": {
        "id": "LxekcH9nEyGD"
      },
      "id": "LxekcH9nEyGD",
      "execution_count": null,
      "outputs": []
    },
    {
      "cell_type": "markdown",
      "source": [
        "###Variablen:\n",
        "$ x_s \\in \\{0,1\\} \\quad \\forall s \\in S $: Binärvariable, die angibt, ob am Standort $ s $ ein Dark Store eingerichtet wird $1$ oder nicht $0$.\n",
        "\n",
        "$ y_{qs} \\in \\{0,1\\} \\quad \\forall q \\in Q, \\forall s \\in S $: Binärvariable, die angibt, ob der Standort $ s $ den Quadranten $ q (i,j) $ bedient $1$ oder nicht $0$."
      ],
      "metadata": {
        "id": "UqD2MQ9Y5Lpo"
      },
      "id": "UqD2MQ9Y5Lpo"
    },
    {
      "cell_type": "code",
      "source": [
        "x = {}\n",
        "for s in S:\n",
        "  x[s] = solver.BoolVar(f'x[{s}]')"
      ],
      "metadata": {
        "id": "zsUMPPxx5MWl"
      },
      "id": "zsUMPPxx5MWl",
      "execution_count": null,
      "outputs": []
    },
    {
      "cell_type": "code",
      "source": [
        "y = {}\n",
        "for s in S:\n",
        "    for q in Q:\n",
        "        y[q, s] = solver.BoolVar(f'y[{q},{s}]')"
      ],
      "metadata": {
        "id": "8UQDKrZJT8ki"
      },
      "id": "8UQDKrZJT8ki",
      "execution_count": null,
      "outputs": []
    },
    {
      "cell_type": "markdown",
      "source": [
        "###Dictionaries:\n",
        "- Lagerumschlagsleistung je potentiellem Standort $ s $\n",
        "- Errichtungskosten je potentiellem Standort $ s $\n",
        "- Koordinaten je potentiellem Standort $ s $"
      ],
      "metadata": {
        "id": "5MmzUUM2V8Tl"
      },
      "id": "5MmzUUM2V8Tl"
    },
    {
      "cell_type": "code",
      "source": [
        "#Standorte Dataframe\n",
        "Lagerumschlagleistung = standorte_df.set_index('Potenzielle_Standorte')['Lagerumschlagleistung'].to_dict()\n",
        "Errichtungskosten = standorte_df.set_index('Potenzielle_Standorte')['Errichtungskosten'].to_dict()\n",
        "Koordinaten = standorte_df.set_index('Potenzielle_Standorte')[['i_Koordinate', 'j_Koordinate']].to_dict('index')"
      ],
      "metadata": {
        "id": "iyOqhWGCULrf"
      },
      "id": "iyOqhWGCULrf",
      "execution_count": null,
      "outputs": []
    },
    {
      "cell_type": "code",
      "source": [
        "# Umstrukturierung des nachfrage_df DataFrames, um die Spalten 'i' und 'j' und 'Nachfrage' zu erhalten\n",
        "nachfrage_df = nachfrage_df.reset_index().melt(id_vars='index', var_name='j', value_name='Nachfrage')\n",
        "nachfrage_df.rename(columns={'index': 'i'}, inplace=True)\n",
        "nachfrage_df['j'] = nachfrage_df['j'].astype(int)  # Konvertierung der Spalte 'j' in den Typ int\n",
        "# Erstellung des nachfrage_dict Wörterbuchs\n",
        "Nachfrage = nachfrage_df.set_index(['i', 'j']).to_dict('index')"
      ],
      "metadata": {
        "id": "4Sn3G_fQV7HP"
      },
      "id": "4Sn3G_fQV7HP",
      "execution_count": null,
      "outputs": []
    },
    {
      "cell_type": "markdown",
      "source": [
        "###Parameter:\n",
        "\n",
        "$ D_q $: Nachfrage im Quadranten $ q $ als Bestellungen pro Tag.\n",
        "\n",
        "$ L_s $: Lagerumschlagleistung des Standorts $ s $ als Bestellungen pro Tag.\n",
        "\n",
        "$ C_s $: Kosten für die Einrichtung eines Dark Stores am Standort $ s $.\n",
        "\n",
        "$ B $: Gesamtbudget für die Einrichtung von Dark Stores.\n",
        "\n",
        "$ T $: Maximale Lieferzeit $10 Minuten$.\n",
        "\n",
        "$ A $: Maximale Anzahl von Quadranten, die ein Fahrradkurier bedienen kann $5 Quadranten$.\n"
      ],
      "metadata": {
        "id": "OXm9lbWN5RKR"
      },
      "id": "OXm9lbWN5RKR"
    },
    {
      "cell_type": "code",
      "source": [
        "D = {q: Nachfrage[q]['Nachfrage'] for q in Q}  # Nachfrage im Quadranten q als Bestellungen pro Tag\n",
        "L = {s: Lagerumschlagleistung[s] for s in S}  # Lagerumschlagleistung des Standorts s als Bestellungen pro Tag\n",
        "C = {s: Errichtungskosten[s] for s in S}  # Kosten für die Einrichtung eines Dark Stores am Standort s\n",
        "B = 1000000  # Gesamtbudget für die Einrichtung von Dark Stores\n",
        "T = 10  # Maximale Lieferzeit 10 Minuten\n",
        "A = T/2  # Maximale Anzahl von Quadranten, die ein Fahrradkurier bedienen kann 5 Quadranten"
      ],
      "metadata": {
        "id": "bRDM-jqX5Rzi"
      },
      "id": "bRDM-jqX5Rzi",
      "execution_count": null,
      "outputs": []
    },
    {
      "cell_type": "markdown",
      "source": [
        "###Restriktionen:\n",
        "####Nachfragerestriktionen: $\n",
        "\\sum_{s \\in S} y_{qs} \\leq 1 \\quad \\forall q \\in Q $\n",
        "Jeder Quadrant wird von höchstens einem Dark Store bedient\n",
        "####Budgetrestriktion: $\n",
        "\\sum_{s \\in S} x_s \\cdot C_s \\leq B $\n",
        "Ein Dark Store kann nur eingerichtet werden, wenn das Budget dies zulässt\n",
        "####Lagerumschlagleistungsrestriktionen: $\n",
        "\\sum_{q \\in Q} y_{qs} \\cdot D_{q} \\leq x_s \\cdot L_s \\quad \\forall s \\in S $\n",
        "Die Nachfrage eines Quadranten kann nur bedient werden, wenn die Lagerumschlagleistung ausreicht und ein Dark Store vorhanden ist\n",
        "####Reichweitenrestriktion für Fahrradkuriere: $\n",
        "\\text{Strecke}(s, q) > 5 \\Rightarrow y_{qs} = 0 \\quad \\forall q \\in Q, \\forall s \\in S $\n",
        "Die Anzahl der von einem Fahrradkurier zurückgelegten Quadranten $Strecke$ darf nie größer $A$ sein, falls bestätigt, dass Quadrant $q$ von Standort $s$ beliefert wird.\n",
        "<!--\n",
        "####Liefergebietsrestriktionen: $\n",
        "\\sum_{q \\in Q} y_{qs} \\leq S_{\\text{max}} \\cdot x_s \\quad \\forall s \\in S\n",
        "$\n",
        "Die Anzahl der von einem Dark Store bedienten Quadranten ist auf $ S_{\\text{max}} $ beschränkt -->"
      ],
      "metadata": {
        "id": "CMhtK8srIt1_"
      },
      "id": "CMhtK8srIt1_"
    },
    {
      "cell_type": "code",
      "source": [
        "# Nachfragerestriktionen\n",
        "for q in Q:\n",
        "    solver.Add(solver.Sum([y[q, s] for s in S]) <= 1)\n",
        "\n",
        "# Budgetrestriktion\n",
        "solver.Add(solver.Sum([x[s] * C[s] for s in S]) <= B)\n",
        "\n",
        "# Lagerumschlagleistungsrestriktionen\n",
        "for s in S:\n",
        "    solver.Add(solver.Sum([y[q, s] * D[q] for q in Q]) <= x[s] * L[s])\n",
        "\n",
        "# Reichweitenrestriktion für Fahrradkuriere\n",
        "for s in S:\n",
        "    for q in Q:\n",
        "        # Berechnung der Manhattan-Distanz zwischen dem Standort s und dem Quadranten q\n",
        "        distance = abs(Koordinaten[s]['i_Koordinate'] - q[0]) + abs(Koordinaten[s]['j_Koordinate'] - q[1])\n",
        "        if distance > 5:\n",
        "            solver.Add(y[q, s] == 0)\n"
      ],
      "metadata": {
        "id": "XDO4De8wWozA"
      },
      "id": "XDO4De8wWozA",
      "execution_count": 49,
      "outputs": []
    },
    {
      "cell_type": "markdown",
      "source": [
        "##Lösung:\n",
        "###Zielfunktion:\n",
        "Maximiere die gesamte bediente Nachfrage:\n",
        "\n",
        "$ \\text{Max} \\sum_{sq} y_{qs} \\cdot D_q $"
      ],
      "metadata": {
        "id": "frf9th2CKEM2"
      },
      "id": "frf9th2CKEM2"
    },
    {
      "cell_type": "code",
      "source": [
        "# Zielfunktion\n",
        "solver.Maximize(solver.Sum([y[q, s] * D[q] for q in Q for s in S]))\n",
        "# Lösen des Modells\n",
        "status = solver.Solve()"
      ],
      "metadata": {
        "id": "LB5bCUe9amx6"
      },
      "id": "LB5bCUe9amx6",
      "execution_count": 50,
      "outputs": []
    },
    {
      "cell_type": "code",
      "source": [
        "# Ausgabe der Lösung\n",
        "if status == pywraplp.Solver.OPTIMAL:\n",
        "    print('Lösung gefunden:')\n",
        "    for s in S:\n",
        "        if x[s].solution_value() == 1:\n",
        "            print(f'Standort {s} wird eingerichtet.')\n",
        "            for q in Q:\n",
        "                if y[q, s].solution_value() == 1:\n",
        "                    print(f'Quadrant {q} wird von Standort {s} bedient.')\n",
        "else:\n",
        "    print('Keine optimale Lösung gefunden.')"
      ],
      "metadata": {
        "id": "IOmJ8X0MZv5P"
      },
      "id": "IOmJ8X0MZv5P",
      "execution_count": null,
      "outputs": []
    },
    {
      "cell_type": "markdown",
      "source": [
        "### Darstellung als Matrix, DF oder MatPlot"
      ],
      "metadata": {
        "id": "qWte2yItwig8"
      },
      "id": "qWte2yItwig8"
    },
    {
      "cell_type": "code",
      "source": [
        "import numpy as np\n",
        "# Erstellen Sie eine leere Matrix der gleichen Größe wie Ihr Quadrantengitter\n",
        "ergebnis_matrix = np.empty((14, 14), dtype=object)  # Größe angepasst, um Store i_Koordinate von 13 zu berücksichtigen\n",
        "\n",
        "# Füllen Sie die Matrix mit den Ergebnissen Ihres Modells\n",
        "for s in S:\n",
        "    if x[s].solution_value() == 1:\n",
        "        # Wenn ein Darkstore an diesem Standort errichtet wurde, markieren Sie die Zelle mit \"DS\"\n",
        "        for q in Q:\n",
        "            # Überprüfen Sie, ob der Quadrant von diesem Standort bedient wird\n",
        "            if y[q, s].solution_value() == 1:\n",
        "                # Wenn ja, fügen Sie die Nummer des beliefernden Darkstores hinzu\n",
        "                ergebnis_matrix[q[0], q[1]] = str(s)\n",
        "\n",
        "# Nachdem alle Quadranten bedient wurden, gehen Sie erneut über alle Standorte in S\n",
        "for s in S:\n",
        "    if x[s].solution_value() == 1:\n",
        "        # Wenn ein Darkstore an diesem Standort errichtet wurde, markieren Sie die Zelle mit \"DS\"\n",
        "        i, j = Koordinaten[s]['i_Koordinate'], Koordinaten[s]['j_Koordinate']\n",
        "        if 0 <= i < 14 and 0 <= j < 14:  # Stellen Sie sicher, dass die Koordinaten innerhalb der Matrix liegen\n",
        "            ergebnis_matrix[i, j] = \"S\" + str(s)\n",
        "\n",
        "# Ausgabe der Ergebnismatrix\n",
        "ergebnis_df = pd.DataFrame(ergebnis_matrix)\n",
        "ergebnis_df"
      ],
      "metadata": {
        "colab": {
          "base_uri": "https://localhost:8080/",
          "height": 488
        },
        "id": "VZ5UnwtMcGJS",
        "outputId": "8c42c500-fed9-4734-99d7-4f709f2d864d"
      },
      "id": "VZ5UnwtMcGJS",
      "execution_count": 84,
      "outputs": [
        {
          "output_type": "execute_result",
          "data": {
            "text/plain": [
              "      0     1     2     3     4     5   6     7     8     9     10    11  \\\n",
              "0   None  None  None     9     9     9   7     7     5  None  None  None   \n",
              "1   None  None     9     9     9     9   9     7     7     5     5  None   \n",
              "2   None     9     9     9     9     7   9     9     7     7     5     5   \n",
              "3      9     9     9     9     9     7   9     7     9     7     7     5   \n",
              "4      9     7     9     9    S9     9  S7     9    S5     9     7     7   \n",
              "5      9     9     9     9     9     7   7     7     7     7     7     5   \n",
              "6   None     9     9     9     7     7   7     9     7     7     3     5   \n",
              "7   None  None     9     9     9     9   9     7     7     3     3     1   \n",
              "8   None     2  None     9     9     9   7     7     5     5     3    S1   \n",
              "9      2     2     2     2     9     4   7     4     1     3     1     1   \n",
              "10     2     2     2  None    S2     3   3     4     4     3    S3     3   \n",
              "11     2     2     2     2     4     4   4     3  None     3     3     1   \n",
              "12  None     2     4     4     4     4   4     4     4     4     1     3   \n",
              "13  None  None  None  None  None  None  S4  None  None  None  None  None   \n",
              "\n",
              "      12    13  \n",
              "0   None  None  \n",
              "1   None  None  \n",
              "2   None  None  \n",
              "3      5  None  \n",
              "4      5  None  \n",
              "5      5  None  \n",
              "6      1  None  \n",
              "7      1  None  \n",
              "8      1  None  \n",
              "9      1  None  \n",
              "10     3  None  \n",
              "11     3  None  \n",
              "12     3  None  \n",
              "13  None  None  "
            ],
            "text/html": [
              "\n",
              "  <div id=\"df-4e6f228f-dda6-4c80-86b4-1eeb6209f3df\" class=\"colab-df-container\">\n",
              "    <div>\n",
              "<style scoped>\n",
              "    .dataframe tbody tr th:only-of-type {\n",
              "        vertical-align: middle;\n",
              "    }\n",
              "\n",
              "    .dataframe tbody tr th {\n",
              "        vertical-align: top;\n",
              "    }\n",
              "\n",
              "    .dataframe thead th {\n",
              "        text-align: right;\n",
              "    }\n",
              "</style>\n",
              "<table border=\"1\" class=\"dataframe\">\n",
              "  <thead>\n",
              "    <tr style=\"text-align: right;\">\n",
              "      <th></th>\n",
              "      <th>0</th>\n",
              "      <th>1</th>\n",
              "      <th>2</th>\n",
              "      <th>3</th>\n",
              "      <th>4</th>\n",
              "      <th>5</th>\n",
              "      <th>6</th>\n",
              "      <th>7</th>\n",
              "      <th>8</th>\n",
              "      <th>9</th>\n",
              "      <th>10</th>\n",
              "      <th>11</th>\n",
              "      <th>12</th>\n",
              "      <th>13</th>\n",
              "    </tr>\n",
              "  </thead>\n",
              "  <tbody>\n",
              "    <tr>\n",
              "      <th>0</th>\n",
              "      <td>None</td>\n",
              "      <td>None</td>\n",
              "      <td>None</td>\n",
              "      <td>9</td>\n",
              "      <td>9</td>\n",
              "      <td>9</td>\n",
              "      <td>7</td>\n",
              "      <td>7</td>\n",
              "      <td>5</td>\n",
              "      <td>None</td>\n",
              "      <td>None</td>\n",
              "      <td>None</td>\n",
              "      <td>None</td>\n",
              "      <td>None</td>\n",
              "    </tr>\n",
              "    <tr>\n",
              "      <th>1</th>\n",
              "      <td>None</td>\n",
              "      <td>None</td>\n",
              "      <td>9</td>\n",
              "      <td>9</td>\n",
              "      <td>9</td>\n",
              "      <td>9</td>\n",
              "      <td>9</td>\n",
              "      <td>7</td>\n",
              "      <td>7</td>\n",
              "      <td>5</td>\n",
              "      <td>5</td>\n",
              "      <td>None</td>\n",
              "      <td>None</td>\n",
              "      <td>None</td>\n",
              "    </tr>\n",
              "    <tr>\n",
              "      <th>2</th>\n",
              "      <td>None</td>\n",
              "      <td>9</td>\n",
              "      <td>9</td>\n",
              "      <td>9</td>\n",
              "      <td>9</td>\n",
              "      <td>7</td>\n",
              "      <td>9</td>\n",
              "      <td>9</td>\n",
              "      <td>7</td>\n",
              "      <td>7</td>\n",
              "      <td>5</td>\n",
              "      <td>5</td>\n",
              "      <td>None</td>\n",
              "      <td>None</td>\n",
              "    </tr>\n",
              "    <tr>\n",
              "      <th>3</th>\n",
              "      <td>9</td>\n",
              "      <td>9</td>\n",
              "      <td>9</td>\n",
              "      <td>9</td>\n",
              "      <td>9</td>\n",
              "      <td>7</td>\n",
              "      <td>9</td>\n",
              "      <td>7</td>\n",
              "      <td>9</td>\n",
              "      <td>7</td>\n",
              "      <td>7</td>\n",
              "      <td>5</td>\n",
              "      <td>5</td>\n",
              "      <td>None</td>\n",
              "    </tr>\n",
              "    <tr>\n",
              "      <th>4</th>\n",
              "      <td>9</td>\n",
              "      <td>7</td>\n",
              "      <td>9</td>\n",
              "      <td>9</td>\n",
              "      <td>S9</td>\n",
              "      <td>9</td>\n",
              "      <td>S7</td>\n",
              "      <td>9</td>\n",
              "      <td>S5</td>\n",
              "      <td>9</td>\n",
              "      <td>7</td>\n",
              "      <td>7</td>\n",
              "      <td>5</td>\n",
              "      <td>None</td>\n",
              "    </tr>\n",
              "    <tr>\n",
              "      <th>5</th>\n",
              "      <td>9</td>\n",
              "      <td>9</td>\n",
              "      <td>9</td>\n",
              "      <td>9</td>\n",
              "      <td>9</td>\n",
              "      <td>7</td>\n",
              "      <td>7</td>\n",
              "      <td>7</td>\n",
              "      <td>7</td>\n",
              "      <td>7</td>\n",
              "      <td>7</td>\n",
              "      <td>5</td>\n",
              "      <td>5</td>\n",
              "      <td>None</td>\n",
              "    </tr>\n",
              "    <tr>\n",
              "      <th>6</th>\n",
              "      <td>None</td>\n",
              "      <td>9</td>\n",
              "      <td>9</td>\n",
              "      <td>9</td>\n",
              "      <td>7</td>\n",
              "      <td>7</td>\n",
              "      <td>7</td>\n",
              "      <td>9</td>\n",
              "      <td>7</td>\n",
              "      <td>7</td>\n",
              "      <td>3</td>\n",
              "      <td>5</td>\n",
              "      <td>1</td>\n",
              "      <td>None</td>\n",
              "    </tr>\n",
              "    <tr>\n",
              "      <th>7</th>\n",
              "      <td>None</td>\n",
              "      <td>None</td>\n",
              "      <td>9</td>\n",
              "      <td>9</td>\n",
              "      <td>9</td>\n",
              "      <td>9</td>\n",
              "      <td>9</td>\n",
              "      <td>7</td>\n",
              "      <td>7</td>\n",
              "      <td>3</td>\n",
              "      <td>3</td>\n",
              "      <td>1</td>\n",
              "      <td>1</td>\n",
              "      <td>None</td>\n",
              "    </tr>\n",
              "    <tr>\n",
              "      <th>8</th>\n",
              "      <td>None</td>\n",
              "      <td>2</td>\n",
              "      <td>None</td>\n",
              "      <td>9</td>\n",
              "      <td>9</td>\n",
              "      <td>9</td>\n",
              "      <td>7</td>\n",
              "      <td>7</td>\n",
              "      <td>5</td>\n",
              "      <td>5</td>\n",
              "      <td>3</td>\n",
              "      <td>S1</td>\n",
              "      <td>1</td>\n",
              "      <td>None</td>\n",
              "    </tr>\n",
              "    <tr>\n",
              "      <th>9</th>\n",
              "      <td>2</td>\n",
              "      <td>2</td>\n",
              "      <td>2</td>\n",
              "      <td>2</td>\n",
              "      <td>9</td>\n",
              "      <td>4</td>\n",
              "      <td>7</td>\n",
              "      <td>4</td>\n",
              "      <td>1</td>\n",
              "      <td>3</td>\n",
              "      <td>1</td>\n",
              "      <td>1</td>\n",
              "      <td>1</td>\n",
              "      <td>None</td>\n",
              "    </tr>\n",
              "    <tr>\n",
              "      <th>10</th>\n",
              "      <td>2</td>\n",
              "      <td>2</td>\n",
              "      <td>2</td>\n",
              "      <td>None</td>\n",
              "      <td>S2</td>\n",
              "      <td>3</td>\n",
              "      <td>3</td>\n",
              "      <td>4</td>\n",
              "      <td>4</td>\n",
              "      <td>3</td>\n",
              "      <td>S3</td>\n",
              "      <td>3</td>\n",
              "      <td>3</td>\n",
              "      <td>None</td>\n",
              "    </tr>\n",
              "    <tr>\n",
              "      <th>11</th>\n",
              "      <td>2</td>\n",
              "      <td>2</td>\n",
              "      <td>2</td>\n",
              "      <td>2</td>\n",
              "      <td>4</td>\n",
              "      <td>4</td>\n",
              "      <td>4</td>\n",
              "      <td>3</td>\n",
              "      <td>None</td>\n",
              "      <td>3</td>\n",
              "      <td>3</td>\n",
              "      <td>1</td>\n",
              "      <td>3</td>\n",
              "      <td>None</td>\n",
              "    </tr>\n",
              "    <tr>\n",
              "      <th>12</th>\n",
              "      <td>None</td>\n",
              "      <td>2</td>\n",
              "      <td>4</td>\n",
              "      <td>4</td>\n",
              "      <td>4</td>\n",
              "      <td>4</td>\n",
              "      <td>4</td>\n",
              "      <td>4</td>\n",
              "      <td>4</td>\n",
              "      <td>4</td>\n",
              "      <td>1</td>\n",
              "      <td>3</td>\n",
              "      <td>3</td>\n",
              "      <td>None</td>\n",
              "    </tr>\n",
              "    <tr>\n",
              "      <th>13</th>\n",
              "      <td>None</td>\n",
              "      <td>None</td>\n",
              "      <td>None</td>\n",
              "      <td>None</td>\n",
              "      <td>None</td>\n",
              "      <td>None</td>\n",
              "      <td>S4</td>\n",
              "      <td>None</td>\n",
              "      <td>None</td>\n",
              "      <td>None</td>\n",
              "      <td>None</td>\n",
              "      <td>None</td>\n",
              "      <td>None</td>\n",
              "      <td>None</td>\n",
              "    </tr>\n",
              "  </tbody>\n",
              "</table>\n",
              "</div>\n",
              "    <div class=\"colab-df-buttons\">\n",
              "\n",
              "  <div class=\"colab-df-container\">\n",
              "    <button class=\"colab-df-convert\" onclick=\"convertToInteractive('df-4e6f228f-dda6-4c80-86b4-1eeb6209f3df')\"\n",
              "            title=\"Convert this dataframe to an interactive table.\"\n",
              "            style=\"display:none;\">\n",
              "\n",
              "  <svg xmlns=\"http://www.w3.org/2000/svg\" height=\"24px\" viewBox=\"0 -960 960 960\">\n",
              "    <path d=\"M120-120v-720h720v720H120Zm60-500h600v-160H180v160Zm220 220h160v-160H400v160Zm0 220h160v-160H400v160ZM180-400h160v-160H180v160Zm440 0h160v-160H620v160ZM180-180h160v-160H180v160Zm440 0h160v-160H620v160Z\"/>\n",
              "  </svg>\n",
              "    </button>\n",
              "\n",
              "  <style>\n",
              "    .colab-df-container {\n",
              "      display:flex;\n",
              "      gap: 12px;\n",
              "    }\n",
              "\n",
              "    .colab-df-convert {\n",
              "      background-color: #E8F0FE;\n",
              "      border: none;\n",
              "      border-radius: 50%;\n",
              "      cursor: pointer;\n",
              "      display: none;\n",
              "      fill: #1967D2;\n",
              "      height: 32px;\n",
              "      padding: 0 0 0 0;\n",
              "      width: 32px;\n",
              "    }\n",
              "\n",
              "    .colab-df-convert:hover {\n",
              "      background-color: #E2EBFA;\n",
              "      box-shadow: 0px 1px 2px rgba(60, 64, 67, 0.3), 0px 1px 3px 1px rgba(60, 64, 67, 0.15);\n",
              "      fill: #174EA6;\n",
              "    }\n",
              "\n",
              "    .colab-df-buttons div {\n",
              "      margin-bottom: 4px;\n",
              "    }\n",
              "\n",
              "    [theme=dark] .colab-df-convert {\n",
              "      background-color: #3B4455;\n",
              "      fill: #D2E3FC;\n",
              "    }\n",
              "\n",
              "    [theme=dark] .colab-df-convert:hover {\n",
              "      background-color: #434B5C;\n",
              "      box-shadow: 0px 1px 3px 1px rgba(0, 0, 0, 0.15);\n",
              "      filter: drop-shadow(0px 1px 2px rgba(0, 0, 0, 0.3));\n",
              "      fill: #FFFFFF;\n",
              "    }\n",
              "  </style>\n",
              "\n",
              "    <script>\n",
              "      const buttonEl =\n",
              "        document.querySelector('#df-4e6f228f-dda6-4c80-86b4-1eeb6209f3df button.colab-df-convert');\n",
              "      buttonEl.style.display =\n",
              "        google.colab.kernel.accessAllowed ? 'block' : 'none';\n",
              "\n",
              "      async function convertToInteractive(key) {\n",
              "        const element = document.querySelector('#df-4e6f228f-dda6-4c80-86b4-1eeb6209f3df');\n",
              "        const dataTable =\n",
              "          await google.colab.kernel.invokeFunction('convertToInteractive',\n",
              "                                                    [key], {});\n",
              "        if (!dataTable) return;\n",
              "\n",
              "        const docLinkHtml = 'Like what you see? Visit the ' +\n",
              "          '<a target=\"_blank\" href=https://colab.research.google.com/notebooks/data_table.ipynb>data table notebook</a>'\n",
              "          + ' to learn more about interactive tables.';\n",
              "        element.innerHTML = '';\n",
              "        dataTable['output_type'] = 'display_data';\n",
              "        await google.colab.output.renderOutput(dataTable, element);\n",
              "        const docLink = document.createElement('div');\n",
              "        docLink.innerHTML = docLinkHtml;\n",
              "        element.appendChild(docLink);\n",
              "      }\n",
              "    </script>\n",
              "  </div>\n",
              "\n",
              "\n",
              "<div id=\"df-81aea076-d845-48e5-8558-9fc2e820f20a\">\n",
              "  <button class=\"colab-df-quickchart\" onclick=\"quickchart('df-81aea076-d845-48e5-8558-9fc2e820f20a')\"\n",
              "            title=\"Suggest charts\"\n",
              "            style=\"display:none;\">\n",
              "\n",
              "<svg xmlns=\"http://www.w3.org/2000/svg\" height=\"24px\"viewBox=\"0 0 24 24\"\n",
              "     width=\"24px\">\n",
              "    <g>\n",
              "        <path d=\"M19 3H5c-1.1 0-2 .9-2 2v14c0 1.1.9 2 2 2h14c1.1 0 2-.9 2-2V5c0-1.1-.9-2-2-2zM9 17H7v-7h2v7zm4 0h-2V7h2v10zm4 0h-2v-4h2v4z\"/>\n",
              "    </g>\n",
              "</svg>\n",
              "  </button>\n",
              "\n",
              "<style>\n",
              "  .colab-df-quickchart {\n",
              "      --bg-color: #E8F0FE;\n",
              "      --fill-color: #1967D2;\n",
              "      --hover-bg-color: #E2EBFA;\n",
              "      --hover-fill-color: #174EA6;\n",
              "      --disabled-fill-color: #AAA;\n",
              "      --disabled-bg-color: #DDD;\n",
              "  }\n",
              "\n",
              "  [theme=dark] .colab-df-quickchart {\n",
              "      --bg-color: #3B4455;\n",
              "      --fill-color: #D2E3FC;\n",
              "      --hover-bg-color: #434B5C;\n",
              "      --hover-fill-color: #FFFFFF;\n",
              "      --disabled-bg-color: #3B4455;\n",
              "      --disabled-fill-color: #666;\n",
              "  }\n",
              "\n",
              "  .colab-df-quickchart {\n",
              "    background-color: var(--bg-color);\n",
              "    border: none;\n",
              "    border-radius: 50%;\n",
              "    cursor: pointer;\n",
              "    display: none;\n",
              "    fill: var(--fill-color);\n",
              "    height: 32px;\n",
              "    padding: 0;\n",
              "    width: 32px;\n",
              "  }\n",
              "\n",
              "  .colab-df-quickchart:hover {\n",
              "    background-color: var(--hover-bg-color);\n",
              "    box-shadow: 0 1px 2px rgba(60, 64, 67, 0.3), 0 1px 3px 1px rgba(60, 64, 67, 0.15);\n",
              "    fill: var(--button-hover-fill-color);\n",
              "  }\n",
              "\n",
              "  .colab-df-quickchart-complete:disabled,\n",
              "  .colab-df-quickchart-complete:disabled:hover {\n",
              "    background-color: var(--disabled-bg-color);\n",
              "    fill: var(--disabled-fill-color);\n",
              "    box-shadow: none;\n",
              "  }\n",
              "\n",
              "  .colab-df-spinner {\n",
              "    border: 2px solid var(--fill-color);\n",
              "    border-color: transparent;\n",
              "    border-bottom-color: var(--fill-color);\n",
              "    animation:\n",
              "      spin 1s steps(1) infinite;\n",
              "  }\n",
              "\n",
              "  @keyframes spin {\n",
              "    0% {\n",
              "      border-color: transparent;\n",
              "      border-bottom-color: var(--fill-color);\n",
              "      border-left-color: var(--fill-color);\n",
              "    }\n",
              "    20% {\n",
              "      border-color: transparent;\n",
              "      border-left-color: var(--fill-color);\n",
              "      border-top-color: var(--fill-color);\n",
              "    }\n",
              "    30% {\n",
              "      border-color: transparent;\n",
              "      border-left-color: var(--fill-color);\n",
              "      border-top-color: var(--fill-color);\n",
              "      border-right-color: var(--fill-color);\n",
              "    }\n",
              "    40% {\n",
              "      border-color: transparent;\n",
              "      border-right-color: var(--fill-color);\n",
              "      border-top-color: var(--fill-color);\n",
              "    }\n",
              "    60% {\n",
              "      border-color: transparent;\n",
              "      border-right-color: var(--fill-color);\n",
              "    }\n",
              "    80% {\n",
              "      border-color: transparent;\n",
              "      border-right-color: var(--fill-color);\n",
              "      border-bottom-color: var(--fill-color);\n",
              "    }\n",
              "    90% {\n",
              "      border-color: transparent;\n",
              "      border-bottom-color: var(--fill-color);\n",
              "    }\n",
              "  }\n",
              "</style>\n",
              "\n",
              "  <script>\n",
              "    async function quickchart(key) {\n",
              "      const quickchartButtonEl =\n",
              "        document.querySelector('#' + key + ' button');\n",
              "      quickchartButtonEl.disabled = true;  // To prevent multiple clicks.\n",
              "      quickchartButtonEl.classList.add('colab-df-spinner');\n",
              "      try {\n",
              "        const charts = await google.colab.kernel.invokeFunction(\n",
              "            'suggestCharts', [key], {});\n",
              "      } catch (error) {\n",
              "        console.error('Error during call to suggestCharts:', error);\n",
              "      }\n",
              "      quickchartButtonEl.classList.remove('colab-df-spinner');\n",
              "      quickchartButtonEl.classList.add('colab-df-quickchart-complete');\n",
              "    }\n",
              "    (() => {\n",
              "      let quickchartButtonEl =\n",
              "        document.querySelector('#df-81aea076-d845-48e5-8558-9fc2e820f20a button');\n",
              "      quickchartButtonEl.style.display =\n",
              "        google.colab.kernel.accessAllowed ? 'block' : 'none';\n",
              "    })();\n",
              "  </script>\n",
              "</div>\n",
              "    </div>\n",
              "  </div>\n"
            ]
          },
          "metadata": {},
          "execution_count": 84
        }
      ]
    },
    {
      "cell_type": "markdown",
      "source": [
        "####Visualisierung"
      ],
      "metadata": {
        "id": "YFSpQjR1wgt9"
      },
      "id": "YFSpQjR1wgt9"
    },
    {
      "cell_type": "code",
      "source": [
        "import matplotlib.pyplot as plt\n",
        "\n",
        "# Erstellen Sie eine Kopie der Ergebnismatrix, in der die Darkstores und Quadranten durch eindeutige numerische Werte repräsentiert werden\n",
        "num_matrix = ergebnis_matrix.copy()\n",
        "for i in range(14):\n",
        "    for j in range(14):\n",
        "        if num_matrix[i, j] is not None:\n",
        "            if \"S\" in num_matrix[i, j]:\n",
        "                num_matrix[i, j] = int(num_matrix[i, j].replace(\"S\", \"\"))\n",
        "            else:\n",
        "                num_matrix[i, j] = int(num_matrix[i, j])\n",
        "\n",
        "# Ersetzen Sie None-Werte durch einen speziellen numerischen Wert\n",
        "num_matrix[num_matrix == None] = -1\n",
        "\n",
        "# Konvertieren Sie die Matrix in eine Matrix von Gleitkommazahlen\n",
        "num_matrix = num_matrix.astype(float)\n",
        "\n",
        "# Ersetzen Sie den speziellen numerischen Wert durch NaN\n",
        "num_matrix[num_matrix == -1] = np.nan\n",
        "\n",
        "# Erstellen Sie eine Farbkarte, die jedem Darkstore eine eindeutige Farbe zuweist\n",
        "cmap = plt.get_cmap('tab10', int(np.nanmax(num_matrix) - np.nanmin(num_matrix) + 1))\n",
        "\n",
        "# Erstellen Sie eine Abbildung und eine Achse\n",
        "fig, ax = plt.subplots()\n",
        "\n",
        "# Erstellen Sie die Matrix als Bild\n",
        "cax = ax.matshow(num_matrix, cmap=cmap)\n",
        "\n",
        "# Erstellen Sie eine Farblegende\n",
        "cbar = fig.colorbar(cax, ticks=np.arange(np.nanmin(num_matrix), np.nanmax(num_matrix)+2))  # +2 statt +1\n",
        "labels = ['DS'+str(i) for i in range(int(np.nanmin(num_matrix)), int(np.nanmax(num_matrix))+2)]  # Beginnen Sie bei DS0\n",
        "cbar.ax.set_yticklabels(labels[:len(cbar.get_ticks())])  # Stellen Sie sicher, dass die Anzahl der Labels mit der Anzahl der Ticks übereinstimmt\n",
        "\n",
        "# Zeichnen Sie ein 'X' in die Zellen, die einen Darkstore repräsentieren\n",
        "for s in S:\n",
        "    if x[s].solution_value() == 1:\n",
        "        i, j = Koordinaten[s]['i_Koordinate'], Koordinaten[s]['j_Koordinate']\n",
        "        if 0 <= i < 14 and 0 <= j < 14:  # Stellen Sie sicher, dass die Koordinaten innerhalb der Matrix liegen\n",
        "            plt.text(j, i, f'S{str(s)}', ha='center', va='center', color='black')\n",
        "\n",
        "# Zeigen Sie das Bild an\n",
        "plt.show()"
      ],
      "metadata": {
        "id": "Gj66bhimhU7b",
        "colab": {
          "base_uri": "https://localhost:8080/",
          "height": 438
        },
        "outputId": "8e973191-922c-4e41-c375-96a80c8eb7bb"
      },
      "id": "Gj66bhimhU7b",
      "execution_count": 85,
      "outputs": [
        {
          "output_type": "display_data",
          "data": {
            "text/plain": [
              "<Figure size 640x480 with 2 Axes>"
            ],
            "image/png": "[encoded data removed]"
          },
          "metadata": {}
        }
      ]
    },
    {
      "cell_type": "code",
      "source": [],
      "metadata": {
        "id": "ytUrYbrBt_Ux"
      },
      "id": "ytUrYbrBt_Ux",
      "execution_count": 85,
      "outputs": []
    }
  ],
  "metadata": {
    "colab": {
      "provenance": [],
      "collapsed_sections": [
        "Znr8k3tIxdcn",
        "L1DkYz_FxqsJ",
        "UqD2MQ9Y5Lpo",
        "5MmzUUM2V8Tl",
        "OXm9lbWN5RKR",
        "CMhtK8srIt1_",
        "frf9th2CKEM2",
        "qWte2yItwig8"
      ],
      "include_colab_link": true
    },
    "kernelspec": {
      "display_name": "Python 3 (ipykernel)",
      "language": "python",
      "name": "python3"
    },
    "language_info": {
      "codemirror_mode": {
        "name": "ipython",
        "version": 3
      },
      "file_extension": ".py",
      "mimetype": "text/x-python",
      "name": "python",
      "nbconvert_exporter": "python",
      "pygments_lexer": "ipython3",
      "version": "3.8.5"
    }
  },
  "nbformat": 4,
  "nbformat_minor": 5
}