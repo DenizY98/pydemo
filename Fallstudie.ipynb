{
  "cells": [
    {
      "cell_type": "markdown",
      "metadata": {
        "id": "view-in-github",
        "colab_type": "text"
      },
      "source": [
        "<a href=\"https://colab.research.google.com/github/DenizY98/pydemo/blob/main/Fallstudie.ipynb\" target=\"_parent\"><img src=\"https://colab.research.google.com/assets/colab-badge.svg\" alt=\"Open In Colab\"/></a>"
      ]
    },
    {
      "cell_type": "markdown",
      "source": [
        "#Prozessoptimierung - Fallstudie"
      ],
      "metadata": {
        "id": "qeOaIiTPxVdX"
      },
      "id": "qeOaIiTPxVdX"
    },
    {
      "cell_type": "markdown",
      "source": [
        "##PIP, OR-Tools und Pandas"
      ],
      "metadata": {
        "id": "Znr8k3tIxdcn"
      },
      "id": "Znr8k3tIxdcn"
    },
    {
      "cell_type": "code",
      "execution_count": 1,
      "id": "LGrl_jqcfXzd",
      "metadata": {
        "id": "LGrl_jqcfXzd",
        "colab": {
          "base_uri": "https://localhost:8080/"
        },
        "outputId": "75213ffd-3155-49c9-ea27-6139bc431ecf"
      },
      "outputs": [
        {
          "output_type": "stream",
          "name": "stdout",
          "text": [
            "\u001b[2K     \u001b[90m━━━━━━━━━━━━━━━━━━━━━━━━━━━━━━━━━━━━━━━━\u001b[0m \u001b[32m2.1/2.1 MB\u001b[0m \u001b[31m7.2 MB/s\u001b[0m eta \u001b[36m0:00:00\u001b[0m\n",
            "\u001b[2K   \u001b[90m━━━━━━━━━━━━━━━━━━━━━━━━━━━━━━━━━━━━━━━━\u001b[0m \u001b[32m22.9/22.9 MB\u001b[0m \u001b[31m22.4 MB/s\u001b[0m eta \u001b[36m0:00:00\u001b[0m\n",
            "\u001b[2K   \u001b[90m━━━━━━━━━━━━━━━━━━━━━━━━━━━━━━━━━━━━━━━━\u001b[0m \u001b[32m133.7/133.7 kB\u001b[0m \u001b[31m7.6 MB/s\u001b[0m eta \u001b[36m0:00:00\u001b[0m\n",
            "\u001b[2K   \u001b[90m━━━━━━━━━━━━━━━━━━━━━━━━━━━━━━━━━━━━━━━━\u001b[0m \u001b[32m12.3/12.3 MB\u001b[0m \u001b[31m44.4 MB/s\u001b[0m eta \u001b[36m0:00:00\u001b[0m\n",
            "\u001b[2K   \u001b[90m━━━━━━━━━━━━━━━━━━━━━━━━━━━━━━━━━━━━━━━━\u001b[0m \u001b[32m294.6/294.6 kB\u001b[0m \u001b[31m18.3 MB/s\u001b[0m eta \u001b[36m0:00:00\u001b[0m\n",
            "\u001b[2K   \u001b[90m━━━━━━━━━━━━━━━━━━━━━━━━━━━━━━━━━━━━━━━━\u001b[0m \u001b[32m346.6/346.6 kB\u001b[0m \u001b[31m20.7 MB/s\u001b[0m eta \u001b[36m0:00:00\u001b[0m\n",
            "\u001b[?25h\u001b[31mERROR: pip's dependency resolver does not currently take into account all the packages that are installed. This behaviour is the source of the following dependency conflicts.\n",
            "lida 0.0.10 requires fastapi, which is not installed.\n",
            "lida 0.0.10 requires kaleido, which is not installed.\n",
            "lida 0.0.10 requires python-multipart, which is not installed.\n",
            "lida 0.0.10 requires uvicorn, which is not installed.\n",
            "bigframes 0.19.0 requires pandas<2.1.4,>=1.5.0, but you have pandas 2.1.4 which is incompatible.\n",
            "google-colab 1.0.0 requires pandas==1.5.3, but you have pandas 2.1.4 which is incompatible.\n",
            "tensorboard 2.15.1 requires protobuf<4.24,>=3.19.6, but you have protobuf 4.25.2 which is incompatible.\n",
            "tensorflow-metadata 1.14.0 requires absl-py<2.0.0,>=0.9, but you have absl-py 2.1.0 which is incompatible.\n",
            "tensorflow-metadata 1.14.0 requires protobuf<4.21,>=3.20.3, but you have protobuf 4.25.2 which is incompatible.\u001b[0m\u001b[31m\n",
            "\u001b[0m\u001b[33mWARNING: Running pip as the 'root' user can result in broken permissions and conflicting behaviour with the system package manager. It is recommended to use a virtual environment instead: https://pip.pypa.io/warnings/venv\u001b[0m\u001b[33m\n",
            "\u001b[0m"
          ]
        }
      ],
      "source": [
        "# Importieren der benötigten Bibliotheken\n",
        "!pip install -U -q pip\n",
        "!pip install -q ortools\n",
        "# Laden des Programms\n",
        "from ortools.linear_solver import pywraplp\n",
        "import pandas as pd\n",
        "# Initialisieren des Solvers\n",
        "solver = pywraplp.Solver.CreateSolver('SCIP')"
      ]
    },
    {
      "cell_type": "code",
      "execution_count": 2,
      "id": "I-5QslQG1kr3",
      "metadata": {
        "colab": {
          "base_uri": "https://localhost:8080/"
        },
        "id": "I-5QslQG1kr3",
        "outputId": "dff330c2-9dad-4dee-8325-f540a5a529b7"
      },
      "outputs": [
        {
          "output_type": "stream",
          "name": "stdout",
          "text": [
            "Cloning into 'Industrielles_Management'...\n",
            "remote: Enumerating objects: 110, done.\u001b[K\n",
            "remote: Counting objects: 100% (20/20), done.\u001b[K\n",
            "remote: Compressing objects: 100% (20/20), done.\u001b[K\n",
            "remote: Total 110 (delta 7), reused 0 (delta 0), pack-reused 90\u001b[K\n",
            "Receiving objects: 100% (110/110), 548.57 KiB | 7.41 MiB/s, done.\n",
            "Resolving deltas: 100% (39/39), done.\n"
          ]
        }
      ],
      "source": [
        "! git clone https://github.com/AlexKressner/Industrielles_Management"
      ]
    },
    {
      "cell_type": "code",
      "execution_count": 3,
      "id": "oL-HwWpZeg-J",
      "metadata": {
        "id": "oL-HwWpZeg-J"
      },
      "outputs": [],
      "source": [
        "path = \"Industrielles_Management/Daten/Fallstudie/\""
      ]
    },
    {
      "cell_type": "code",
      "source": [
        "#dataframes laden aus Daten der CSV-Dateien\n",
        "nachfrage_df = pd.read_csv(f\"{path}/FLINK_Nachfrage.csv\", sep=\";\", index_col=0) # Da Indizes in Datenquelle so festgelegt\n",
        "standorte_df = pd.read_csv(f\"{path}/FLINK_Standorte.csv\", sep=\";\")"
      ],
      "metadata": {
        "id": "el0oHm4LHmo1"
      },
      "id": "el0oHm4LHmo1",
      "execution_count": 4,
      "outputs": []
    },
    {
      "cell_type": "markdown",
      "source": [
        "##Ziel:\n",
        "Maximierung der bedienten Nachfrage innerhalb der vorgegebenen Lieferzeit und des Budgets.\n"
      ],
      "metadata": {
        "id": "Owirb-Fa5W8H"
      },
      "id": "Owirb-Fa5W8H"
    },
    {
      "cell_type": "markdown",
      "source": [
        "##Daten:\n"
      ],
      "metadata": {
        "id": "L1DkYz_FxqsJ"
      },
      "id": "L1DkYz_FxqsJ"
    },
    {
      "cell_type": "markdown",
      "source": [
        "###Indexmengen:\n",
        "$ Q = \\{q \\mid q = (i,j), i \\in \\{0, \\ldots, 12\\}, j \\in \\{0, \\ldots, 12\\}\\} $\n",
        "Menge aller Quadranten $ q $ als $( i , j )$ Tupel\n",
        "\n",
        "\n",
        "$ S = \\{s \\mid s \\in \\{0, \\ldots, 9\\}\\} $\n",
        "Menge aller potentieller DarkStores $ s $"
      ],
      "metadata": {
        "id": "O5J__6i85Xk8"
      },
      "id": "O5J__6i85Xk8"
    },
    {
      "cell_type": "code",
      "source": [
        "Q = [(i, j) for i in range(nachfrage_df.shape[0]) for j in range(nachfrage_df.shape[1])]  # Menge aller Quadranten als (i, j) Paare\n",
        "S = standorte_df['Potenzielle_Standorte'].to_list()  # Menge aller potentieller DarkStores"
      ],
      "metadata": {
        "id": "LxekcH9nEyGD"
      },
      "id": "LxekcH9nEyGD",
      "execution_count": 5,
      "outputs": []
    },
    {
      "cell_type": "markdown",
      "source": [
        "###Variablen:\n",
        "$ x_s \\in \\{0,1\\} \\quad \\forall s \\in S $: Binärvariable, die angibt, ob am Standort $ s $ ein Dark Store eingerichtet wird $1$ oder nicht $0$.\n",
        "\n",
        "$ y_{qs} \\in \\{0,1\\} \\quad \\forall q \\in Q, \\forall s \\in S $: Binärvariable, die angibt, ob der Standort $ s $ den Quadranten $ q (i,j) $ bedient $1$ oder nicht $0$."
      ],
      "metadata": {
        "id": "UqD2MQ9Y5Lpo"
      },
      "id": "UqD2MQ9Y5Lpo"
    },
    {
      "cell_type": "code",
      "source": [
        "x = {}\n",
        "for s in S:\n",
        "  x[s] = solver.BoolVar(f'x[{s}]')"
      ],
      "metadata": {
        "id": "zsUMPPxx5MWl"
      },
      "id": "zsUMPPxx5MWl",
      "execution_count": 6,
      "outputs": []
    },
    {
      "cell_type": "code",
      "source": [
        "y = {}\n",
        "for s in S:\n",
        "    for q in Q:\n",
        "        y[q, s] = solver.NumVar(0,1,f'y[{q},{s}]')"
      ],
      "metadata": {
        "id": "8UQDKrZJT8ki"
      },
      "id": "8UQDKrZJT8ki",
      "execution_count": 7,
      "outputs": []
    },
    {
      "cell_type": "markdown",
      "source": [
        "###Dictionaries:\n",
        "- Lagerumschlagsleistung je potentiellem Standort $ s $\n",
        "- Errichtungskosten je potentiellem Standort $ s $\n",
        "- Koordinaten je potentiellem Standort $ s $"
      ],
      "metadata": {
        "id": "5MmzUUM2V8Tl"
      },
      "id": "5MmzUUM2V8Tl"
    },
    {
      "cell_type": "code",
      "source": [
        "#Standorte Dataframe\n",
        "Lagerumschlagleistung = standorte_df.set_index('Potenzielle_Standorte')['Lagerumschlagleistung'].to_dict()\n",
        "Errichtungskosten = standorte_df.set_index('Potenzielle_Standorte')['Errichtungskosten'].to_dict()\n",
        "Koordinaten = standorte_df.set_index('Potenzielle_Standorte')[['i_Koordinate','j_Koordinate']].to_dict('index')"
      ],
      "metadata": {
        "id": "iyOqhWGCULrf"
      },
      "id": "iyOqhWGCULrf",
      "execution_count": 8,
      "outputs": []
    },
    {
      "cell_type": "markdown",
      "source": [
        "###Parameter:\n",
        "\n",
        "$ D_q $: Nachfrage im Quadranten $ q $ als Bestellungen pro Tag.\n",
        "\n",
        "$ L_s $: Lagerumschlagleistung des Standorts $ s $ als Bestellungen pro Tag.\n",
        "\n",
        "$ C_s $: Kosten für die Einrichtung eines Dark Stores am Standort $ s $.\n",
        "\n",
        "$ B $: Gesamtbudget für die Einrichtung von Dark Stores.\n",
        "\n",
        "$ T $: Maximale Lieferzeit $10 Minuten$.\n",
        "\n",
        "$ A $: Maximale Anzahl von Quadranten, die ein Fahrradkurier bedienen kann $5 Quadranten$.\n"
      ],
      "metadata": {
        "id": "OXm9lbWN5RKR"
      },
      "id": "OXm9lbWN5RKR"
    },
    {
      "cell_type": "code",
      "source": [
        "D = {q: nachfrage_df.iat[q[0],q[1]] for q in Q} # Nachfrage im Quadranten q als Bestellungen pro Tag\n",
        "L = {s: Lagerumschlagleistung[s] for s in S}  # Lagerumschlagleistung des Standorts s als Bestellungen pro Tag\n",
        "C = {s: Errichtungskosten[s] for s in S}  # Kosten für die Einrichtung eines Dark Stores am Standort s\n",
        "B = 1000000  # Gesamtbudget für die Einrichtung von Dark Stores\n",
        "G = 25  # Geschwindigkeit in KM/H\n",
        "T = 10  # Maximale Lieferzeit 10 Minuten\n",
        "TF1= 3  # Zeitfresser in Minuten Warenbereitstellung AE\n",
        "TF2= 1  # Zeitfresser in Minuten Warenübergabe beim Kunden\n",
        "TV= (T-TF1-TF2) # Verbleibende Zeit abzüglich Zeitfressern\n",
        "A = round((TV/2)/0.25*G/60, None) # max Reichweite in Quadranten für eine Richtung"
      ],
      "metadata": {
        "id": "bRDM-jqX5Rzi"
      },
      "id": "bRDM-jqX5Rzi",
      "execution_count": 11,
      "outputs": []
    },
    {
      "cell_type": "markdown",
      "source": [
        "###Restriktionen:\n",
        "####Nachfragerestriktionen: $\n",
        "\\sum_{s \\in S} y_{qs} \\leq 1 \\quad \\forall q \\in Q $\n",
        "Jeder Quadrant wird von höchstens einem Dark Store bedient\n",
        "####Budgetrestriktion: $\n",
        "\\sum_{s \\in S} x_s \\cdot C_s \\leq B $\n",
        "Ein Dark Store kann nur eingerichtet werden, wenn das Budget dies zulässt\n",
        "####Lagerumschlagleistungsrestriktionen: $\n",
        "\\sum_{q \\in Q} y_{qs} \\cdot D_{q} \\leq x_s \\cdot L_s \\quad \\forall s \\in S $\n",
        "Die Nachfrage eines Quadranten kann nur bedient werden, wenn die Lagerumschlagleistung ausreicht und ein Dark Store vorhanden ist\n",
        "####Reichweitenrestriktion für Fahrradkuriere: $\n",
        "\\text{Strecke}(s, q) > 5 \\Rightarrow y_{qs} = 0 \\quad \\forall q \\in Q, \\forall s \\in S $\n",
        "Die Anzahl der von einem Fahrradkurier zurückgelegten Quadranten $Strecke$ darf nie größer $A$ sein, falls bestätigt, dass Quadrant $q$ von Standort $s$ beliefert wird.\n",
        "<!--\n",
        "####Liefergebietsrestriktionen: $\n",
        "\\sum_{q \\in Q} y_{qs} \\leq S_{\\text{max}} \\cdot x_s \\quad \\forall s \\in S\n",
        "$\n",
        "Die Anzahl der von einem Dark Store bedienten Quadranten ist auf $ S_{\\text{max}} $ beschränkt -->"
      ],
      "metadata": {
        "id": "CMhtK8srIt1_"
      },
      "id": "CMhtK8srIt1_"
    },
    {
      "cell_type": "markdown",
      "source": [
        "$\\text{Strecke}(s, q) > 5 \\Rightarrow y_{qs} = 0 \\quad \\forall q \\in Q, \\forall s \\in S $\n"
      ],
      "metadata": {
        "id": "lywRzu18K4ey"
      },
      "id": "lywRzu18K4ey"
    },
    {
      "cell_type": "code",
      "source": [
        "# Nachfragerestriktionen\n",
        "for q in Q:\n",
        "    solver.Add(solver.Sum([y[q, s] for s in S]) <= 1)\n",
        "\n",
        "# Budgetrestriktion\n",
        "solver.Add(solver.Sum([x[s] * C[s] for s in S]) <= B)\n",
        "\n",
        "#Lagerumschlagleistungsrestriktionen\n",
        "for s in S:\n",
        "    solver.Add(solver.Sum([y[q, s] * D[q] for q in Q]) <= x[s] * L[s])\n",
        "# Reichweitenrestriktion für Fahrradkuriere\n",
        "for s in S:\n",
        "    for q in Q:\n",
        "        # Berechnung der Manhattan-Distanz zwischen dem Standort s und dem Quadranten q\n",
        "        distance = abs(Koordinaten[s]['i_Koordinate'] - q[0]) + abs(Koordinaten[s]['j_Koordinate'] - q[1])\n",
        "        if distance > 5:\n",
        "            solver.Add(y[q, s] == 0)\n"
      ],
      "metadata": {
        "id": "XDO4De8wWozA"
      },
      "id": "XDO4De8wWozA",
      "execution_count": 14,
      "outputs": []
    },
    {
      "cell_type": "markdown",
      "source": [
        "##Lösung:\n",
        "###Zielfunktion:\n",
        "Maximiere die gesamte bediente Nachfrage:\n",
        "\n",
        "$ \\text{Max} \\sum_{sq} y_{qs} \\cdot D_q $"
      ],
      "metadata": {
        "id": "frf9th2CKEM2"
      },
      "id": "frf9th2CKEM2"
    },
    {
      "cell_type": "code",
      "source": [
        "# Zielfunktion\n",
        "solver.Maximize(solver.Sum([y[q, s] * D[q] for q in Q for s in S]))\n",
        "# Lösen des Modells\n",
        "status = solver.Solve()"
      ],
      "metadata": {
        "id": "LB5bCUe9amx6"
      },
      "id": "LB5bCUe9amx6",
      "execution_count": 15,
      "outputs": []
    },
    {
      "cell_type": "code",
      "source": [
        "# Ausgabe der Lösung\n",
        "if status == pywraplp.Solver.OPTIMAL:\n",
        "    print('Lösung gefunden:')\n",
        "    for s in S:\n",
        "        if x[s].solution_value() == 1:\n",
        "            print(f'Standort {s} wird eingerichtet.')\n",
        "            for q in Q:\n",
        "                if y[q, s].solution_value() == 1:\n",
        "                    print(f'Quadrant {q} wird von Standort {s} bedient.')\n",
        "else:\n",
        "    print('Keine optimale Lösung gefunden.')"
      ],
      "metadata": {
        "id": "IOmJ8X0MZv5P"
      },
      "id": "IOmJ8X0MZv5P",
      "execution_count": null,
      "outputs": []
    },
    {
      "cell_type": "code",
      "source": [
        "print('Zielfunktionswert (Kosten) =', solver.Objective().Value())"
      ],
      "metadata": {
        "colab": {
          "base_uri": "https://localhost:8080/"
        },
        "id": "oERlDwlImkzd",
        "outputId": "42d23227-ec62-4989-ebfa-293a9f568831"
      },
      "id": "oERlDwlImkzd",
      "execution_count": 17,
      "outputs": [
        {
          "output_type": "stream",
          "name": "stdout",
          "text": [
            "Zielfunktionswert (Kosten) = 7482.000000000001\n"
          ]
        }
      ]
    },
    {
      "cell_type": "markdown",
      "source": [
        "### Darstellung als Matrix, DF oder MatPlot"
      ],
      "metadata": {
        "id": "qWte2yItwig8"
      },
      "id": "qWte2yItwig8"
    },
    {
      "cell_type": "code",
      "source": [
        "import numpy as np\n",
        "# Erstellen Sie eine leere Matrix der gleichen Größe wie Ihr Quadrantengitter\n",
        "ergebnis_matrix = np.empty((14, 14), dtype=object)  # Größe angepasst, um Store i_Koordinate von 13 zu berücksichtigen\n",
        "\n",
        "# Füllen Sie die Matrix mit den Ergebnissen Ihres Modells\n",
        "for s in S:\n",
        "    if x[s].solution_value() == 1:\n",
        "        # Wenn ein Darkstore an diesem Standort errichtet wurde, markieren Sie die Zelle mit \"DS\"\n",
        "        for q in Q:\n",
        "            # Überprüfen Sie, ob der Quadrant von diesem Standort bedient wird\n",
        "            if y[q, s].solution_value() == 1:\n",
        "                # Wenn ja, fügen Sie die Nummer des beliefernden Darkstores hinzu\n",
        "                ergebnis_matrix[q[0], q[1]] = str(s)\n",
        "\n",
        "# Nachdem alle Quadranten bedient wurden, gehen Sie erneut über alle Standorte in S\n",
        "for s in S:\n",
        "    if x[s].solution_value() == 1:\n",
        "        # Wenn ein Darkstore an diesem Standort errichtet wurde, markieren Sie die Zelle mit \"DS\"\n",
        "        i, j = Koordinaten[s]['i_Koordinate'], Koordinaten[s]['j_Koordinate']\n",
        "        if 0 <= i < 14 and 0 <= j < 14:  # Stellen Sie sicher, dass die Koordinaten innerhalb der Matrix liegen\n",
        "            ergebnis_matrix[i, j] = \"S\" + str(s)\n",
        "\n",
        "# Ausgabe der Ergebnismatrix\n",
        "ergebnis_df = pd.DataFrame(ergebnis_matrix)\n",
        "ergebnis_df"
      ],
      "metadata": {
        "id": "VZ5UnwtMcGJS"
      },
      "id": "VZ5UnwtMcGJS",
      "execution_count": null,
      "outputs": []
    },
    {
      "cell_type": "markdown",
      "source": [
        "####Visualisierung"
      ],
      "metadata": {
        "id": "YFSpQjR1wgt9"
      },
      "id": "YFSpQjR1wgt9"
    },
    {
      "cell_type": "code",
      "source": [
        "import matplotlib.pyplot as plt\n",
        "\n",
        "# Erstellen Sie eine Kopie der Ergebnismatrix, in der die Darkstores und Quadranten durch eindeutige numerische Werte repräsentiert werden\n",
        "num_matrix = ergebnis_matrix.copy()\n",
        "for i in range(14):\n",
        "    for j in range(14):\n",
        "        if num_matrix[i, j] is not None:\n",
        "            if \"S\" in num_matrix[i, j]:\n",
        "                num_matrix[i, j] = int(num_matrix[i, j].replace(\"S\", \"\"))\n",
        "            else:\n",
        "                num_matrix[i, j] = int(num_matrix[i, j])\n",
        "\n",
        "# Ersetzen Sie None-Werte durch einen speziellen numerischen Wert\n",
        "num_matrix[num_matrix == None] = -1\n",
        "\n",
        "# Konvertieren Sie die Matrix in eine Matrix von Gleitkommazahlen\n",
        "num_matrix = num_matrix.astype(float)\n",
        "\n",
        "# Ersetzen Sie den speziellen numerischen Wert durch NaN\n",
        "num_matrix[num_matrix == -1] = np.nan\n",
        "\n",
        "# Erstellen Sie eine Farbkarte, die jedem Darkstore eine eindeutige Farbe zuweist\n",
        "cmap = plt.get_cmap('tab10', int(np.nanmax(num_matrix) - np.nanmin(num_matrix) + 1))\n",
        "\n",
        "# Erstellen Sie eine Abbildung und eine Achse\n",
        "fig, ax = plt.subplots()\n",
        "\n",
        "# Erstellen Sie die Matrix als Bild\n",
        "cax = ax.matshow(num_matrix, cmap=cmap)\n",
        "\n",
        "# Erstellen Sie eine Farblegende\n",
        "cbar = fig.colorbar(cax, ticks=np.arange(np.nanmin(num_matrix), np.nanmax(num_matrix)+2))  # +2 statt +1\n",
        "labels = ['DS'+str(i) for i in range(int(np.nanmin(num_matrix)), int(np.nanmax(num_matrix))+2)]  # Beginnen Sie bei DS0\n",
        "cbar.ax.set_yticklabels(labels[:len(cbar.get_ticks())])  # Stellen Sie sicher, dass die Anzahl der Labels mit der Anzahl der Ticks übereinstimmt\n",
        "\n",
        "# Zeichnen Sie ein 'X' in die Zellen, die einen Darkstore repräsentieren\n",
        "for s in S:\n",
        "    if x[s].solution_value() == 1:\n",
        "        i, j = Koordinaten[s]['i_Koordinate'], Koordinaten[s]['j_Koordinate']\n",
        "        if 0 <= i < 14 and 0 <= j < 14:  # Stellen Sie sicher, dass die Koordinaten innerhalb der Matrix liegen\n",
        "            plt.text(j, i, f'S{str(s)}', ha='center', va='center', color='black')\n",
        "\n",
        "# Zeigen Sie das Bild an\n",
        "plt.show()"
      ],
      "metadata": {
        "id": "Gj66bhimhU7b",
        "colab": {
          "base_uri": "https://localhost:8080/",
          "height": 438
        },
        "outputId": "cf6fff9a-2e04-464c-adab-2578916d9714"
      },
      "id": "Gj66bhimhU7b",
      "execution_count": null,
      "outputs": [
        {
          "output_type": "display_data",
          "data": {
            "text/plain": [
              "<Figure size 640x480 with 2 Axes>"
            ],
            "image/png": "[encoded data removed]"
          },
          "metadata": {}
        }
      ]
    },
    {
      "cell_type": "code",
      "source": [],
      "metadata": {
        "id": "ytUrYbrBt_Ux"
      },
      "id": "ytUrYbrBt_Ux",
      "execution_count": null,
      "outputs": []
    }
  ],
  "metadata": {
    "colab": {
      "provenance": [],
      "collapsed_sections": [
        "Znr8k3tIxdcn"
      ],
      "include_colab_link": true
    },
    "kernelspec": {
      "display_name": "Python 3 (ipykernel)",
      "language": "python",
      "name": "python3"
    },
    "language_info": {
      "codemirror_mode": {
        "name": "ipython",
        "version": 3
      },
      "file_extension": ".py",
      "mimetype": "text/x-python",
      "name": "python",
      "nbconvert_exporter": "python",
      "pygments_lexer": "ipython3",
      "version": "3.8.5"
    }
  },
  "nbformat": 4,
  "nbformat_minor": 5
}