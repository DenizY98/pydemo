{
  "cells": [
    {
      "cell_type": "markdown",
      "metadata": {
        "id": "view-in-github",
        "colab_type": "text"
      },
      "source": [
        "<a href=\"https://colab.research.google.com/github/DenizY98/pydemo/blob/main/Fallstudie.ipynb\" target=\"_parent\"><img src=\"https://colab.research.google.com/assets/colab-badge.svg\" alt=\"Open In Colab\"/></a>"
      ]
    },
    {
      "cell_type": "code",
      "execution_count": 1,
      "id": "LGrl_jqcfXzd",
      "metadata": {
        "id": "LGrl_jqcfXzd",
        "colab": {
          "base_uri": "https://localhost:8080/"
        },
        "outputId": "f8c09d86-ed53-40b8-ee39-042772597f45"
      },
      "outputs": [
        {
          "output_type": "stream",
          "name": "stdout",
          "text": [
            "\u001b[33mWARNING: Running pip as the 'root' user can result in broken permissions and conflicting behaviour with the system package manager. It is recommended to use a virtual environment instead: https://pip.pypa.io/warnings/venv\u001b[0m\u001b[33m\n",
            "\u001b[0m\u001b[33mWARNING: Running pip as the 'root' user can result in broken permissions and conflicting behaviour with the system package manager. It is recommended to use a virtual environment instead: https://pip.pypa.io/warnings/venv\u001b[0m\u001b[33m\n",
            "\u001b[0m"
          ]
        }
      ],
      "source": [
        "# Importieren der benötigten Bibliotheken\n",
        "!pip install -U -q pip\n",
        "!pip install -q ortools\n",
        "# Laden des Programms\n",
        "from ortools.linear_solver import pywraplp\n",
        "import pandas as pd\n",
        "# Initialisieren des Solvers\n",
        "solver = pywraplp.Solver.CreateSolver('SCIP')"
      ]
    },
    {
      "cell_type": "code",
      "execution_count": 2,
      "id": "I-5QslQG1kr3",
      "metadata": {
        "colab": {
          "base_uri": "https://localhost:8080/"
        },
        "id": "I-5QslQG1kr3",
        "outputId": "e2cea9fa-c44f-49bf-e615-cee93b0e93bd"
      },
      "outputs": [
        {
          "output_type": "stream",
          "name": "stdout",
          "text": [
            "fatal: destination path 'Industrielles_Management' already exists and is not an empty directory.\n"
          ]
        }
      ],
      "source": [
        "! git clone https://github.com/AlexKressner/Industrielles_Management"
      ]
    },
    {
      "cell_type": "code",
      "execution_count": 3,
      "id": "oL-HwWpZeg-J",
      "metadata": {
        "id": "oL-HwWpZeg-J"
      },
      "outputs": [],
      "source": [
        "path = \"Industrielles_Management/Daten/Fallstudie/\""
      ]
    },
    {
      "cell_type": "code",
      "source": [
        "#dataframes laden aus Daten der CSV-Dateien\n",
        "nachfrage_df = pd.read_csv(f\"{path}/FLINK_Nachfrage.csv\", sep=\";\", index_col=0)\n",
        "standorte_df = pd.read_csv(f\"{path}/FLINK_Standorte.csv\", sep=\";\")\n"
      ],
      "metadata": {
        "id": "el0oHm4LHmo1"
      },
      "id": "el0oHm4LHmo1",
      "execution_count": 4,
      "outputs": []
    },
    {
      "cell_type": "markdown",
      "source": [
        "###Ziel:\n",
        "Maximierung der bedienten Nachfrage innerhalb der vorgegebenen Lieferyeit und des Budgets."
      ],
      "metadata": {
        "id": "Owirb-Fa5W8H"
      },
      "id": "Owirb-Fa5W8H"
    },
    {
      "cell_type": "markdown",
      "source": [
        "###Indexmengen:\n",
        "$ Q = \\{q \\mid q = (i,j), i \\in \\{0, \\ldots, 12\\}, j \\in \\{0, \\ldots, 12\\}\\} $\n",
        "Menge aller Quadranten $ q $ als $( i , j )$ Tupel\n",
        "\n",
        "\n",
        "$ S = \\{s \\mid s \\in \\{0, \\ldots, 9\\}\\} $\n",
        "Menge aller potentieller DarkStores $ s $"
      ],
      "metadata": {
        "id": "O5J__6i85Xk8"
      },
      "id": "O5J__6i85Xk8"
    },
    {
      "cell_type": "code",
      "source": [
        "Q = [(i, j) for i in range(13) for j in range(13)]  # Menge aller Quadranten als (i, j) Paare\n",
        "S = standorte_df['Potenzielle_Standorte'].to_list()  # Menge aller potentieller DarkStores"
      ],
      "metadata": {
        "id": "LxekcH9nEyGD"
      },
      "id": "LxekcH9nEyGD",
      "execution_count": 5,
      "outputs": []
    },
    {
      "cell_type": "markdown",
      "source": [
        "###Variablen:\n",
        "$ x_s \\in \\{0,1\\} \\quad \\forall s \\in S $: Binärvariable, die angibt, ob am Standort $ s $ ein Dark Store eingerichtet wird $1$ oder nicht $0$.\n",
        "\n",
        "$ y_{qs} \\in \\{0,1\\} \\quad \\forall q \\in Q, \\forall s \\in S $: Binärvariable, die angibt, ob der Standort $ s $ den Quadranten $ q (i,j) $ bedient $1$ oder nicht $0$."
      ],
      "metadata": {
        "id": "UqD2MQ9Y5Lpo"
      },
      "id": "UqD2MQ9Y5Lpo"
    },
    {
      "cell_type": "code",
      "source": [
        "x = {}\n",
        "for s in S:\n",
        "  x[s] = solver.BoolVar(f'x[{s}]')"
      ],
      "metadata": {
        "id": "zsUMPPxx5MWl"
      },
      "id": "zsUMPPxx5MWl",
      "execution_count": 6,
      "outputs": []
    },
    {
      "cell_type": "code",
      "source": [
        "y = {}\n",
        "for s in S:\n",
        "    for q in Q:\n",
        "        y[q, s] = solver.BoolVar(f'y[{q},{s}]')"
      ],
      "metadata": {
        "id": "8UQDKrZJT8ki"
      },
      "id": "8UQDKrZJT8ki",
      "execution_count": 7,
      "outputs": []
    },
    {
      "cell_type": "markdown",
      "source": [
        "###Dictionaries:"
      ],
      "metadata": {
        "id": "5MmzUUM2V8Tl"
      },
      "id": "5MmzUUM2V8Tl"
    },
    {
      "cell_type": "code",
      "source": [
        "#Standorte Dataframe\n",
        "Lagerumschlagleistung = standorte_df.set_index('Potenzielle_Standorte')['Lagerumschlagleistung'].to_dict()\n",
        "Errichtungskosten = standorte_df.set_index('Potenzielle_Standorte')['Errichtungskosten'].to_dict()\n",
        "Koordinaten = standorte_df.set_index('Potenzielle_Standorte')[['i_Koordinate', 'j_Koordinate']].to_dict('index')"
      ],
      "metadata": {
        "id": "iyOqhWGCULrf"
      },
      "id": "iyOqhWGCULrf",
      "execution_count": 8,
      "outputs": []
    },
    {
      "cell_type": "code",
      "source": [
        "# Umstrukturierung der nachfrage_df DataFrame, um die Spalten 'i' und 'j' zu erhalten\n",
        "nachfrage_df = nachfrage_df.reset_index().melt(id_vars='index', var_name='j', value_name='Nachfrage')\n",
        "nachfrage_df.rename(columns={'index': 'i'}, inplace=True)\n",
        "nachfrage_df['j'] = nachfrage_df['j'].astype(int)  # Konvertierung der Spalte 'j' in den Typ int\n",
        "# Erstellung des nachfrage_dict Wörterbuchs\n",
        "Nachfrage = nachfrage_df.set_index(['i', 'j']).to_dict('index')"
      ],
      "metadata": {
        "id": "4Sn3G_fQV7HP"
      },
      "id": "4Sn3G_fQV7HP",
      "execution_count": 10,
      "outputs": []
    },
    {
      "cell_type": "markdown",
      "source": [
        "###Parameter:\n",
        "\n",
        "$ D_q $: Nachfrage im Quadranten $ q $ als Bestellungen pro Tag.\n",
        "\n",
        "$ L_s $: Lagerumschlagleistung des Standorts $ s $ als Bestellungen pro Tag.\n",
        "\n",
        "$ C_s $: Kosten für die Einrichtung eines Dark Stores am Standort $ s $.\n",
        "\n",
        "$ B $: Gesamtbudget für die Einrichtung von Dark Stores.\n",
        "\n",
        "$ T $: Maximale Lieferzeit $10 Minuten$.\n",
        "\n",
        "$ A $: Maximale Anzahl von Quadranten, die ein Fahrradkurier bedienen kann $5 Quadranten$.\n",
        "\n",
        "$ S_{\\text{max}} $: Maximal belieferbare Quadranten je Darkstore."
      ],
      "metadata": {
        "id": "OXm9lbWN5RKR"
      },
      "id": "OXm9lbWN5RKR"
    },
    {
      "cell_type": "code",
      "source": [
        "D = {q: Nachfrage[q]['Nachfrage'] for q in Q}  # Nachfrage im Quadranten q als Bestellungen pro Tag\n",
        "L = {s: Lagerumschlagleistung[s] for s in S}  # Lagerumschlagleistung des Standorts s als Bestellungen pro Tag\n",
        "C = {s: Errichtungskosten[s] for s in S}  # Kosten für die Einrichtung eines Dark Stores am Standort s\n",
        "B = 1000000  # Gesamtbudget für die Einrichtung von Dark Stores\n",
        "T = 20  # Maximale Lieferzeit 10 Minuten\n",
        "A = T/2  # Maximale Anzahl von Quadranten, die ein Fahrradkurier bedienen kann 5 Quadranten"
      ],
      "metadata": {
        "id": "bRDM-jqX5Rzi"
      },
      "id": "bRDM-jqX5Rzi",
      "execution_count": 17,
      "outputs": []
    },
    {
      "cell_type": "markdown",
      "source": [
        "###Restriktionen:\n",
        "####Nachfragerestriktionen: $\n",
        "\\sum_{s \\in S} y_{qs} \\leq 1 \\quad \\forall q \\in Q $\n",
        "Jeder Quadrant wird von höchstens einem Dark Store bedient\n",
        "####Budgetrestriktion: $\n",
        "\\sum_{s \\in S} x_s \\cdot C_s \\leq B $\n",
        "Ein Dark Store kann nur eingerichtet werden, wenn das Budget dies zulässt\n",
        "####Lagerumschlagleistungsrestriktionen: $\n",
        "\\sum_{q \\in Q} y_{qs} \\cdot D_{q} \\leq x_s \\cdot L_s \\quad \\forall s \\in S $\n",
        "Die Nachfrage eines Quadranten kann nur bedient werden, wenn die Lagerumschlagleistung ausreicht und ein Dark Store vorhanden ist\n",
        "####Reichweitenrestriktion für Fahrradkuriere: $\n",
        "\\text{Strecke}(s, q) > 5 \\Rightarrow y_{qs} = 0 \\quad \\forall q \\in Q, \\forall s \\in S $\n",
        "Die Anzahl der von einem Fahrradkurier zurückgelegten Quadranten $Strecke$ darf nie größer $A$ sein, falls bestätigt, dass Quadrant $q$ von Standort $s$ beliefert wird.\n",
        "<!--\n",
        "####Liefergebietsrestriktionen: $\n",
        "\\sum_{q \\in Q} y_{qs} \\leq S_{\\text{max}} \\cdot x_s \\quad \\forall s \\in S\n",
        "$\n",
        "Die Anzahl der von einem Dark Store bedienten Quadranten ist auf $ S_{\\text{max}} $ beschränkt -->"
      ],
      "metadata": {
        "id": "CMhtK8srIt1_"
      },
      "id": "CMhtK8srIt1_"
    },
    {
      "cell_type": "code",
      "source": [
        "# Nachfragerestriktionen\n",
        "for q in Q:\n",
        "    solver.Add(solver.Sum([y[(q, s)] for s in S]) <= 1)\n",
        "\n",
        "# Budgetrestriktion\n",
        "solver.Add(solver.Sum([x[s] * C[s] for s in S]) <= B)\n",
        "\n",
        "# Lagerumschlagleistungsrestriktionen\n",
        "for s in S:\n",
        "    solver.Add(solver.Sum([y[(q, s)] * D[q] for q in Q]) <= x[s] * L[s])\n",
        "\n",
        "# Reichweitenrestriktion für Fahrradkuriere\n",
        "for s in S:\n",
        "    for q in Q:\n",
        "        # Berechnung der Manhattan-Distanz zwischen dem Standort s und dem Quadranten q\n",
        "        distance = abs(Koordinaten[s]['i_Koordinate'] - q[0]) + abs(Koordinaten[s]['j_Koordinate'] - q[1])\n",
        "        if distance > 5:\n",
        "            solver.Add(y[q, s] == 0)\n",
        "# Liefergebietsrestriktionen\n",
        "# Smax = 1  # Maximale Anzahl von Quadranten, die ein Standort bedienen kann\n",
        "# for s in S:\n",
        "#     solver.Add(solver.Sum([y[(q, s)] for q in Q]) <= Smax * x[s])"
      ],
      "metadata": {
        "id": "XDO4De8wWozA"
      },
      "id": "XDO4De8wWozA",
      "execution_count": 18,
      "outputs": []
    },
    {
      "cell_type": "markdown",
      "source": [
        "\n",
        "###Zielfunktion:\n",
        "Maximiere die gesamte bediente Nachfrage:\n",
        "\n",
        "$ \\text{Max} \\sum_{sq} y_{qs} \\cdot D_q $"
      ],
      "metadata": {
        "id": "frf9th2CKEM2"
      },
      "id": "frf9th2CKEM2"
    },
    {
      "cell_type": "code",
      "source": [
        "# Zielfunktion\n",
        "solver.Maximize(solver.Sum([y[q, s] * D[q] for q in Q for s in S]))\n",
        "# Lösen des Modells\n",
        "status = solver.Solve()"
      ],
      "metadata": {
        "id": "LB5bCUe9amx6"
      },
      "id": "LB5bCUe9amx6",
      "execution_count": 19,
      "outputs": []
    },
    {
      "cell_type": "code",
      "source": [
        "# Ausgabe der Lösung\n",
        "if status == pywraplp.Solver.OPTIMAL:\n",
        "    print('Lösung gefunden:')\n",
        "    for s in S:\n",
        "        if x[s].solution_value() == 1:\n",
        "            print(f'Standort {s} wird eingerichtet.')\n",
        "            for q in Q:\n",
        "                if y[q, s].solution_value() == 1:\n",
        "                    print(f'Quadrant {q} wird von Standort {s} bedient.')\n",
        "else:\n",
        "    print('Keine optimale Lösung gefunden.')"
      ],
      "metadata": {
        "colab": {
          "base_uri": "https://localhost:8080/"
        },
        "id": "IOmJ8X0MZv5P",
        "outputId": "d4adce1c-2126-49ad-d0ab-b4221598ae04"
      },
      "id": "IOmJ8X0MZv5P",
      "execution_count": 20,
      "outputs": [
        {
          "output_type": "stream",
          "name": "stdout",
          "text": [
            "Lösung gefunden:\n",
            "Standort 1 wird eingerichtet.\n",
            "Quadrant (6, 12) wird von Standort 1 bedient.\n",
            "Quadrant (7, 11) wird von Standort 1 bedient.\n",
            "Quadrant (7, 12) wird von Standort 1 bedient.\n",
            "Quadrant (8, 12) wird von Standort 1 bedient.\n",
            "Quadrant (9, 8) wird von Standort 1 bedient.\n",
            "Quadrant (9, 10) wird von Standort 1 bedient.\n",
            "Quadrant (9, 11) wird von Standort 1 bedient.\n",
            "Quadrant (9, 12) wird von Standort 1 bedient.\n",
            "Quadrant (10, 10) wird von Standort 1 bedient.\n",
            "Quadrant (11, 11) wird von Standort 1 bedient.\n",
            "Quadrant (12, 10) wird von Standort 1 bedient.\n",
            "Standort 2 wird eingerichtet.\n",
            "Quadrant (8, 1) wird von Standort 2 bedient.\n",
            "Quadrant (9, 0) wird von Standort 2 bedient.\n",
            "Quadrant (9, 1) wird von Standort 2 bedient.\n",
            "Quadrant (9, 2) wird von Standort 2 bedient.\n",
            "Quadrant (9, 3) wird von Standort 2 bedient.\n",
            "Quadrant (10, 0) wird von Standort 2 bedient.\n",
            "Quadrant (10, 1) wird von Standort 2 bedient.\n",
            "Quadrant (10, 2) wird von Standort 2 bedient.\n",
            "Quadrant (11, 0) wird von Standort 2 bedient.\n",
            "Quadrant (11, 1) wird von Standort 2 bedient.\n",
            "Quadrant (11, 2) wird von Standort 2 bedient.\n",
            "Quadrant (11, 3) wird von Standort 2 bedient.\n",
            "Quadrant (12, 1) wird von Standort 2 bedient.\n",
            "Standort 3 wird eingerichtet.\n",
            "Quadrant (6, 10) wird von Standort 3 bedient.\n",
            "Quadrant (7, 9) wird von Standort 3 bedient.\n",
            "Quadrant (7, 10) wird von Standort 3 bedient.\n",
            "Quadrant (8, 10) wird von Standort 3 bedient.\n",
            "Quadrant (9, 9) wird von Standort 3 bedient.\n",
            "Quadrant (10, 5) wird von Standort 3 bedient.\n",
            "Quadrant (10, 6) wird von Standort 3 bedient.\n",
            "Quadrant (10, 9) wird von Standort 3 bedient.\n",
            "Quadrant (10, 11) wird von Standort 3 bedient.\n",
            "Quadrant (10, 12) wird von Standort 3 bedient.\n",
            "Quadrant (11, 7) wird von Standort 3 bedient.\n",
            "Quadrant (11, 9) wird von Standort 3 bedient.\n",
            "Quadrant (11, 10) wird von Standort 3 bedient.\n",
            "Quadrant (11, 12) wird von Standort 3 bedient.\n",
            "Quadrant (12, 11) wird von Standort 3 bedient.\n",
            "Quadrant (12, 12) wird von Standort 3 bedient.\n",
            "Standort 4 wird eingerichtet.\n",
            "Quadrant (9, 5) wird von Standort 4 bedient.\n",
            "Quadrant (9, 7) wird von Standort 4 bedient.\n",
            "Quadrant (10, 4) wird von Standort 4 bedient.\n",
            "Quadrant (10, 7) wird von Standort 4 bedient.\n",
            "Quadrant (10, 8) wird von Standort 4 bedient.\n",
            "Quadrant (11, 4) wird von Standort 4 bedient.\n",
            "Quadrant (11, 5) wird von Standort 4 bedient.\n",
            "Quadrant (11, 6) wird von Standort 4 bedient.\n",
            "Quadrant (12, 2) wird von Standort 4 bedient.\n",
            "Quadrant (12, 3) wird von Standort 4 bedient.\n",
            "Quadrant (12, 4) wird von Standort 4 bedient.\n",
            "Quadrant (12, 5) wird von Standort 4 bedient.\n",
            "Quadrant (12, 6) wird von Standort 4 bedient.\n",
            "Quadrant (12, 7) wird von Standort 4 bedient.\n",
            "Quadrant (12, 8) wird von Standort 4 bedient.\n",
            "Quadrant (12, 9) wird von Standort 4 bedient.\n",
            "Standort 5 wird eingerichtet.\n",
            "Quadrant (0, 8) wird von Standort 5 bedient.\n",
            "Quadrant (1, 9) wird von Standort 5 bedient.\n",
            "Quadrant (1, 10) wird von Standort 5 bedient.\n",
            "Quadrant (2, 10) wird von Standort 5 bedient.\n",
            "Quadrant (2, 11) wird von Standort 5 bedient.\n",
            "Quadrant (3, 11) wird von Standort 5 bedient.\n",
            "Quadrant (3, 12) wird von Standort 5 bedient.\n",
            "Quadrant (4, 12) wird von Standort 5 bedient.\n",
            "Quadrant (5, 11) wird von Standort 5 bedient.\n",
            "Quadrant (5, 12) wird von Standort 5 bedient.\n",
            "Quadrant (6, 11) wird von Standort 5 bedient.\n",
            "Quadrant (8, 8) wird von Standort 5 bedient.\n",
            "Quadrant (8, 9) wird von Standort 5 bedient.\n",
            "Standort 7 wird eingerichtet.\n",
            "Quadrant (0, 6) wird von Standort 7 bedient.\n",
            "Quadrant (0, 7) wird von Standort 7 bedient.\n",
            "Quadrant (1, 7) wird von Standort 7 bedient.\n",
            "Quadrant (1, 8) wird von Standort 7 bedient.\n",
            "Quadrant (2, 5) wird von Standort 7 bedient.\n",
            "Quadrant (2, 8) wird von Standort 7 bedient.\n",
            "Quadrant (2, 9) wird von Standort 7 bedient.\n",
            "Quadrant (3, 5) wird von Standort 7 bedient.\n",
            "Quadrant (3, 7) wird von Standort 7 bedient.\n",
            "Quadrant (3, 9) wird von Standort 7 bedient.\n",
            "Quadrant (3, 10) wird von Standort 7 bedient.\n",
            "Quadrant (4, 1) wird von Standort 7 bedient.\n",
            "Quadrant (4, 4) wird von Standort 7 bedient.\n",
            "Quadrant (4, 10) wird von Standort 7 bedient.\n",
            "Quadrant (4, 11) wird von Standort 7 bedient.\n",
            "Quadrant (5, 5) wird von Standort 7 bedient.\n",
            "Quadrant (5, 6) wird von Standort 7 bedient.\n",
            "Quadrant (5, 7) wird von Standort 7 bedient.\n",
            "Quadrant (5, 8) wird von Standort 7 bedient.\n",
            "Quadrant (5, 9) wird von Standort 7 bedient.\n",
            "Quadrant (5, 10) wird von Standort 7 bedient.\n",
            "Quadrant (6, 4) wird von Standort 7 bedient.\n",
            "Quadrant (6, 5) wird von Standort 7 bedient.\n",
            "Quadrant (6, 6) wird von Standort 7 bedient.\n",
            "Quadrant (6, 8) wird von Standort 7 bedient.\n",
            "Quadrant (6, 9) wird von Standort 7 bedient.\n",
            "Quadrant (7, 7) wird von Standort 7 bedient.\n",
            "Quadrant (7, 8) wird von Standort 7 bedient.\n",
            "Quadrant (8, 6) wird von Standort 7 bedient.\n",
            "Quadrant (8, 7) wird von Standort 7 bedient.\n",
            "Quadrant (9, 6) wird von Standort 7 bedient.\n",
            "Standort 9 wird eingerichtet.\n",
            "Quadrant (0, 3) wird von Standort 9 bedient.\n",
            "Quadrant (0, 4) wird von Standort 9 bedient.\n",
            "Quadrant (0, 5) wird von Standort 9 bedient.\n",
            "Quadrant (1, 2) wird von Standort 9 bedient.\n",
            "Quadrant (1, 3) wird von Standort 9 bedient.\n",
            "Quadrant (1, 4) wird von Standort 9 bedient.\n",
            "Quadrant (1, 5) wird von Standort 9 bedient.\n",
            "Quadrant (1, 6) wird von Standort 9 bedient.\n",
            "Quadrant (2, 1) wird von Standort 9 bedient.\n",
            "Quadrant (2, 2) wird von Standort 9 bedient.\n",
            "Quadrant (2, 3) wird von Standort 9 bedient.\n",
            "Quadrant (2, 4) wird von Standort 9 bedient.\n",
            "Quadrant (2, 6) wird von Standort 9 bedient.\n",
            "Quadrant (2, 7) wird von Standort 9 bedient.\n",
            "Quadrant (3, 0) wird von Standort 9 bedient.\n",
            "Quadrant (3, 1) wird von Standort 9 bedient.\n",
            "Quadrant (3, 2) wird von Standort 9 bedient.\n",
            "Quadrant (3, 3) wird von Standort 9 bedient.\n",
            "Quadrant (3, 4) wird von Standort 9 bedient.\n",
            "Quadrant (3, 6) wird von Standort 9 bedient.\n",
            "Quadrant (3, 8) wird von Standort 9 bedient.\n",
            "Quadrant (4, 0) wird von Standort 9 bedient.\n",
            "Quadrant (4, 2) wird von Standort 9 bedient.\n",
            "Quadrant (4, 3) wird von Standort 9 bedient.\n",
            "Quadrant (4, 5) wird von Standort 9 bedient.\n",
            "Quadrant (4, 6) wird von Standort 9 bedient.\n",
            "Quadrant (4, 7) wird von Standort 9 bedient.\n",
            "Quadrant (4, 8) wird von Standort 9 bedient.\n",
            "Quadrant (4, 9) wird von Standort 9 bedient.\n",
            "Quadrant (5, 0) wird von Standort 9 bedient.\n",
            "Quadrant (5, 1) wird von Standort 9 bedient.\n",
            "Quadrant (5, 2) wird von Standort 9 bedient.\n",
            "Quadrant (5, 3) wird von Standort 9 bedient.\n",
            "Quadrant (5, 4) wird von Standort 9 bedient.\n",
            "Quadrant (6, 1) wird von Standort 9 bedient.\n",
            "Quadrant (6, 2) wird von Standort 9 bedient.\n",
            "Quadrant (6, 3) wird von Standort 9 bedient.\n",
            "Quadrant (6, 7) wird von Standort 9 bedient.\n",
            "Quadrant (7, 2) wird von Standort 9 bedient.\n",
            "Quadrant (7, 3) wird von Standort 9 bedient.\n",
            "Quadrant (7, 4) wird von Standort 9 bedient.\n",
            "Quadrant (7, 5) wird von Standort 9 bedient.\n",
            "Quadrant (7, 6) wird von Standort 9 bedient.\n",
            "Quadrant (8, 3) wird von Standort 9 bedient.\n",
            "Quadrant (8, 4) wird von Standort 9 bedient.\n",
            "Quadrant (8, 5) wird von Standort 9 bedient.\n",
            "Quadrant (9, 4) wird von Standort 9 bedient.\n"
          ]
        }
      ]
    },
    {
      "cell_type": "code",
      "source": [
        "# #Backup---\n",
        "# # Indexmengen\n",
        "# I = [(i, j) for i in range(13) for j in range(13)]  # Menge aller Quadranten als (i, j) Paare\n",
        "# J = standorte_df['Potenzielle_Standorte'].to_list()  # Menge aller potentieller DarkStores\n",
        "\n",
        "# # Variablen\n",
        "# x = {}  # x[(i, j)][k] ist eine Binärvariable, die angibt, ob Standort k Quadrant (i, j) bedient\n",
        "# y = {}  # y[k] ist eine Binärvariable, die angibt, ob ein Dark Store am Standort k eingerichtet wird\n",
        "\n",
        "# # Hinzufügen der Variablen zum Solver\n",
        "# for (i, j) in I:\n",
        "#     for k in J:\n",
        "#         x[(i, j), k] = solver.BoolVar(f'x[{(i, j)},{k}]')\n",
        "\n",
        "# for k in J:\n",
        "#     y[k] = solver.BoolVar(f'y[{k}]')\n",
        "\n",
        "# # Parameter\n",
        "# nachfrage_dict = nachfrage_df.set_index(['i', 'j']).to_dict('index')  # Umwandlung der Nachfrage DataFrame in ein Wörterbuch\n",
        "# D = { (i, j): nachfrage_dict[(i, j)][str(j)] for (i, j) in I }  # Nachfrage im Quadranten (i, j) (Bestellungen pro Tag)\n",
        "# L = standorte_df.set_index('Potenzielle_Standorte')['Lagerumschlagleistung'].to_dict()  # Lagerumschlagleistung des Standorts k (Bestellungen pro Tag)\n",
        "# C = standorte_df.set_index('Potenzielle_Standorte')['Errichtungskosten'].to_dict()  # Kosten für die Einrichtung eines Dark Stores am Standort k\n",
        "\n",
        "# # Restliche Parameter und Restriktionen bleiben unverändert\n",
        "# B = 1000000  # Gesamtbudget für die Einrichtung von Dark Stores\n",
        "# S = 5  # Maximale Anzahl von Quadranten, die ein Fahrradkurier bedienen kann\n",
        "# # Zielfunktion\n",
        "# solver.Maximize(solver.Sum([x[(i, j), k] * D[(i, j)] for (i, j) in I for k in J]))\n",
        "\n",
        "# # Indexmengen\n",
        "# I = [(i, j) for i in range(13) for j in range(13)]  # Menge aller Quadranten als (i, j) Paare\n",
        "# J = standorte_df['Potenzielle_Standorte']  # Menge aller potentieller DarkStores\n",
        "\n",
        "# # Variablen\n",
        "# x = {}  # x[(i, j)][k] ist eine Binärvariable, die angibt, ob Standort k Quadrant (i, j) bedient\n",
        "# y = {}  # y[k] ist eine Binärvariable, die angibt, ob ein Dark Store am Standort k eingerichtet wird\n",
        "\n",
        "# # Hinzufügen der Variablen zum Solver\n",
        "# for (i, j) in I:\n",
        "#     for k in J:\n",
        "#         x[(i, j), k] = solver.BoolVar(f'x[{(i, j)},{k}]')\n",
        "\n",
        "# for k in J:\n",
        "#     y[k] = solver.BoolVar(f'y[{k}]')\n",
        "\n",
        "# # Parameter\n",
        "# D = { (i, j): nachfrage_df.loc[i, str(j)] for (i, j) in I }  # Nachfrage im Quadranten (i, j) (Bestellungen pro Tag)\n",
        "# L = { k: standorte_df.loc[k, 'Lagerumschlagleistung'] for k in J }  # Lagerumschlagleistung des Standorts k (Bestellungen pro Tag)\n",
        "# C = { k: standorte_df.loc[k, 'Errichtungskosten'] for k in J }  # Kosten für die Einrichtung eines Dark Stores am Standort k\n",
        "# B = 1000000  # Gesamtbudget für die Einrichtung von Dark Stores\n",
        "# S = 5  # Maximale Anzahl von Quadranten, die ein Fahrradkurier bedienen kann\n",
        "\n",
        "# # Restriktionen\n",
        "# # Budgetrestriktion\n",
        "# solver.Add(solver.Sum([y[k] * C[k] for k in J]) <= B)\n",
        "\n",
        "# # Nachfragerestriktionen\n",
        "# for (i, j) in I:\n",
        "#     solver.Add(solver.Sum([x[(i, j), k] for k in J]) <= 1)\n",
        "\n",
        "# # Lagerumschlagleistungsrestriktionen\n",
        "# for k in J:\n",
        "#     solver.Add(solver.Sum([x[(i, j), k] * D[(i, j)] for (i, j) in I]) <= y[k] * L[k])\n",
        "\n",
        "# # Liefergebietsrestriktionen\n",
        "# for k in J:\n",
        "#     solver.Add(solver.Sum([x[(i, j), k] for (i, j) in I]) <= S * y[k])\n",
        "\n",
        "# # Reichweitenrestriktion für Fahrradkuriere\n",
        "# for k in J:\n",
        "#     for (i, j) in I:\n",
        "#         if y[k].solution_value() == 1:\n",
        "#             # Berechnung der Entfernung zwischen dem Standort k und dem Quadranten (i, j)\n",
        "#             distance = abs(standorte_df.loc[k, 'i_Koordinate'] - i) + abs(standorte_df.loc[k, 'j_Koordinate'] - j)\n",
        "#             # Hinzufügen der Reichweitenrestriktion\n",
        "#             solver.Add(x[(i, j), k] == 0 if distance > 5 else x[(i, j), k] >= 0)\n",
        "\n",
        "# # Zielfunktion\n",
        "# solver.Maximize(solver.Sum([x[(i, j), k] * D[(i, j)] for (i, j) in I for k in J]))\n",
        "\n",
        "# # Lösen des Modells\n",
        "# status = solver.Solve()\n",
        "\n",
        "# # Ausgabe der Lösung\n",
        "# if status == pywraplp.Solver.OPTIMAL:\n",
        "#     print('Lösung gefunden:')\n",
        "#     for k in J:\n",
        "#         if y[k].solution_value() == 1:\n",
        "#             print(f'Standort {k} wird eingerichtet.')\n",
        "#             for (i, j) in I:\n",
        "#                 if x[(i, j), k].solution_value() == 1:\n",
        "#                     print(f'Quadrant {(i, j)} wird von Standort {k} bedient.')\n",
        "# else:\n",
        "#     print('Keine optimale Lösung gefunden.')"
      ],
      "metadata": {
        "id": "C6k5bXWamarV"
      },
      "id": "C6k5bXWamarV",
      "execution_count": 21,
      "outputs": []
    },
    {
      "cell_type": "code",
      "source": [],
      "metadata": {
        "id": "VZ5UnwtMcGJS"
      },
      "id": "VZ5UnwtMcGJS",
      "execution_count": 21,
      "outputs": []
    }
  ],
  "metadata": {
    "colab": {
      "provenance": [],
      "include_colab_link": true
    },
    "kernelspec": {
      "display_name": "Python 3 (ipykernel)",
      "language": "python",
      "name": "python3"
    },
    "language_info": {
      "codemirror_mode": {
        "name": "ipython",
        "version": 3
      },
      "file_extension": ".py",
      "mimetype": "text/x-python",
      "name": "python",
      "nbconvert_exporter": "python",
      "pygments_lexer": "ipython3",
      "version": "3.8.5"
    }
  },
  "nbformat": 4,
  "nbformat_minor": 5
}