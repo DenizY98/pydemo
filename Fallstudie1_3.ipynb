{
  "cells": [
    {
      "cell_type": "markdown",
      "metadata": {
        "id": "view-in-github",
        "colab_type": "text"
      },
      "source": [
        "<a href=\"https://colab.research.google.com/github/DenizY98/pydemo/blob/main/Fallstudie1_3.ipynb\" target=\"_parent\"><img src=\"https://colab.research.google.com/assets/colab-badge.svg\" alt=\"Open In Colab\"/></a>"
      ]
    },
    {
      "cell_type": "markdown",
      "source": [
        "#Prozessoptimierung - Fallstudie"
      ],
      "metadata": {
        "id": "qeOaIiTPxVdX"
      },
      "id": "qeOaIiTPxVdX"
    },
    {
      "cell_type": "markdown",
      "source": [
        "##PIP, OR-Tools und Pandas"
      ],
      "metadata": {
        "id": "Znr8k3tIxdcn"
      },
      "id": "Znr8k3tIxdcn"
    },
    {
      "cell_type": "code",
      "execution_count": 1,
      "id": "LGrl_jqcfXzd",
      "metadata": {
        "id": "LGrl_jqcfXzd",
        "colab": {
          "base_uri": "https://localhost:8080/"
        },
        "outputId": "1b7d6264-33c6-413d-c892-b0159bfb97ee"
      },
      "outputs": [
        {
          "output_type": "stream",
          "name": "stdout",
          "text": [
            "\u001b[33mWARNING: Running pip as the 'root' user can result in broken permissions and conflicting behaviour with the system package manager. It is recommended to use a virtual environment instead: https://pip.pypa.io/warnings/venv\u001b[0m\u001b[33m\n",
            "\u001b[0m\u001b[33mWARNING: Running pip as the 'root' user can result in broken permissions and conflicting behaviour with the system package manager. It is recommended to use a virtual environment instead: https://pip.pypa.io/warnings/venv\u001b[0m\u001b[33m\n",
            "\u001b[0m"
          ]
        }
      ],
      "source": [
        "# Importieren der benötigten Bibliotheken\n",
        "!pip install -U -q pip\n",
        "!pip install -q ortools"
      ]
    },
    {
      "cell_type": "code",
      "source": [
        "# Laden des Programms\n",
        "from ortools.linear_solver import pywraplp\n",
        "import pandas as pd\n",
        "# Initialisieren des Solvers\n",
        "solver = pywraplp.Solver.CreateSolver('SCIP')"
      ],
      "metadata": {
        "id": "CWUuo3p_UovB"
      },
      "id": "CWUuo3p_UovB",
      "execution_count": 2,
      "outputs": []
    },
    {
      "cell_type": "code",
      "execution_count": 3,
      "id": "I-5QslQG1kr3",
      "metadata": {
        "colab": {
          "base_uri": "https://localhost:8080/"
        },
        "id": "I-5QslQG1kr3",
        "outputId": "142a9721-2022-4de1-8e15-7449c99dddc6"
      },
      "outputs": [
        {
          "output_type": "stream",
          "name": "stdout",
          "text": [
            "fatal: destination path 'Industrielles_Management' already exists and is not an empty directory.\n"
          ]
        }
      ],
      "source": [
        "! git clone https://github.com/AlexKressner/Industrielles_Management"
      ]
    },
    {
      "cell_type": "code",
      "execution_count": 4,
      "id": "oL-HwWpZeg-J",
      "metadata": {
        "id": "oL-HwWpZeg-J"
      },
      "outputs": [],
      "source": [
        "path = \"Industrielles_Management/Daten/Fallstudie/\""
      ]
    },
    {
      "cell_type": "markdown",
      "source": [
        "##Ziel:\n",
        "Maximierung der bedienten Nachfrage innerhalb der vorgegebenen Lieferzeit und des Budgets.\n"
      ],
      "metadata": {
        "id": "Owirb-Fa5W8H"
      },
      "id": "Owirb-Fa5W8H"
    },
    {
      "cell_type": "markdown",
      "source": [
        "##Daten:\n"
      ],
      "metadata": {
        "id": "L1DkYz_FxqsJ"
      },
      "id": "L1DkYz_FxqsJ"
    },
    {
      "cell_type": "code",
      "source": [
        "#dataframes laden aus Daten der CSV-Dateien\n",
        "nachfrage_df = pd.read_csv(f\"{path}/FLINK_Nachfrage.csv\", sep=\";\", index_col=0) # Da Indizes in Datenquelle so festgelegt\n",
        "standorte_df = pd.read_csv(f\"{path}/FLINK_Standorte.csv\", sep=\";\")"
      ],
      "metadata": {
        "id": "FA57z9yXuPb_"
      },
      "id": "FA57z9yXuPb_",
      "execution_count": 5,
      "outputs": []
    },
    {
      "cell_type": "markdown",
      "source": [
        "###Indexmengen:\n",
        "$ Q = \\{q \\mid q = (i,j), i \\in \\{0, \\ldots, 12\\}, j \\in \\{0, \\ldots, 12\\}\\} $\n",
        "Menge aller Quadranten $ q $ als $( i , j )$ Tupel\n",
        "\n",
        "\n",
        "$ S = \\{s \\mid s \\in \\{0, \\ldots, 9\\}\\} $\n",
        "Menge aller potentieller DarkStores $ s $"
      ],
      "metadata": {
        "id": "O5J__6i85Xk8"
      },
      "id": "O5J__6i85Xk8"
    },
    {
      "cell_type": "code",
      "source": [
        "Q = [(i, j) for i in range(nachfrage_df.shape[0]) for j in range(nachfrage_df.shape[1])]  # Menge aller Quadranten q als (i, j) Tupel\n",
        "S = standorte_df['Potenzielle_Standorte'].to_list()  # Menge aller potentieller DarkStores"
      ],
      "metadata": {
        "id": "LxekcH9nEyGD"
      },
      "id": "LxekcH9nEyGD",
      "execution_count": 6,
      "outputs": []
    },
    {
      "cell_type": "markdown",
      "source": [
        "###Variablen:\n",
        "$ x_s \\in \\{0,1\\} \\quad \\forall s \\in S $: Binärvariable, die angibt, ob am Standort $ s $ ein Dark Store eingerichtet wird $1$ oder nicht $0$.\n",
        "\n",
        "$ y_{qs} \\in \\{0,1\\} \\quad \\forall q \\in Q, \\forall s \\in S $: Kontinuierliche Variable, die den %ualen Anteil der Nachfrage eines Quadranten $ q (i,j) $ repräsentiert, der von  Darkstore $ s $ bedient wird.\n"
      ],
      "metadata": {
        "id": "UqD2MQ9Y5Lpo"
      },
      "id": "UqD2MQ9Y5Lpo"
    },
    {
      "cell_type": "code",
      "source": [
        "x = {}\n",
        "for s in S:\n",
        "  x[s] = solver.BoolVar(f'x[{s}]')"
      ],
      "metadata": {
        "id": "zsUMPPxx5MWl"
      },
      "id": "zsUMPPxx5MWl",
      "execution_count": 7,
      "outputs": []
    },
    {
      "cell_type": "code",
      "source": [
        "D = {q: nachfrage_df.iat[q[1],q[0]] for q in Q} # Nachfrage im Quadranten q als Bestellungen pro Tag\n"
      ],
      "metadata": {
        "id": "7e04bLcwaCFZ"
      },
      "id": "7e04bLcwaCFZ",
      "execution_count": 8,
      "outputs": []
    },
    {
      "cell_type": "code",
      "source": [
        "y = {}\n",
        "for s in S:\n",
        "    for q in Q:\n",
        "        y[q, s] = solver.BoolVar(f'y[{q},{s}]')"
      ],
      "metadata": {
        "id": "8UQDKrZJT8ki"
      },
      "id": "8UQDKrZJT8ki",
      "execution_count": 9,
      "outputs": []
    },
    {
      "cell_type": "code",
      "source": [
        "z = {}\n",
        "for s in S:\n",
        "    for q in Q:\n",
        "        z[q, s] = solver.IntVar(0, solver.infinity(), f'z[{q},{s}]')"
      ],
      "metadata": {
        "id": "mBKnAdDOcw2H"
      },
      "id": "mBKnAdDOcw2H",
      "execution_count": 10,
      "outputs": []
    },
    {
      "cell_type": "markdown",
      "source": [
        "###Dictionaries:\n",
        "- Lagerumschlagsleistung je potentiellem Standort $ s $\n",
        "- Errichtungskosten je potentiellem Standort $ s $\n",
        "- Koordinaten je potentiellem Standort $ s $"
      ],
      "metadata": {
        "id": "5MmzUUM2V8Tl"
      },
      "id": "5MmzUUM2V8Tl"
    },
    {
      "cell_type": "code",
      "source": [
        "#Standorte Dataframe\n",
        "Lagerumschlagleistung = standorte_df.set_index('Potenzielle_Standorte')['Lagerumschlagleistung'].to_dict()\n",
        "Errichtungskosten = standorte_df.set_index('Potenzielle_Standorte')['Errichtungskosten'].to_dict()\n",
        "Koordinaten = standorte_df.set_index('Potenzielle_Standorte')[['i_Koordinate','j_Koordinate']].to_dict('index')"
      ],
      "metadata": {
        "id": "iyOqhWGCULrf"
      },
      "id": "iyOqhWGCULrf",
      "execution_count": 11,
      "outputs": []
    },
    {
      "cell_type": "markdown",
      "source": [
        "###Parameter:\n",
        "\n",
        "$ D_q $: Nachfrage im Quadranten $ q $ als Bestellungen pro Tag.\n",
        "\n",
        "$ L_s $: Lagerumschlagleistung des Standorts $ s $ als Bestellungen pro Tag.\n",
        "\n",
        "$ C_s $: Kosten für die Einrichtung eines Dark Stores am Standort $ s $.\n",
        "\n",
        "$ B $: Gesamtbudget für die Einrichtung von Dark Stores.\n",
        "\n",
        "$ T $: Maximale Lieferzeit $10 Minuten$.\n",
        "\n",
        "$ A $: Maximale Anzahl von Quadranten, die ein Fahrradkurier bedienen kann $5 Quadranten$.\n"
      ],
      "metadata": {
        "id": "OXm9lbWN5RKR"
      },
      "id": "OXm9lbWN5RKR"
    },
    {
      "cell_type": "code",
      "source": [
        "L = {s: Lagerumschlagleistung[s] for s in S}  # Lagerumschlagleistung des Standorts s als Bestellungen pro Tag\n",
        "C = {s: Errichtungskosten[s] for s in S}  # Kosten für die Einrichtung eines Dark Stores am Standort s\n",
        "B = 1000000  # Gesamtbudget für die Einrichtung von Dark Stores\n",
        "G = 25  # Geschwindigkeit in KM/H\n",
        "T = 10  # Maximale Lieferzeit 10 Minuten\n",
        "TF1= 3  # Zeitfresser in Minuten Warenbereitstellung AE\n",
        "TF2= 1  # Zeitfresser in Minuten Warenübergabe beim Kunden\n",
        "TV= (T-TF1-TF2) # Verbleibende Zeit abzüglich Zeitfressern\n",
        "A = round((TV/2)/0.25*G/60, None) # max Reichweite in Quadranten für eine Richtung"
      ],
      "metadata": {
        "id": "bRDM-jqX5Rzi"
      },
      "id": "bRDM-jqX5Rzi",
      "execution_count": 12,
      "outputs": []
    },
    {
      "cell_type": "markdown",
      "source": [
        "###Restriktionen:"
      ],
      "metadata": {
        "id": "CMhtK8srIt1_"
      },
      "id": "CMhtK8srIt1_"
    },
    {
      "cell_type": "markdown",
      "source": [
        "####Nachfragerestriktion:\n",
        "$\\sum_{s \\in S} y_{qs} \\leq 2 \\quad \\forall q \\in Q $\n",
        "\n",
        "Jeder Quadrant wird von höchstens zwei Dark Stores bedient."
      ],
      "metadata": {
        "id": "-S4n-auqwVAw"
      },
      "id": "-S4n-auqwVAw"
    },
    {
      "cell_type": "code",
      "source": [
        "# Nachfragerestriktionen\n",
        "for q in Q:\n",
        "    solver.Add(solver.Sum([y[q, s] for s in S]) <= 2)"
      ],
      "metadata": {
        "id": "XDO4De8wWozA"
      },
      "id": "XDO4De8wWozA",
      "execution_count": 13,
      "outputs": []
    },
    {
      "cell_type": "markdown",
      "source": [
        " #### Zuordnungsrestriktion:\n",
        "$y_{qs} \\leq x_s \\quad \\forall q \\in Q, \\forall s \\in S$\n",
        "\n",
        " Ein Darkstore kann nur einen Quadranten bedienen, wenn er errichtet wurde."
      ],
      "metadata": {
        "id": "VMzNAO0Avn2p"
      },
      "id": "VMzNAO0Avn2p"
    },
    {
      "cell_type": "code",
      "source": [
        "# Zuordnungsrestriktionen\n",
        "for s in S:\n",
        "    for q in Q:\n",
        "        solver.Add(z[q, s] <= D[q] * y[q, s])"
      ],
      "metadata": {
        "id": "3k1lVc-gvqDt"
      },
      "id": "3k1lVc-gvqDt",
      "execution_count": 14,
      "outputs": []
    },
    {
      "cell_type": "markdown",
      "source": [
        "####Budgetrestriktion:\n",
        "$\\sum_{s \\in S} x_s \\cdot C_s \\leq B $\n",
        "\n",
        "Ein Dark Store kann nur eingerichtet werden, wenn das Budget dies zulässt.\n"
      ],
      "metadata": {
        "id": "RMw-V7U7u0fe"
      },
      "id": "RMw-V7U7u0fe"
    },
    {
      "cell_type": "code",
      "source": [
        "# Budgetrestriktion\n",
        "solver.Add(solver.Sum([x[s] * C[s] for s in S]) <= B)"
      ],
      "metadata": {
        "colab": {
          "base_uri": "https://localhost:8080/"
        },
        "id": "sgUujajvu2o7",
        "outputId": "b15e04c2-ded3-41d0-9126-9902c3ea5dbb"
      },
      "id": "sgUujajvu2o7",
      "execution_count": 15,
      "outputs": [
        {
          "output_type": "execute_result",
          "data": {
            "text/plain": [
              "<ortools.linear_solver.pywraplp.Constraint; proxy of <Swig Object of type 'operations_research::MPConstraint *' at 0x7de390969350> >"
            ]
          },
          "metadata": {},
          "execution_count": 15
        }
      ]
    },
    {
      "cell_type": "markdown",
      "source": [
        "####Lagerumschlagleistungsrestriktion:\n",
        "$\\sum_{q \\in Q} y_{qs} \\cdot D_{q} \\leq x_s \\cdot L_s \\quad \\forall s \\in S $\n",
        "\n",
        "Die Nachfrage eines Quadranten kann nur bedient werden, wenn die Lagerumschlagleistung ausreicht und ein Dark Store vorhanden ist.\n"
      ],
      "metadata": {
        "id": "WPe0N6H2u3Bx"
      },
      "id": "WPe0N6H2u3Bx"
    },
    {
      "cell_type": "code",
      "source": [
        "# Lagerumschlagleistungsrestriktionen\n",
        "for s in S:\n",
        "    solver.Add(solver.Sum([z[q, s] for q in Q]) <= x[s] * L[s])"
      ],
      "metadata": {
        "id": "65GPwJaRu45u"
      },
      "id": "65GPwJaRu45u",
      "execution_count": 16,
      "outputs": []
    },
    {
      "cell_type": "markdown",
      "source": [
        "####Reichweitenrestriktion für Fahrradkuriere:\n",
        "$\\text{Strecke}(s, q) > A \\Rightarrow y_{qs} = 0 \\quad \\forall q \\in Q, \\forall s \\in S $\n",
        "\n",
        "Die Anzahl der von einem Fahrradkurier zurückgelegten Quadranten $Strecke$ darf nie größer $A$ sein, falls bestätigt, dass Quadrant $q$ von Standort $s$ beliefert wird."
      ],
      "metadata": {
        "id": "uZXIEhq7u5Lu"
      },
      "id": "uZXIEhq7u5Lu"
    },
    {
      "cell_type": "code",
      "source": [
        "# Reichweitenrestriktion für Fahrradkuriere\n",
        "for s in S:\n",
        "    for q in Q:\n",
        "        # Berechnung der Manhattan-Distanz zwischen dem Standort s und dem Quadranten q\n",
        "        distance = abs(Koordinaten[s]['i_Koordinate'] - q[0]) + abs(Koordinaten[s]['j_Koordinate'] - q[1])\n",
        "        if distance > 5:\n",
        "            solver.Add(y[q, s] == 0)"
      ],
      "metadata": {
        "id": "SXuPqc0Hu59h"
      },
      "id": "SXuPqc0Hu59h",
      "execution_count": 17,
      "outputs": []
    },
    {
      "cell_type": "markdown",
      "source": [
        "##Lösung:\n",
        "###Zielfunktion:\n",
        "Maximiere die gesamte bediente Nachfrage:\n",
        "\n",
        "$ \\text{Max} \\sum_{sq} y_{qs} \\cdot D_q $"
      ],
      "metadata": {
        "id": "frf9th2CKEM2"
      },
      "id": "frf9th2CKEM2"
    },
    {
      "cell_type": "code",
      "source": [
        "# Ändern Sie die Zielfunktion\n",
        "solver.Maximize(solver.Sum([z[q, s] for q in Q for s in S]))\n",
        "# Lösen des Modells\n",
        "status = solver.Solve()"
      ],
      "metadata": {
        "id": "LB5bCUe9amx6"
      },
      "id": "LB5bCUe9amx6",
      "execution_count": 18,
      "outputs": []
    },
    {
      "cell_type": "code",
      "source": [
        "# Ausgabe\n",
        "if status == pywraplp.Solver.OPTIMAL:\n",
        "    gesamtnachfrage = sum(D.values())\n",
        "    ausgelieferte_waren = sum(z[q, s].solution_value() for q in Q for s in S if z[q, s].solution_value() > 0)\n",
        "    print(f'Prozentuale Erfüllung der Gesamtnachfrage: {round((ausgelieferte_waren/gesamtnachfrage*100), ndigits=2)}%')\n",
        "    print('Lösung gefunden:')\n",
        "    print('Zielfunktionswert (Kosten) =', solver.Objective().Value())\n",
        "    # for s in S:\n",
        "    #     if x[s].solution_value() == 1:\n",
        "    #         print(f'Standort {s} wird eingerichtet.')\n",
        "    #         vollstaendig = [q for q in Q if z[q, s].solution_value() > 0 and z[q, s].solution_value() == D[q]]\n",
        "    #         if vollstaendig:\n",
        "    #             print(f'Vollständige Lieferungen von Standort {s} mit {\", \".join(str(q) for q in vollstaendig)} vollständig beliefert.')\n",
        "    #         for q in Q:\n",
        "    #             if z[q, s].solution_value() > 0 and z[q, s].solution_value() != D[q]:\n",
        "    #                 print(f'T von Standort {s} liefert {[round(z[q, s].solution_value()/D[q]*100)]}% der Einheiten an Quadrant {q}.')\n",
        "    for s in S:\n",
        "      if x[s].solution_value() == 1:\n",
        "          print(f'Standort {s} wird eingerichtet.')\n",
        "          vollstaendig = [q for q in Q if z[q, s].solution_value() > 0 and z[q, s].solution_value() == D[q]]\n",
        "          if vollstaendig:\n",
        "              print(f'Vollständige Lieferungen von Standort {s} mit {\", \".join(str(q) for q in vollstaendig)} vollständig beliefert.')\n",
        "          teilweise = [(q, round(z[q, s].solution_value()/D[q]*100)) for q in Q if z[q, s].solution_value() > 0 and z[q, s].solution_value() != D[q]]\n",
        "          if teilweise:\n",
        "              print(f'Teilweise Lieferungen von Standort {s} mit {\", \".join(f\"{q[0]} ({q[1]}%)\" for q in teilweise)} beliefert.')\n",
        "else:\n",
        "    print('Keine optimale Lösung gefunden.')"
      ],
      "metadata": {
        "colab": {
          "base_uri": "https://localhost:8080/"
        },
        "id": "APkaE8HY8Tp2",
        "outputId": "8a6c7e58-70b7-44e5-a23e-8b371898c8ff"
      },
      "id": "APkaE8HY8Tp2",
      "execution_count": 29,
      "outputs": [
        {
          "output_type": "stream",
          "name": "stdout",
          "text": [
            "Prozentuale Erfüllung der Gesamtnachfrage: 99.73%\n",
            "Lösung gefunden:\n",
            "Zielfunktionswert (Kosten) = 8575.000000000002\n",
            "Standort 1 wird eingerichtet.\n",
            "Vollständige Lieferungen von Standort 1 mit (5, 12), (6, 9), (6, 11), (6, 12), (7, 10), (8, 6), (9, 7), (9, 8), (10, 9), (11, 12), (12, 11), (12, 12) vollständig beliefert.\n",
            "Teilweise Lieferungen von Standort 1 mit (4, 12) (49%), (7, 11) (22%) beliefert.\n",
            "Standort 2 wird eingerichtet.\n",
            "Vollständige Lieferungen von Standort 2 mit (8, 1), (9, 0), (9, 1), (9, 3), (10, 0), (10, 1), (10, 2), (10, 3), (12, 1) vollständig beliefert.\n",
            "Teilweise Lieferungen von Standort 2 mit (7, 3) (19%) beliefert.\n",
            "Standort 3 wird eingerichtet.\n",
            "Vollständige Lieferungen von Standort 3 mit (6, 9), (6, 11), (7, 9), (7, 10), (8, 11), (8, 12), (10, 9), (10, 11), (11, 7), (11, 8), (11, 9), (11, 10), (11, 12), (12, 7), (12, 11), (12, 12) vollständig beliefert.\n",
            "Teilweise Lieferungen von Standort 3 mit (7, 12) (8%), (8, 10) (22%), (11, 11) (80%) beliefert.\n",
            "Standort 4 wird eingerichtet.\n",
            "Vollständige Lieferungen von Standort 4 mit (9, 5), (9, 6), (10, 4), (10, 5), (11, 3), (11, 5), (11, 6), (11, 8), (11, 9), (12, 2), (12, 4), (12, 5), (12, 6), (12, 7), (12, 8), (12, 9) vollständig beliefert.\n",
            "Standort 5 wird eingerichtet.\n",
            "Vollständige Lieferungen von Standort 5 mit (1, 7), (1, 8), (1, 9), (1, 10), (2, 5), (2, 9), (2, 10), (3, 5), (3, 7), (3, 9), (4, 12), (5, 4), (5, 10), (5, 11), (6, 8), (7, 8) vollständig beliefert.\n",
            "Teilweise Lieferungen von Standort 5 mit (3, 12) (86%) beliefert.\n",
            "Standort 7 wird eingerichtet.\n",
            "Vollständige Lieferungen von Standort 7 mit (0, 5), (0, 6), (0, 7), (1, 4), (1, 5), (1, 6), (1, 7), (1, 8), (2, 3), (2, 4), (2, 5), (2, 6), (2, 7), (2, 8), (2, 9), (3, 2), (3, 3), (3, 4), (3, 5), (3, 6), (3, 7), (3, 8), (3, 9), (3, 10), (4, 1), (4, 2), (4, 3), (4, 4), (4, 5), (4, 6), (4, 7), (4, 8), (4, 9), (5, 2), (5, 3), (5, 4), (5, 5), (5, 6), (5, 7), (5, 8), (5, 9), (5, 10), (6, 3), (6, 4), (6, 5), (6, 6), (6, 7), (6, 8), (7, 4), (7, 5), (7, 6), (7, 7), (7, 8), (8, 5), (8, 6), (8, 7) vollständig beliefert.\n",
            "Teilweise Lieferungen von Standort 7 mit (9, 6) (12%) beliefert.\n",
            "Standort 9 wird eingerichtet.\n",
            "Vollständige Lieferungen von Standort 9 mit (0, 5), (1, 4), (1, 5), (1, 6), (2, 2), (2, 3), (2, 4), (2, 6), (2, 7), (3, 0), (3, 1), (3, 2), (3, 3), (3, 4), (3, 8), (4, 1), (4, 2), (4, 3), (4, 4), (4, 5), (4, 6), (4, 7), (4, 8), (5, 2), (5, 5), (5, 6), (5, 7), (6, 3), (6, 5), (6, 7), (7, 2), (7, 3), (7, 4), (7, 5), (7, 6), (8, 4), (9, 4) vollständig beliefert.\n",
            "Teilweise Lieferungen von Standort 9 mit (1, 3) (52%) beliefert.\n"
          ]
        }
      ]
    },
    {
      "cell_type": "markdown",
      "source": [
        "### Darstellung als Matrix, DF oder MatPlot"
      ],
      "metadata": {
        "id": "qWte2yItwig8"
      },
      "id": "qWte2yItwig8"
    },
    {
      "cell_type": "code",
      "source": [
        "import numpy as np\n",
        "import pandas as pd\n",
        "\n",
        "# Erstellen Sie eine leere Matrix der gleichen Größe wie Ihr Quadrantengitter\n",
        "ergebnis_matrix = np.empty((14, 14), dtype=object)  # Größe angepasst, um Store i_Koordinate von 13 zu berücksichtigen\n",
        "\n",
        "# Füllen Sie die Matrix mit den Ergebnissen Ihres Modells\n",
        "for s in S:\n",
        "    if x[s].solution_value() > 0:  # Wenn ein Darkstore an diesem Standort errichtet wurde\n",
        "        for q in Q:\n",
        "            if y[q, s].solution_value() == 1:  # Wenn der Standort s den Quadranten q beliefert\n",
        "                if z[q, s].solution_value() == D[q]:  ergebnis_matrix[q[0], q[1]] = str(s) # Wenn die gelieferte Menge gleich der Nachfrage ist\n",
        "                else:\n",
        "                  if ergebnis_matrix[q[0], q[1]] is not None: ergebnis_matrix[q[0], q[1]] += '' + str(s)\n",
        "\n",
        "\n",
        "\n",
        "# Nachdem alle Quadranten bedient wurden, gehen Sie erneut über alle Standorte in S\n",
        "for s in S:\n",
        "    if x[s].solution_value() == 1:  # Wenn ein Darkstore an diesem Standort errichtet wurde\n",
        "        i, j = Koordinaten[s]['i_Koordinate'], Koordinaten[s]['j_Koordinate']\n",
        "        if 0 <= i < 14 and 0 <= j < 14:  # Stellen Sie sicher, dass die Koordinaten innerhalb der Matrix liegen\n",
        "            ergebnis_matrix[i, j] = \"S\" + str(s)\n",
        "\n",
        "# Konvertieren Sie die Matrix in einen DataFrame für eine schönere Darstellung\n",
        "ergebnis_df = pd.DataFrame(ergebnis_matrix).transpose()\n",
        "ergebnis_df"
      ],
      "metadata": {
        "colab": {
          "base_uri": "https://localhost:8080/",
          "height": 488
        },
        "id": "aCi9G6YIyCw-",
        "outputId": "bc67cdf4-e5ef-47dc-b072-1fe71d76fee3"
      },
      "id": "aCi9G6YIyCw-",
      "execution_count": 30,
      "outputs": [
        {
          "output_type": "execute_result",
          "data": {
            "text/plain": [
              "      0     1     2     3     4     5     6     7     8     9     10    11  \\\n",
              "0   None  None  None     9  None  None  None  None  None     2     2  None   \n",
              "1   None  None  None     9     9  None  None  None     2     2     2  None   \n",
              "2   None  None     9     9     9     9  None     9  None  None     2  None   \n",
              "3   None  None     9     9     9    79     9     9  None     2     2     4   \n",
              "4   None     9     9     9    S9     7     7     9     9     9    S2  None   \n",
              "5      9     9     7     7     9     9     9     9     7     4     4     4   \n",
              "6      7     9     9     7    S7     9     7     9     7    47  None     4   \n",
              "7      7     7     9     7     9     9     9     7     7     1  None     3   \n",
              "8   None     7     7     9    S5     7     7     7  None     1  None     4   \n",
              "9   None     5     7     7     7     7     3     3  None  None     3     4   \n",
              "10  None     5     5     7  None     7  None     3  None  None    S3     3   \n",
              "11  None  None  None  None  None     5     3  None    S1  None     3  None   \n",
              "12  None  None  None  None     5    15     1  None     3  None  None     3   \n",
              "13  None  None  None  None  None  None  None  None  None  None  None  None   \n",
              "\n",
              "      12    13  \n",
              "0   None  None  \n",
              "1      2  None  \n",
              "2      4  None  \n",
              "3   None  None  \n",
              "4      4  None  \n",
              "5      4  None  \n",
              "6      4    S4  \n",
              "7      4  None  \n",
              "8      4  None  \n",
              "9      4  None  \n",
              "10  None  None  \n",
              "11     3  None  \n",
              "12     3  None  \n",
              "13  None  None  "
            ],
            "text/html": [
              "\n",
              "  <div id=\"df-ffaa049a-7efc-4831-b3bf-511e5c746b1f\" class=\"colab-df-container\">\n",
              "    <div>\n",
              "<style scoped>\n",
              "    .dataframe tbody tr th:only-of-type {\n",
              "        vertical-align: middle;\n",
              "    }\n",
              "\n",
              "    .dataframe tbody tr th {\n",
              "        vertical-align: top;\n",
              "    }\n",
              "\n",
              "    .dataframe thead th {\n",
              "        text-align: right;\n",
              "    }\n",
              "</style>\n",
              "<table border=\"1\" class=\"dataframe\">\n",
              "  <thead>\n",
              "    <tr style=\"text-align: right;\">\n",
              "      <th></th>\n",
              "      <th>0</th>\n",
              "      <th>1</th>\n",
              "      <th>2</th>\n",
              "      <th>3</th>\n",
              "      <th>4</th>\n",
              "      <th>5</th>\n",
              "      <th>6</th>\n",
              "      <th>7</th>\n",
              "      <th>8</th>\n",
              "      <th>9</th>\n",
              "      <th>10</th>\n",
              "      <th>11</th>\n",
              "      <th>12</th>\n",
              "      <th>13</th>\n",
              "    </tr>\n",
              "  </thead>\n",
              "  <tbody>\n",
              "    <tr>\n",
              "      <th>0</th>\n",
              "      <td>None</td>\n",
              "      <td>None</td>\n",
              "      <td>None</td>\n",
              "      <td>9</td>\n",
              "      <td>None</td>\n",
              "      <td>None</td>\n",
              "      <td>None</td>\n",
              "      <td>None</td>\n",
              "      <td>None</td>\n",
              "      <td>2</td>\n",
              "      <td>2</td>\n",
              "      <td>None</td>\n",
              "      <td>None</td>\n",
              "      <td>None</td>\n",
              "    </tr>\n",
              "    <tr>\n",
              "      <th>1</th>\n",
              "      <td>None</td>\n",
              "      <td>None</td>\n",
              "      <td>None</td>\n",
              "      <td>9</td>\n",
              "      <td>9</td>\n",
              "      <td>None</td>\n",
              "      <td>None</td>\n",
              "      <td>None</td>\n",
              "      <td>2</td>\n",
              "      <td>2</td>\n",
              "      <td>2</td>\n",
              "      <td>None</td>\n",
              "      <td>2</td>\n",
              "      <td>None</td>\n",
              "    </tr>\n",
              "    <tr>\n",
              "      <th>2</th>\n",
              "      <td>None</td>\n",
              "      <td>None</td>\n",
              "      <td>9</td>\n",
              "      <td>9</td>\n",
              "      <td>9</td>\n",
              "      <td>9</td>\n",
              "      <td>None</td>\n",
              "      <td>9</td>\n",
              "      <td>None</td>\n",
              "      <td>None</td>\n",
              "      <td>2</td>\n",
              "      <td>None</td>\n",
              "      <td>4</td>\n",
              "      <td>None</td>\n",
              "    </tr>\n",
              "    <tr>\n",
              "      <th>3</th>\n",
              "      <td>None</td>\n",
              "      <td>None</td>\n",
              "      <td>9</td>\n",
              "      <td>9</td>\n",
              "      <td>9</td>\n",
              "      <td>79</td>\n",
              "      <td>9</td>\n",
              "      <td>9</td>\n",
              "      <td>None</td>\n",
              "      <td>2</td>\n",
              "      <td>2</td>\n",
              "      <td>4</td>\n",
              "      <td>None</td>\n",
              "      <td>None</td>\n",
              "    </tr>\n",
              "    <tr>\n",
              "      <th>4</th>\n",
              "      <td>None</td>\n",
              "      <td>9</td>\n",
              "      <td>9</td>\n",
              "      <td>9</td>\n",
              "      <td>S9</td>\n",
              "      <td>7</td>\n",
              "      <td>7</td>\n",
              "      <td>9</td>\n",
              "      <td>9</td>\n",
              "      <td>9</td>\n",
              "      <td>S2</td>\n",
              "      <td>None</td>\n",
              "      <td>4</td>\n",
              "      <td>None</td>\n",
              "    </tr>\n",
              "    <tr>\n",
              "      <th>5</th>\n",
              "      <td>9</td>\n",
              "      <td>9</td>\n",
              "      <td>7</td>\n",
              "      <td>7</td>\n",
              "      <td>9</td>\n",
              "      <td>9</td>\n",
              "      <td>9</td>\n",
              "      <td>9</td>\n",
              "      <td>7</td>\n",
              "      <td>4</td>\n",
              "      <td>4</td>\n",
              "      <td>4</td>\n",
              "      <td>4</td>\n",
              "      <td>None</td>\n",
              "    </tr>\n",
              "    <tr>\n",
              "      <th>6</th>\n",
              "      <td>7</td>\n",
              "      <td>9</td>\n",
              "      <td>9</td>\n",
              "      <td>7</td>\n",
              "      <td>S7</td>\n",
              "      <td>9</td>\n",
              "      <td>7</td>\n",
              "      <td>9</td>\n",
              "      <td>7</td>\n",
              "      <td>47</td>\n",
              "      <td>None</td>\n",
              "      <td>4</td>\n",
              "      <td>4</td>\n",
              "      <td>S4</td>\n",
              "    </tr>\n",
              "    <tr>\n",
              "      <th>7</th>\n",
              "      <td>7</td>\n",
              "      <td>7</td>\n",
              "      <td>9</td>\n",
              "      <td>7</td>\n",
              "      <td>9</td>\n",
              "      <td>9</td>\n",
              "      <td>9</td>\n",
              "      <td>7</td>\n",
              "      <td>7</td>\n",
              "      <td>1</td>\n",
              "      <td>None</td>\n",
              "      <td>3</td>\n",
              "      <td>4</td>\n",
              "      <td>None</td>\n",
              "    </tr>\n",
              "    <tr>\n",
              "      <th>8</th>\n",
              "      <td>None</td>\n",
              "      <td>7</td>\n",
              "      <td>7</td>\n",
              "      <td>9</td>\n",
              "      <td>S5</td>\n",
              "      <td>7</td>\n",
              "      <td>7</td>\n",
              "      <td>7</td>\n",
              "      <td>None</td>\n",
              "      <td>1</td>\n",
              "      <td>None</td>\n",
              "      <td>4</td>\n",
              "      <td>4</td>\n",
              "      <td>None</td>\n",
              "    </tr>\n",
              "    <tr>\n",
              "      <th>9</th>\n",
              "      <td>None</td>\n",
              "      <td>5</td>\n",
              "      <td>7</td>\n",
              "      <td>7</td>\n",
              "      <td>7</td>\n",
              "      <td>7</td>\n",
              "      <td>3</td>\n",
              "      <td>3</td>\n",
              "      <td>None</td>\n",
              "      <td>None</td>\n",
              "      <td>3</td>\n",
              "      <td>4</td>\n",
              "      <td>4</td>\n",
              "      <td>None</td>\n",
              "    </tr>\n",
              "    <tr>\n",
              "      <th>10</th>\n",
              "      <td>None</td>\n",
              "      <td>5</td>\n",
              "      <td>5</td>\n",
              "      <td>7</td>\n",
              "      <td>None</td>\n",
              "      <td>7</td>\n",
              "      <td>None</td>\n",
              "      <td>3</td>\n",
              "      <td>None</td>\n",
              "      <td>None</td>\n",
              "      <td>S3</td>\n",
              "      <td>3</td>\n",
              "      <td>None</td>\n",
              "      <td>None</td>\n",
              "    </tr>\n",
              "    <tr>\n",
              "      <th>11</th>\n",
              "      <td>None</td>\n",
              "      <td>None</td>\n",
              "      <td>None</td>\n",
              "      <td>None</td>\n",
              "      <td>None</td>\n",
              "      <td>5</td>\n",
              "      <td>3</td>\n",
              "      <td>None</td>\n",
              "      <td>S1</td>\n",
              "      <td>None</td>\n",
              "      <td>3</td>\n",
              "      <td>None</td>\n",
              "      <td>3</td>\n",
              "      <td>None</td>\n",
              "    </tr>\n",
              "    <tr>\n",
              "      <th>12</th>\n",
              "      <td>None</td>\n",
              "      <td>None</td>\n",
              "      <td>None</td>\n",
              "      <td>None</td>\n",
              "      <td>5</td>\n",
              "      <td>15</td>\n",
              "      <td>1</td>\n",
              "      <td>None</td>\n",
              "      <td>3</td>\n",
              "      <td>None</td>\n",
              "      <td>None</td>\n",
              "      <td>3</td>\n",
              "      <td>3</td>\n",
              "      <td>None</td>\n",
              "    </tr>\n",
              "    <tr>\n",
              "      <th>13</th>\n",
              "      <td>None</td>\n",
              "      <td>None</td>\n",
              "      <td>None</td>\n",
              "      <td>None</td>\n",
              "      <td>None</td>\n",
              "      <td>None</td>\n",
              "      <td>None</td>\n",
              "      <td>None</td>\n",
              "      <td>None</td>\n",
              "      <td>None</td>\n",
              "      <td>None</td>\n",
              "      <td>None</td>\n",
              "      <td>None</td>\n",
              "      <td>None</td>\n",
              "    </tr>\n",
              "  </tbody>\n",
              "</table>\n",
              "</div>\n",
              "    <div class=\"colab-df-buttons\">\n",
              "\n",
              "  <div class=\"colab-df-container\">\n",
              "    <button class=\"colab-df-convert\" onclick=\"convertToInteractive('df-ffaa049a-7efc-4831-b3bf-511e5c746b1f')\"\n",
              "            title=\"Convert this dataframe to an interactive table.\"\n",
              "            style=\"display:none;\">\n",
              "\n",
              "  <svg xmlns=\"http://www.w3.org/2000/svg\" height=\"24px\" viewBox=\"0 -960 960 960\">\n",
              "    <path d=\"M120-120v-720h720v720H120Zm60-500h600v-160H180v160Zm220 220h160v-160H400v160Zm0 220h160v-160H400v160ZM180-400h160v-160H180v160Zm440 0h160v-160H620v160ZM180-180h160v-160H180v160Zm440 0h160v-160H620v160Z\"/>\n",
              "  </svg>\n",
              "    </button>\n",
              "\n",
              "  <style>\n",
              "    .colab-df-container {\n",
              "      display:flex;\n",
              "      gap: 12px;\n",
              "    }\n",
              "\n",
              "    .colab-df-convert {\n",
              "      background-color: #E8F0FE;\n",
              "      border: none;\n",
              "      border-radius: 50%;\n",
              "      cursor: pointer;\n",
              "      display: none;\n",
              "      fill: #1967D2;\n",
              "      height: 32px;\n",
              "      padding: 0 0 0 0;\n",
              "      width: 32px;\n",
              "    }\n",
              "\n",
              "    .colab-df-convert:hover {\n",
              "      background-color: #E2EBFA;\n",
              "      box-shadow: 0px 1px 2px rgba(60, 64, 67, 0.3), 0px 1px 3px 1px rgba(60, 64, 67, 0.15);\n",
              "      fill: #174EA6;\n",
              "    }\n",
              "\n",
              "    .colab-df-buttons div {\n",
              "      margin-bottom: 4px;\n",
              "    }\n",
              "\n",
              "    [theme=dark] .colab-df-convert {\n",
              "      background-color: #3B4455;\n",
              "      fill: #D2E3FC;\n",
              "    }\n",
              "\n",
              "    [theme=dark] .colab-df-convert:hover {\n",
              "      background-color: #434B5C;\n",
              "      box-shadow: 0px 1px 3px 1px rgba(0, 0, 0, 0.15);\n",
              "      filter: drop-shadow(0px 1px 2px rgba(0, 0, 0, 0.3));\n",
              "      fill: #FFFFFF;\n",
              "    }\n",
              "  </style>\n",
              "\n",
              "    <script>\n",
              "      const buttonEl =\n",
              "        document.querySelector('#df-ffaa049a-7efc-4831-b3bf-511e5c746b1f button.colab-df-convert');\n",
              "      buttonEl.style.display =\n",
              "        google.colab.kernel.accessAllowed ? 'block' : 'none';\n",
              "\n",
              "      async function convertToInteractive(key) {\n",
              "        const element = document.querySelector('#df-ffaa049a-7efc-4831-b3bf-511e5c746b1f');\n",
              "        const dataTable =\n",
              "          await google.colab.kernel.invokeFunction('convertToInteractive',\n",
              "                                                    [key], {});\n",
              "        if (!dataTable) return;\n",
              "\n",
              "        const docLinkHtml = 'Like what you see? Visit the ' +\n",
              "          '<a target=\"_blank\" href=https://colab.research.google.com/notebooks/data_table.ipynb>data table notebook</a>'\n",
              "          + ' to learn more about interactive tables.';\n",
              "        element.innerHTML = '';\n",
              "        dataTable['output_type'] = 'display_data';\n",
              "        await google.colab.output.renderOutput(dataTable, element);\n",
              "        const docLink = document.createElement('div');\n",
              "        docLink.innerHTML = docLinkHtml;\n",
              "        element.appendChild(docLink);\n",
              "      }\n",
              "    </script>\n",
              "  </div>\n",
              "\n",
              "\n",
              "<div id=\"df-0e246bbf-bd2d-43c8-bf29-db20183bba07\">\n",
              "  <button class=\"colab-df-quickchart\" onclick=\"quickchart('df-0e246bbf-bd2d-43c8-bf29-db20183bba07')\"\n",
              "            title=\"Suggest charts\"\n",
              "            style=\"display:none;\">\n",
              "\n",
              "<svg xmlns=\"http://www.w3.org/2000/svg\" height=\"24px\"viewBox=\"0 0 24 24\"\n",
              "     width=\"24px\">\n",
              "    <g>\n",
              "        <path d=\"M19 3H5c-1.1 0-2 .9-2 2v14c0 1.1.9 2 2 2h14c1.1 0 2-.9 2-2V5c0-1.1-.9-2-2-2zM9 17H7v-7h2v7zm4 0h-2V7h2v10zm4 0h-2v-4h2v4z\"/>\n",
              "    </g>\n",
              "</svg>\n",
              "  </button>\n",
              "\n",
              "<style>\n",
              "  .colab-df-quickchart {\n",
              "      --bg-color: #E8F0FE;\n",
              "      --fill-color: #1967D2;\n",
              "      --hover-bg-color: #E2EBFA;\n",
              "      --hover-fill-color: #174EA6;\n",
              "      --disabled-fill-color: #AAA;\n",
              "      --disabled-bg-color: #DDD;\n",
              "  }\n",
              "\n",
              "  [theme=dark] .colab-df-quickchart {\n",
              "      --bg-color: #3B4455;\n",
              "      --fill-color: #D2E3FC;\n",
              "      --hover-bg-color: #434B5C;\n",
              "      --hover-fill-color: #FFFFFF;\n",
              "      --disabled-bg-color: #3B4455;\n",
              "      --disabled-fill-color: #666;\n",
              "  }\n",
              "\n",
              "  .colab-df-quickchart {\n",
              "    background-color: var(--bg-color);\n",
              "    border: none;\n",
              "    border-radius: 50%;\n",
              "    cursor: pointer;\n",
              "    display: none;\n",
              "    fill: var(--fill-color);\n",
              "    height: 32px;\n",
              "    padding: 0;\n",
              "    width: 32px;\n",
              "  }\n",
              "\n",
              "  .colab-df-quickchart:hover {\n",
              "    background-color: var(--hover-bg-color);\n",
              "    box-shadow: 0 1px 2px rgba(60, 64, 67, 0.3), 0 1px 3px 1px rgba(60, 64, 67, 0.15);\n",
              "    fill: var(--button-hover-fill-color);\n",
              "  }\n",
              "\n",
              "  .colab-df-quickchart-complete:disabled,\n",
              "  .colab-df-quickchart-complete:disabled:hover {\n",
              "    background-color: var(--disabled-bg-color);\n",
              "    fill: var(--disabled-fill-color);\n",
              "    box-shadow: none;\n",
              "  }\n",
              "\n",
              "  .colab-df-spinner {\n",
              "    border: 2px solid var(--fill-color);\n",
              "    border-color: transparent;\n",
              "    border-bottom-color: var(--fill-color);\n",
              "    animation:\n",
              "      spin 1s steps(1) infinite;\n",
              "  }\n",
              "\n",
              "  @keyframes spin {\n",
              "    0% {\n",
              "      border-color: transparent;\n",
              "      border-bottom-color: var(--fill-color);\n",
              "      border-left-color: var(--fill-color);\n",
              "    }\n",
              "    20% {\n",
              "      border-color: transparent;\n",
              "      border-left-color: var(--fill-color);\n",
              "      border-top-color: var(--fill-color);\n",
              "    }\n",
              "    30% {\n",
              "      border-color: transparent;\n",
              "      border-left-color: var(--fill-color);\n",
              "      border-top-color: var(--fill-color);\n",
              "      border-right-color: var(--fill-color);\n",
              "    }\n",
              "    40% {\n",
              "      border-color: transparent;\n",
              "      border-right-color: var(--fill-color);\n",
              "      border-top-color: var(--fill-color);\n",
              "    }\n",
              "    60% {\n",
              "      border-color: transparent;\n",
              "      border-right-color: var(--fill-color);\n",
              "    }\n",
              "    80% {\n",
              "      border-color: transparent;\n",
              "      border-right-color: var(--fill-color);\n",
              "      border-bottom-color: var(--fill-color);\n",
              "    }\n",
              "    90% {\n",
              "      border-color: transparent;\n",
              "      border-bottom-color: var(--fill-color);\n",
              "    }\n",
              "  }\n",
              "</style>\n",
              "\n",
              "  <script>\n",
              "    async function quickchart(key) {\n",
              "      const quickchartButtonEl =\n",
              "        document.querySelector('#' + key + ' button');\n",
              "      quickchartButtonEl.disabled = true;  // To prevent multiple clicks.\n",
              "      quickchartButtonEl.classList.add('colab-df-spinner');\n",
              "      try {\n",
              "        const charts = await google.colab.kernel.invokeFunction(\n",
              "            'suggestCharts', [key], {});\n",
              "      } catch (error) {\n",
              "        console.error('Error during call to suggestCharts:', error);\n",
              "      }\n",
              "      quickchartButtonEl.classList.remove('colab-df-spinner');\n",
              "      quickchartButtonEl.classList.add('colab-df-quickchart-complete');\n",
              "    }\n",
              "    (() => {\n",
              "      let quickchartButtonEl =\n",
              "        document.querySelector('#df-0e246bbf-bd2d-43c8-bf29-db20183bba07 button');\n",
              "      quickchartButtonEl.style.display =\n",
              "        google.colab.kernel.accessAllowed ? 'block' : 'none';\n",
              "    })();\n",
              "  </script>\n",
              "</div>\n",
              "    </div>\n",
              "  </div>\n"
            ]
          },
          "metadata": {},
          "execution_count": 30
        }
      ]
    },
    {
      "cell_type": "markdown",
      "source": [
        "####Visualisierung"
      ],
      "metadata": {
        "id": "YFSpQjR1wgt9"
      },
      "id": "YFSpQjR1wgt9"
    },
    {
      "cell_type": "code",
      "source": [
        "import matplotlib.pyplot as plt\n",
        "import numpy as np\n",
        "\n",
        "# Erstellen Sie eine Kopie der Ergebnismatrix, in der die Darkstores und Quadranten durch eindeutige numerische Werte repräsentiert werden\n",
        "num_matrix = ergebnis_df.copy()\n",
        "for i in range(14):\n",
        "    for j in range(14):\n",
        "        if num_matrix.iloc[i, j] is not None and isinstance(num_matrix.iloc[i, j], str):\n",
        "            if \"S\" in num_matrix.iloc[i, j]:\n",
        "                num_matrix.iloc[i, j] = int(num_matrix.iloc[i, j].replace(\"S\", \"\"))\n",
        "            else:\n",
        "                num_matrix.iloc[i, j] = int(num_matrix.iloc[i, j])\n",
        "# Ersetzen Sie None-Werte durch einen speziellen numerischen Wert\n",
        "num_matrix = num_matrix.fillna(-1)\n",
        "# Ersetzen Sie den speziellen numerischen Wert durch NaN\n",
        "num_matrix[num_matrix == -1] = np.nan\n",
        "# Ersetzen Sie alle int Werte über 10 durch -2\n",
        "num_matrix[num_matrix > 10] = 10\n",
        "# Create a new color map with an extra color for the '10' value\n",
        "cmap = plt.get_cmap('tab20', int(np.nanmax(num_matrix) - np.nanmin(num_matrix) + 2))  # 'tab20' provides 20 distinct colors\n",
        "# Set the color for 'None' and '10'\n",
        "cmap.set_under('white')  # For 'None'\n",
        "cmap.set_over('gray')  # For '10'\n",
        "# Erstellen Sie eine Abbildung und eine Achse\n",
        "fig, ax = plt.subplots()\n",
        "cax = ax.matshow(num_matrix, cmap=cmap, vmin=0)  # Setzen Sie vmin auf 0, um die untere Grenze der Farbkarte festzulegen\n",
        "# Create the colorbar with custom boundaries\n",
        "cbar = fig.colorbar(cax, ticks=np.arange(np.nanmin(num_matrix), np.nanmax(num_matrix)+1), boundaries=np.arange(-0.5, np.nanmax(num_matrix)+2.5))  # +2.5 to include '10' and 'None'\n",
        "# Set the labels\n",
        "labels = ['DS'+str(i) for i in range(int(np.nanmin(num_matrix)), int(np.nanmax(num_matrix)))] + ['Multiple']  # Add labels for 'None' and '10'\n",
        "cbar.ax.set_yticklabels(labels)\n",
        "# Zeichnen Sie ein 'X' in die Zellen, die einen Darkstore repräsentieren\n",
        "for s in S:\n",
        "    if x[s].solution_value() == 1:\n",
        "        j, i = Koordinaten[s]['i_Koordinate'], Koordinaten[s]['j_Koordinate']\n",
        "        if 0 <= i < 14 and 0 <= j < 14:  # Stellen Sie sicher, dass die Koordinaten innerhalb der Matrix liegen\n",
        "            plt.text(j, i, f'DS{str(s)}', ha='center', va='center', color='black')\n",
        "\n",
        "# Zeigen Sie das Bild an\n",
        "plt.show()"
      ],
      "metadata": {
        "colab": {
          "base_uri": "https://localhost:8080/",
          "height": 435
        },
        "id": "fjYpWhmO5skv",
        "outputId": "ed1ab614-e20e-4579-9bc6-d4b21df4b5bf"
      },
      "id": "fjYpWhmO5skv",
      "execution_count": 31,
      "outputs": [
        {
          "output_type": "display_data",
          "data": {
            "text/plain": [
              "<Figure size 640x480 with 2 Axes>"
            ],
            "image/png": "[encoded data removed]"
          },
          "metadata": {}
        }
      ]
    },
    {
      "cell_type": "code",
      "source": [],
      "metadata": {
        "id": "NsTdRRY54VHj"
      },
      "id": "NsTdRRY54VHj",
      "execution_count": 21,
      "outputs": []
    }
  ],
  "metadata": {
    "colab": {
      "provenance": [],
      "collapsed_sections": [
        "Znr8k3tIxdcn",
        "RMw-V7U7u0fe"
      ],
      "include_colab_link": true
    },
    "kernelspec": {
      "display_name": "Python 3 (ipykernel)",
      "language": "python",
      "name": "python3"
    },
    "language_info": {
      "codemirror_mode": {
        "name": "ipython",
        "version": 3
      },
      "file_extension": ".py",
      "mimetype": "text/x-python",
      "name": "python",
      "nbconvert_exporter": "python",
      "pygments_lexer": "ipython3",
      "version": "3.8.5"
    }
  },
  "nbformat": 4,
  "nbformat_minor": 5
}