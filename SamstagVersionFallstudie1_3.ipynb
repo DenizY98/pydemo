{
  "cells": [
    {
      "cell_type": "markdown",
      "metadata": {
        "id": "view-in-github",
        "colab_type": "text"
      },
      "source": [
        "<a href=\"https://colab.research.google.com/github/DenizY98/pydemo/blob/main/SamstagVersionFallstudie1_3.ipynb\" target=\"_parent\"><img src=\"https://colab.research.google.com/assets/colab-badge.svg\" alt=\"Open In Colab\"/></a>"
      ]
    },
    {
      "cell_type": "markdown",
      "metadata": {
        "id": "qeOaIiTPxVdX"
      },
      "source": [
        "#Prozessoptimierung - Fallstudie\n"
      ],
      "id": "qeOaIiTPxVdX"
    },
    {
      "cell_type": "markdown",
      "metadata": {
        "id": "Znr8k3tIxdcn"
      },
      "source": [
        "##PIP, OR-Tools und Pandas"
      ],
      "id": "Znr8k3tIxdcn"
    },
    {
      "cell_type": "code",
      "execution_count": 2,
      "metadata": {
        "colab": {
          "base_uri": "https://localhost:8080/"
        },
        "id": "LGrl_jqcfXzd",
        "outputId": "5146e7f3-1bf7-4da9-fda5-ed849e30262f"
      },
      "outputs": [
        {
          "output_type": "stream",
          "name": "stdout",
          "text": [
            "\u001b[2K     \u001b[90m━━━━━━━━━━━━━━━━━━━━━━━━━━━━━━━━━━━━━━━━\u001b[0m \u001b[32m2.1/2.1 MB\u001b[0m \u001b[31m27.2 MB/s\u001b[0m eta \u001b[36m0:00:00\u001b[0m\n",
            "\u001b[2K   \u001b[90m━━━━━━━━━━━━━━━━━━━━━━━━━━━━━━━━━━━━━━━━\u001b[0m \u001b[32m22.9/22.9 MB\u001b[0m \u001b[31m45.3 MB/s\u001b[0m eta \u001b[36m0:00:00\u001b[0m\n",
            "\u001b[2K   \u001b[90m━━━━━━━━━━━━━━━━━━━━━━━━━━━━━━━━━━━━━━━━\u001b[0m \u001b[32m133.7/133.7 kB\u001b[0m \u001b[31m8.4 MB/s\u001b[0m eta \u001b[36m0:00:00\u001b[0m\n",
            "\u001b[2K   \u001b[90m━━━━━━━━━━━━━━━━━━━━━━━━━━━━━━━━━━━━━━━━\u001b[0m \u001b[32m13.0/13.0 MB\u001b[0m \u001b[31m59.3 MB/s\u001b[0m eta \u001b[36m0:00:00\u001b[0m\n",
            "\u001b[2K   \u001b[90m━━━━━━━━━━━━━━━━━━━━━━━━━━━━━━━━━━━━━━━━\u001b[0m \u001b[32m294.6/294.6 kB\u001b[0m \u001b[31m15.8 MB/s\u001b[0m eta \u001b[36m0:00:00\u001b[0m\n",
            "\u001b[2K   \u001b[90m━━━━━━━━━━━━━━━━━━━━━━━━━━━━━━━━━━━━━━━━\u001b[0m \u001b[32m346.6/346.6 kB\u001b[0m \u001b[31m16.2 MB/s\u001b[0m eta \u001b[36m0:00:00\u001b[0m\n",
            "\u001b[?25h\u001b[31mERROR: pip's dependency resolver does not currently take into account all the packages that are installed. This behaviour is the source of the following dependency conflicts.\n",
            "lida 0.0.10 requires fastapi, which is not installed.\n",
            "lida 0.0.10 requires kaleido, which is not installed.\n",
            "lida 0.0.10 requires python-multipart, which is not installed.\n",
            "lida 0.0.10 requires uvicorn, which is not installed.\n",
            "bigframes 0.19.1 requires pandas<2.1.4,>=1.5.0, but you have pandas 2.2.0 which is incompatible.\n",
            "google-colab 1.0.0 requires pandas==1.5.3, but you have pandas 2.2.0 which is incompatible.\n",
            "tensorboard 2.15.1 requires protobuf<4.24,>=3.19.6, but you have protobuf 4.25.2 which is incompatible.\n",
            "tensorflow-metadata 1.14.0 requires absl-py<2.0.0,>=0.9, but you have absl-py 2.1.0 which is incompatible.\n",
            "tensorflow-metadata 1.14.0 requires protobuf<4.21,>=3.20.3, but you have protobuf 4.25.2 which is incompatible.\u001b[0m\u001b[31m\n",
            "\u001b[0m\u001b[33mWARNING: Running pip as the 'root' user can result in broken permissions and conflicting behaviour with the system package manager. It is recommended to use a virtual environment instead: https://pip.pypa.io/warnings/venv\u001b[0m\u001b[33m\n",
            "\u001b[0m"
          ]
        }
      ],
      "source": [
        "# Importieren der benötigten Bibliotheken\n",
        "!pip install -U -q pip\n",
        "!pip install -q ortools"
      ],
      "id": "LGrl_jqcfXzd"
    },
    {
      "cell_type": "code",
      "execution_count": 3,
      "metadata": {
        "id": "CWUuo3p_UovB"
      },
      "outputs": [],
      "source": [
        "# Laden des Programms\n",
        "from ortools.linear_solver import pywraplp\n",
        "import pandas as pd\n",
        "# Initialisieren des Solvers\n",
        "solver = pywraplp.Solver.CreateSolver('SCIP')"
      ],
      "id": "CWUuo3p_UovB"
    },
    {
      "cell_type": "code",
      "execution_count": 4,
      "metadata": {
        "id": "oL-HwWpZeg-J",
        "colab": {
          "base_uri": "https://localhost:8080/"
        },
        "outputId": "0e82b23a-4ef2-4650-ba24-6d385b62f946"
      },
      "outputs": [
        {
          "output_type": "stream",
          "name": "stdout",
          "text": [
            "Cloning into 'Industrielles_Management'...\n",
            "remote: Enumerating objects: 110, done.\u001b[K\n",
            "remote: Counting objects: 100% (20/20), done.\u001b[K\n",
            "remote: Compressing objects: 100% (20/20), done.\u001b[K\n",
            "remote: Total 110 (delta 7), reused 0 (delta 0), pack-reused 90\u001b[K\n",
            "Receiving objects: 100% (110/110), 548.57 KiB | 8.19 MiB/s, done.\n",
            "Resolving deltas: 100% (39/39), done.\n"
          ]
        }
      ],
      "source": [
        "#clone der Daten aus der GithubRepo und Einlesen der DF\n",
        "! git clone https://github.com/AlexKressner/Industrielles_Management\n",
        "path = \"Industrielles_Management/Daten/Fallstudie/\"\n",
        "#dataframes laden aus Daten der CSV-Dateien\n",
        "nachfrage_df = pd.read_csv(f\"{path}/FLINK_Nachfrage.csv\", sep=\";\", index_col=0) # Da Indizes in Datenquelle so festgelegt\n",
        "standorte_df = pd.read_csv(f\"{path}/FLINK_Standorte.csv\", sep=\";\")"
      ],
      "id": "oL-HwWpZeg-J"
    },
    {
      "cell_type": "markdown",
      "metadata": {
        "id": "L1DkYz_FxqsJ"
      },
      "source": [
        "##Daten:\n"
      ],
      "id": "L1DkYz_FxqsJ"
    },
    {
      "cell_type": "markdown",
      "metadata": {
        "id": "O5J__6i85Xk8"
      },
      "source": [
        "###Indexmengen:\n",
        "$ Q = \\{q \\mid q = (i,j), i \\in \\{0, \\ldots, 12\\}, j \\in \\{0, \\ldots, 12\\}\\} $\n",
        "Menge aller Quadranten $ q $ als $( i , j )$ Tupel\n",
        "\n",
        "\n",
        "$ S = \\{s \\mid s \\in \\{0, \\ldots, 9\\}\\} $\n",
        "Menge aller potentieller DarkStores $ s $"
      ],
      "id": "O5J__6i85Xk8"
    },
    {
      "cell_type": "code",
      "execution_count": 5,
      "metadata": {
        "id": "LxekcH9nEyGD"
      },
      "outputs": [],
      "source": [
        "Q = [(i, j) for i in range(nachfrage_df.shape[0]) for j in range(nachfrage_df.shape[1])]  # Menge aller Quadranten q als (i, j) Tupel\n",
        "S = standorte_df['Potenzielle_Standorte'].to_list()  # Menge aller potentieller DarkStores"
      ],
      "id": "LxekcH9nEyGD"
    },
    {
      "cell_type": "markdown",
      "metadata": {
        "id": "z93bwBBhqk8O"
      },
      "source": [
        "###Variablen:\n",
        "$ x_s \\in \\{0,1\\} \\: \\quad \\forall s \\in S $: Binärvariable, die angibt, ob am Standort $ s $ ein Dark Store eingerichtet wird $1$ oder nicht $0$.\n",
        "\n",
        "$ y_{qs} \\in \\{0,1\\} \\quad \\forall q \\in Q, \\forall s \\in S $: Binärvariable, die angibt, ob Dark Store Standort $ s $ den Quadranten $ q $ beliefert $1$ oder nicht $0$.\n",
        "\n",
        "$ z_{qs} \\in \\{0,\\infty\\} \\: \\: \\: \\forall q \\in Q, \\forall s \\in S$: Int-Variable, die die absolute Liefermenge von Darkstore $ s $ an Quadranten $ q (i,j) $ repräsentiert.\n"
      ],
      "id": "z93bwBBhqk8O"
    },
    {
      "cell_type": "code",
      "execution_count": 6,
      "metadata": {
        "id": "zsUMPPxx5MWl"
      },
      "outputs": [],
      "source": [
        "# Wird der store s errichtet? (0,1)\n",
        "x = {}\n",
        "for s in S:\n",
        "  x[s] = solver.BoolVar(f'x[{s}]')"
      ],
      "id": "zsUMPPxx5MWl"
    },
    {
      "cell_type": "code",
      "execution_count": 7,
      "metadata": {
        "id": "8UQDKrZJT8ki"
      },
      "outputs": [],
      "source": [
        "# Liefert der Store s an Quadranten Q? (0,1)\n",
        "y = {}\n",
        "for s in S:\n",
        "    for q in Q:\n",
        "        y[q, s] = solver.BoolVar(f'y[{q},{s}]')"
      ],
      "id": "8UQDKrZJT8ki"
    },
    {
      "cell_type": "code",
      "execution_count": 8,
      "metadata": {
        "id": "mBKnAdDOcw2H"
      },
      "outputs": [],
      "source": [
        "# Wie viel Nachfrage deckt jeder Store s fuer einen Quadraten Q ab? (0-Infinity)\n",
        "z = {}\n",
        "for s in S:\n",
        "    for q in Q:\n",
        "        z[q, s] = solver.IntVar(0, solver.infinity(), f'z[{q},{s}]')"
      ],
      "id": "mBKnAdDOcw2H"
    },
    {
      "cell_type": "markdown",
      "metadata": {
        "id": "5MmzUUM2V8Tl"
      },
      "source": [
        "###Dictonaries:\n"
      ],
      "id": "5MmzUUM2V8Tl"
    },
    {
      "cell_type": "code",
      "execution_count": 9,
      "metadata": {
        "id": "iyOqhWGCULrf"
      },
      "outputs": [],
      "source": [
        "#Standorte Dataframe\n",
        "Lagerumschlagleistung = standorte_df.set_index('Potenzielle_Standorte')['Lagerumschlagleistung'].to_dict()\n",
        "Errichtungskosten = standorte_df.set_index('Potenzielle_Standorte')['Errichtungskosten'].to_dict()\n",
        "Koordinaten = standorte_df.set_index('Potenzielle_Standorte')[['i_Koordinate','j_Koordinate']].to_dict('index')"
      ],
      "id": "iyOqhWGCULrf"
    },
    {
      "cell_type": "markdown",
      "metadata": {
        "id": "9i8XXDM4sqMr"
      },
      "source": [
        "###Parameter:\n",
        "\n",
        "$ D_q $: Nachfrage im Quadranten $ q (i,j) $ als Bestellungen pro Tag.\n",
        "\n",
        "$ L_s $: Lagerumschlagleistung des Standorts $ s $ als Bestellungen pro Tag.\n",
        "\n",
        "$ C_s $: Kosten für die Einrichtung eines Dark Stores am Standort $ s $.\n",
        "\n",
        "$ G $: Geschwindigkeit des Fahrradkuriers in KM/h.\n",
        "\n",
        "$ B $: Gesamtbudget für die Einrichtung von Dark Stores.\n",
        "\n",
        "$ T $: Maximale Lieferzeit.\n",
        "\n",
        "$ TV $: Verbleibende Lieferzeit abzüglich aller Zeitfresser.\n",
        "\n",
        "$ A $: Maximale Anzahl von Quadranten, die ein Fahrradkurier bedienen kann."
      ],
      "id": "9i8XXDM4sqMr"
    },
    {
      "cell_type": "code",
      "execution_count": 23,
      "metadata": {
        "id": "bRDM-jqX5Rzi"
      },
      "outputs": [],
      "source": [
        "D = {q: nachfrage_df.iat[q[0],q[1]] for q in Q} # Quadratennachfrage D[q] die Nachfrage an Quadrant Koordinaten q_zeilen, q_spalten\n",
        "L = {s: Lagerumschlagleistung[s] for s in S}  # Lagerumschlagleistung L[s] des Standorts s als Bestellungen pro Tag\n",
        "C = {s: Errichtungskosten[s] for s in S}  # Kosten für die Einrichtung C[s] eines Dark Stores am Standort s\n",
        "B = 1000000  # Gesamtbudget B für die Einrichtung von Dark Stores\n",
        "G = 25  # Geschwindigkeit G (km/h)\n",
        "T = 20  # Maximale Lieferzeit T (min)\n",
        "TF1= 3  # Zeit fuer Warenbereitstellung TF1\n",
        "TF2= 1  # Zeit fuer Warenuebergabe TF2\n",
        "TV= (T-TF1-TF2) # Verbleibende Lieferzeit TV\n",
        "A = round((TV/2)/0.25*G/60, None) # max Reichweite in Quadranten für eine Richtung"
      ],
      "id": "bRDM-jqX5Rzi"
    },
    {
      "cell_type": "markdown",
      "metadata": {
        "id": "4qdhlIke60Vl"
      },
      "source": [
        "###Zielfunktion:\n"
      ],
      "id": "4qdhlIke60Vl"
    },
    {
      "cell_type": "markdown",
      "metadata": {
        "id": "QkWmoevK7yS8"
      },
      "source": [
        "Maximiere die gesamte bediente Nachfrage:\n",
        "\n",
        "$ \\text{Max} \\sum_{qs} z_{qs} $"
      ],
      "id": "QkWmoevK7yS8"
    },
    {
      "cell_type": "code",
      "execution_count": 24,
      "metadata": {
        "id": "LB5bCUe9amx6"
      },
      "outputs": [],
      "source": [
        "# Maximiere die variable Liefermenge z[q,s]\n",
        "solver.Maximize(solver.Sum([z[q, s] for q in Q for s in S]))\n"
      ],
      "id": "LB5bCUe9amx6"
    },
    {
      "cell_type": "markdown",
      "metadata": {
        "id": "CMhtK8srIt1_"
      },
      "source": [
        "###Restriktionen:\n",
        "1. **Store Lieferrestriktion**: Für jeden Store $s$, wenn $x[s] = 0$, dann kann der Store nicht liefern.\n",
        "   $x[s] \\geq y[q, s], \\quad \\forall s \\in S, \\forall q \\in Q$\n",
        "\n",
        "2. **Nachfrageabdeckung 100%**: Die Summe der Lieferungen aller Stores zu einem Quadranten $q$ muss genau der Nachfrage dieses Quadranten entsprechen.\n",
        "   $\\sum_{s \\in S} z[q, s] = D[q], \\quad \\forall q \\in Q$\n",
        "\n",
        "3. **Liefermengerestriktion**: Die Summe der bedienten Nachfrage darf die Nachfrage des Quadranten $q$ nicht übersteigen.\n",
        "   $\\sum_{s \\in S} z[q, s] \\leq D[q], \\quad \\forall q \\in Q$\n",
        "\n",
        "4. **Zulieferungsrestriktion**: Die Summe der Stores, die einen Quadranten $q$ beliefern, darf nicht größer als 2 sein.\n",
        "   $\\sum_{s \\in S} y[q, s] \\leq 2, \\quad \\forall q \\in Q$\n",
        "\n",
        "5. **Lagerumschlagleistungsrestriktion**: Die Summe der bedienten Nachfrage darf nicht größer sein als die Kapazität des Stores $s$.\n",
        "   $\\sum_{q \\in Q} z[q, s] \\leq x[s] \\cdot L[s], \\quad \\forall s \\in S$\n",
        "\n",
        "6. **Reichweitenrestriktion für Fahrradkuriere**: Für jeden Store $s$ und jeden Quadranten $q$, wenn die Manhattan-Distanz größer als $A$ ist, dann sind $y[q, s]$ und $z[q, s]$ gleich 0.\n",
        "   $y[q, s] = z[q, s] = 0, \\quad \\text{wenn } |i_s - i_q| + |j_s - j_q| > A, \\quad \\forall s \\in S, \\forall q \\in Q$\n",
        "\n",
        "7. **Budgetrestriktion**: Die Summe der Kosten aller erbauten Stores darf nicht größer sein als das Budget $B$.\n",
        "   $\\sum_{s \\in S} x[s] \\cdot C[s] \\leq B$"
      ],
      "id": "CMhtK8srIt1_"
    },
    {
      "cell_type": "code",
      "execution_count": 25,
      "metadata": {
        "id": "bs584RWf0szP"
      },
      "outputs": [],
      "source": [
        "#Store Lieferrestriktion: Ein Store s kann nur liefern, falls er errichtet wurde x[s]\n",
        "for s in S:\n",
        "    for q in Q:\n",
        "        solver.Add(y[q, s] <= x[s])"
      ],
      "id": "bs584RWf0szP"
    },
    {
      "cell_type": "code",
      "execution_count": 26,
      "metadata": {
        "id": "LrUvaPbZZRMm"
      },
      "outputs": [],
      "source": [
        "#Nachfrageabdeckung 100%: Für jedes q prüfen, ob die Summe der Lieferungen aller S zu diesem q --> z[q,s] GENAU der Nachfrage dieses Quadraten enspricht.\n",
        "for q in Q:\n",
        "    solver.Add(solver.Sum(z[q, s] for s in S) - solver.Sum(D[q]*y[q, s] for s in S)==0)"
      ],
      "id": "LrUvaPbZZRMm"
    },
    {
      "cell_type": "code",
      "source": [
        "#Liefermengerestriktion: Für jedes q prüfen, ob die Summe der bedienten Nachfrage sum(z[q,s]) über alle S die Nachfrage des Quadranten D[q] nicht übersteigt.\n",
        "for q in Q:\n",
        "    solver.Add(solver.Sum([z[q, s] for s in S]) <= D[q])"
      ],
      "metadata": {
        "id": "8w-6Oho2nZ5D"
      },
      "id": "8w-6Oho2nZ5D",
      "execution_count": 27,
      "outputs": []
    },
    {
      "cell_type": "code",
      "execution_count": 28,
      "metadata": {
        "id": "maq-uw9Y0EUH"
      },
      "outputs": [],
      "source": [
        "#Zulieferungsrestriktion: Für jedes q prüfen, ob die Summe der Stores die diesen Quadraten beliefern Sum(y[q, s]) kleiner gleich 2 ist.\n",
        "for q in Q:\n",
        "    solver.Add(solver.Sum([y[q, s] for s in S]) <= 2)"
      ],
      "id": "maq-uw9Y0EUH"
    },
    {
      "cell_type": "code",
      "execution_count": 29,
      "metadata": {
        "id": "65GPwJaRu45u"
      },
      "outputs": [],
      "source": [
        "#Lagerumschlagleistungsrestriktion: Für jedes s prüfen, ob die Summe der bedienten Nachfrage kleiner ist als die Kapazität des Stores L[s] mit x[s] werden nur gebaute Stores berücksichtigt\n",
        "for s in S:\n",
        "    solver.Add(solver.Sum([z[q, s] for q in Q]) <= x[s] * L[s])"
      ],
      "id": "65GPwJaRu45u"
    },
    {
      "cell_type": "code",
      "execution_count": 30,
      "metadata": {
        "id": "SXuPqc0Hu59h"
      },
      "outputs": [],
      "source": [
        "#Reichweitenrestriktion für Fahrradkuriere: Prüfe für jeden Store s und jeden Quadranten q, ob die Manhattan Distanz für Belieferungsentscheidung y und -Menge z kleiner gleich A ist\n",
        "for s in S:\n",
        "    for q in Q:\n",
        "        # Berechnung der Manhattan-Distanz zwischen dem Standort s und dem Quadranten q\n",
        "        distance = abs(Koordinaten[s]['i_Koordinate'] - q[0]) + abs(Koordinaten[s]['j_Koordinate'] - q[1])\n",
        "        if distance > 5:\n",
        "            solver.Add(z[q, s] == 0)\n",
        "            solver.Add(y[q, s] == 0)"
      ],
      "id": "SXuPqc0Hu59h"
    },
    {
      "cell_type": "code",
      "execution_count": 31,
      "metadata": {
        "id": "sgUujajvu2o7",
        "colab": {
          "base_uri": "https://localhost:8080/"
        },
        "outputId": "cff53984-52b8-4647-9023-e881b0c57eec"
      },
      "outputs": [
        {
          "output_type": "execute_result",
          "data": {
            "text/plain": [
              "<ortools.linear_solver.pywraplp.Constraint; proxy of <Swig Object of type 'operations_research::MPConstraint *' at 0x780331030840> >"
            ]
          },
          "metadata": {},
          "execution_count": 31
        }
      ],
      "source": [
        "#Budgetrestriktion: Prüfe, ob die Summe der Kosten C[s] aller erbauten Stores X[s] kleiner gleich dem Budget B ist.\n",
        "solver.Add(solver.Sum([x[s] * C[s] for s in S]) <= B)"
      ],
      "id": "sgUujajvu2o7"
    },
    {
      "cell_type": "markdown",
      "metadata": {
        "id": "gWuZFnAcM60L"
      },
      "source": [
        "##Lösung:"
      ],
      "id": "gWuZFnAcM60L"
    },
    {
      "cell_type": "code",
      "execution_count": 32,
      "metadata": {
        "id": "CAfCN_Mw7lnv"
      },
      "outputs": [],
      "source": [
        "# Lösen des Modells\n",
        "status = solver.Solve()"
      ],
      "id": "CAfCN_Mw7lnv"
    },
    {
      "cell_type": "code",
      "execution_count": null,
      "metadata": {
        "id": "Kh9bpes7DBXi"
      },
      "outputs": [],
      "source": [
        "if status == pywraplp.Solver.OPTIMAL:\n",
        "    gesamtnachfrage = sum(D.values())\n",
        "    ausgelieferte_waren = sum(z[q, s].solution_value() for q in Q for s in S if z[q, s].solution_value() > 0)\n",
        "    print(f'Prozentuale Erfüllung der Gesamtnachfrage: {round((ausgelieferte_waren/gesamtnachfrage*100), ndigits=2)}%')\n",
        "    print('Lösung gefunden:')\n",
        "    print('Zielfunktionswert (Kosten) =', round(solver.Objective().Value()))\n",
        "    for s in S:\n",
        "        if x[s].solution_value() == 1:\n",
        "            print(f'Standort {s} wird eingerichtet.')\n",
        "            vollstaendig = [q for q in Q if z[q, s].solution_value() > 0 and z[q, s].solution_value() == D[q]]\n",
        "            if vollstaendig:\n",
        "                print(f'Vollständige Lieferungen von Standort {s} mit {\", \".join(str(q) for q in vollstaendig)} vollständig beliefert.')\n",
        "            teilweise = [(q, round(z[q, s].solution_value()/D[q]*100)) for q in Q if z[q, s].solution_value() > 0 and z[q, s].solution_value() != D[q]]\n",
        "            if teilweise:\n",
        "                print(f'Teilweise Lieferungen von Standort {s} mit {\", \".join(f\"{q[0]} ({q[1]}%)\" for q in teilweise)} beliefert.')\n",
        "    # # Ausgabe der angefragten Menge und der tatsächlich gelieferten Waren für jeden Quadranten\n",
        "    # for q in Q:\n",
        "    #     angefragte_menge = D[q]\n",
        "    #     gelieferte_waren = sum(z[q, s].solution_value() for s in S if z[q, s].solution_value() > 0)\n",
        "    #     print(f'Quadrant {q}:Gelieferte ({gelieferte_waren}/{angefragte_menge}) -> {gelieferte_waren/angefragte_menge*100}%')\n",
        "else:\n",
        "    print('Keine optimale Lösung gefunden.')"
      ],
      "id": "Kh9bpes7DBXi"
    },
    {
      "cell_type": "markdown",
      "metadata": {
        "id": "qWte2yItwig8"
      },
      "source": [
        "### Darstellung als Matrix, DF oder MatPlot"
      ],
      "id": "qWte2yItwig8"
    },
    {
      "cell_type": "code",
      "execution_count": 34,
      "metadata": {
        "colab": {
          "base_uri": "https://localhost:8080/",
          "height": 488
        },
        "id": "aCi9G6YIyCw-",
        "outputId": "872014a9-a7ce-4397-bad2-6d804d11488a"
      },
      "outputs": [
        {
          "output_type": "execute_result",
          "data": {
            "text/plain": [
              "      0     1     2     3     4     5     6     7     8     9     10    11  \\\n",
              "0   None  None  None     9     9     9  None  None  None  None     2     2   \n",
              "1   None  None     9     9     7     9     9  None     2     2  None     2   \n",
              "2   None     9     9     7     7     7     9     9     2     2  None     2   \n",
              "3      9     9     7     7     7     7     7     9     9     2     2     4   \n",
              "4      9     7     7     7    S9     9     7     9     9     9    S2     4   \n",
              "5      7     7     9     7     9     7     9     7     7     4     4     4   \n",
              "6      7     9     7     7    S7     7     7     7     7     7     4     3   \n",
              "7      7     7     7     7     7     7     9     7     7    14     3     4   \n",
              "8      5     7     7     7    S5     7     7     7     5     1     1     3   \n",
              "9      5     5     7     7     7     7     7     1     5     1     1     4   \n",
              "10  None     5  None     7     7     7    15     5  None     1    S3     1   \n",
              "11  None  None     5     5     7     5     3     3    S1     3     3     3   \n",
              "12  None  None  None     5     5     5  None    13     1     3     3     1   \n",
              "13  None  None  None  None  None  None  None  None  None  None  None  None   \n",
              "\n",
              "      12    13  \n",
              "0   None  None  \n",
              "1      2  None  \n",
              "2      4  None  \n",
              "3      4  None  \n",
              "4      4  None  \n",
              "5     24  None  \n",
              "6      4    S4  \n",
              "7      3  None  \n",
              "8      3  None  \n",
              "9      3  None  \n",
              "10     3  None  \n",
              "11     1  None  \n",
              "12     3  None  \n",
              "13  None  None  "
            ],
            "text/html": [
              "\n",
              "  <div id=\"df-7c2403ee-0260-4b74-91bb-b26f0ccf7c16\" class=\"colab-df-container\">\n",
              "    <div>\n",
              "<style scoped>\n",
              "    .dataframe tbody tr th:only-of-type {\n",
              "        vertical-align: middle;\n",
              "    }\n",
              "\n",
              "    .dataframe tbody tr th {\n",
              "        vertical-align: top;\n",
              "    }\n",
              "\n",
              "    .dataframe thead th {\n",
              "        text-align: right;\n",
              "    }\n",
              "</style>\n",
              "<table border=\"1\" class=\"dataframe\">\n",
              "  <thead>\n",
              "    <tr style=\"text-align: right;\">\n",
              "      <th></th>\n",
              "      <th>0</th>\n",
              "      <th>1</th>\n",
              "      <th>2</th>\n",
              "      <th>3</th>\n",
              "      <th>4</th>\n",
              "      <th>5</th>\n",
              "      <th>6</th>\n",
              "      <th>7</th>\n",
              "      <th>8</th>\n",
              "      <th>9</th>\n",
              "      <th>10</th>\n",
              "      <th>11</th>\n",
              "      <th>12</th>\n",
              "      <th>13</th>\n",
              "    </tr>\n",
              "  </thead>\n",
              "  <tbody>\n",
              "    <tr>\n",
              "      <th>0</th>\n",
              "      <td>None</td>\n",
              "      <td>None</td>\n",
              "      <td>None</td>\n",
              "      <td>9</td>\n",
              "      <td>9</td>\n",
              "      <td>9</td>\n",
              "      <td>None</td>\n",
              "      <td>None</td>\n",
              "      <td>None</td>\n",
              "      <td>None</td>\n",
              "      <td>2</td>\n",
              "      <td>2</td>\n",
              "      <td>None</td>\n",
              "      <td>None</td>\n",
              "    </tr>\n",
              "    <tr>\n",
              "      <th>1</th>\n",
              "      <td>None</td>\n",
              "      <td>None</td>\n",
              "      <td>9</td>\n",
              "      <td>9</td>\n",
              "      <td>7</td>\n",
              "      <td>9</td>\n",
              "      <td>9</td>\n",
              "      <td>None</td>\n",
              "      <td>2</td>\n",
              "      <td>2</td>\n",
              "      <td>None</td>\n",
              "      <td>2</td>\n",
              "      <td>2</td>\n",
              "      <td>None</td>\n",
              "    </tr>\n",
              "    <tr>\n",
              "      <th>2</th>\n",
              "      <td>None</td>\n",
              "      <td>9</td>\n",
              "      <td>9</td>\n",
              "      <td>7</td>\n",
              "      <td>7</td>\n",
              "      <td>7</td>\n",
              "      <td>9</td>\n",
              "      <td>9</td>\n",
              "      <td>2</td>\n",
              "      <td>2</td>\n",
              "      <td>None</td>\n",
              "      <td>2</td>\n",
              "      <td>4</td>\n",
              "      <td>None</td>\n",
              "    </tr>\n",
              "    <tr>\n",
              "      <th>3</th>\n",
              "      <td>9</td>\n",
              "      <td>9</td>\n",
              "      <td>7</td>\n",
              "      <td>7</td>\n",
              "      <td>7</td>\n",
              "      <td>7</td>\n",
              "      <td>7</td>\n",
              "      <td>9</td>\n",
              "      <td>9</td>\n",
              "      <td>2</td>\n",
              "      <td>2</td>\n",
              "      <td>4</td>\n",
              "      <td>4</td>\n",
              "      <td>None</td>\n",
              "    </tr>\n",
              "    <tr>\n",
              "      <th>4</th>\n",
              "      <td>9</td>\n",
              "      <td>7</td>\n",
              "      <td>7</td>\n",
              "      <td>7</td>\n",
              "      <td>S9</td>\n",
              "      <td>9</td>\n",
              "      <td>7</td>\n",
              "      <td>9</td>\n",
              "      <td>9</td>\n",
              "      <td>9</td>\n",
              "      <td>S2</td>\n",
              "      <td>4</td>\n",
              "      <td>4</td>\n",
              "      <td>None</td>\n",
              "    </tr>\n",
              "    <tr>\n",
              "      <th>5</th>\n",
              "      <td>7</td>\n",
              "      <td>7</td>\n",
              "      <td>9</td>\n",
              "      <td>7</td>\n",
              "      <td>9</td>\n",
              "      <td>7</td>\n",
              "      <td>9</td>\n",
              "      <td>7</td>\n",
              "      <td>7</td>\n",
              "      <td>4</td>\n",
              "      <td>4</td>\n",
              "      <td>4</td>\n",
              "      <td>24</td>\n",
              "      <td>None</td>\n",
              "    </tr>\n",
              "    <tr>\n",
              "      <th>6</th>\n",
              "      <td>7</td>\n",
              "      <td>9</td>\n",
              "      <td>7</td>\n",
              "      <td>7</td>\n",
              "      <td>S7</td>\n",
              "      <td>7</td>\n",
              "      <td>7</td>\n",
              "      <td>7</td>\n",
              "      <td>7</td>\n",
              "      <td>7</td>\n",
              "      <td>4</td>\n",
              "      <td>3</td>\n",
              "      <td>4</td>\n",
              "      <td>S4</td>\n",
              "    </tr>\n",
              "    <tr>\n",
              "      <th>7</th>\n",
              "      <td>7</td>\n",
              "      <td>7</td>\n",
              "      <td>7</td>\n",
              "      <td>7</td>\n",
              "      <td>7</td>\n",
              "      <td>7</td>\n",
              "      <td>9</td>\n",
              "      <td>7</td>\n",
              "      <td>7</td>\n",
              "      <td>14</td>\n",
              "      <td>3</td>\n",
              "      <td>4</td>\n",
              "      <td>3</td>\n",
              "      <td>None</td>\n",
              "    </tr>\n",
              "    <tr>\n",
              "      <th>8</th>\n",
              "      <td>5</td>\n",
              "      <td>7</td>\n",
              "      <td>7</td>\n",
              "      <td>7</td>\n",
              "      <td>S5</td>\n",
              "      <td>7</td>\n",
              "      <td>7</td>\n",
              "      <td>7</td>\n",
              "      <td>5</td>\n",
              "      <td>1</td>\n",
              "      <td>1</td>\n",
              "      <td>3</td>\n",
              "      <td>3</td>\n",
              "      <td>None</td>\n",
              "    </tr>\n",
              "    <tr>\n",
              "      <th>9</th>\n",
              "      <td>5</td>\n",
              "      <td>5</td>\n",
              "      <td>7</td>\n",
              "      <td>7</td>\n",
              "      <td>7</td>\n",
              "      <td>7</td>\n",
              "      <td>7</td>\n",
              "      <td>1</td>\n",
              "      <td>5</td>\n",
              "      <td>1</td>\n",
              "      <td>1</td>\n",
              "      <td>4</td>\n",
              "      <td>3</td>\n",
              "      <td>None</td>\n",
              "    </tr>\n",
              "    <tr>\n",
              "      <th>10</th>\n",
              "      <td>None</td>\n",
              "      <td>5</td>\n",
              "      <td>None</td>\n",
              "      <td>7</td>\n",
              "      <td>7</td>\n",
              "      <td>7</td>\n",
              "      <td>15</td>\n",
              "      <td>5</td>\n",
              "      <td>None</td>\n",
              "      <td>1</td>\n",
              "      <td>S3</td>\n",
              "      <td>1</td>\n",
              "      <td>3</td>\n",
              "      <td>None</td>\n",
              "    </tr>\n",
              "    <tr>\n",
              "      <th>11</th>\n",
              "      <td>None</td>\n",
              "      <td>None</td>\n",
              "      <td>5</td>\n",
              "      <td>5</td>\n",
              "      <td>7</td>\n",
              "      <td>5</td>\n",
              "      <td>3</td>\n",
              "      <td>3</td>\n",
              "      <td>S1</td>\n",
              "      <td>3</td>\n",
              "      <td>3</td>\n",
              "      <td>3</td>\n",
              "      <td>1</td>\n",
              "      <td>None</td>\n",
              "    </tr>\n",
              "    <tr>\n",
              "      <th>12</th>\n",
              "      <td>None</td>\n",
              "      <td>None</td>\n",
              "      <td>None</td>\n",
              "      <td>5</td>\n",
              "      <td>5</td>\n",
              "      <td>5</td>\n",
              "      <td>None</td>\n",
              "      <td>13</td>\n",
              "      <td>1</td>\n",
              "      <td>3</td>\n",
              "      <td>3</td>\n",
              "      <td>1</td>\n",
              "      <td>3</td>\n",
              "      <td>None</td>\n",
              "    </tr>\n",
              "    <tr>\n",
              "      <th>13</th>\n",
              "      <td>None</td>\n",
              "      <td>None</td>\n",
              "      <td>None</td>\n",
              "      <td>None</td>\n",
              "      <td>None</td>\n",
              "      <td>None</td>\n",
              "      <td>None</td>\n",
              "      <td>None</td>\n",
              "      <td>None</td>\n",
              "      <td>None</td>\n",
              "      <td>None</td>\n",
              "      <td>None</td>\n",
              "      <td>None</td>\n",
              "      <td>None</td>\n",
              "    </tr>\n",
              "  </tbody>\n",
              "</table>\n",
              "</div>\n",
              "    <div class=\"colab-df-buttons\">\n",
              "\n",
              "  <div class=\"colab-df-container\">\n",
              "    <button class=\"colab-df-convert\" onclick=\"convertToInteractive('df-7c2403ee-0260-4b74-91bb-b26f0ccf7c16')\"\n",
              "            title=\"Convert this dataframe to an interactive table.\"\n",
              "            style=\"display:none;\">\n",
              "\n",
              "  <svg xmlns=\"http://www.w3.org/2000/svg\" height=\"24px\" viewBox=\"0 -960 960 960\">\n",
              "    <path d=\"M120-120v-720h720v720H120Zm60-500h600v-160H180v160Zm220 220h160v-160H400v160Zm0 220h160v-160H400v160ZM180-400h160v-160H180v160Zm440 0h160v-160H620v160ZM180-180h160v-160H180v160Zm440 0h160v-160H620v160Z\"/>\n",
              "  </svg>\n",
              "    </button>\n",
              "\n",
              "  <style>\n",
              "    .colab-df-container {\n",
              "      display:flex;\n",
              "      gap: 12px;\n",
              "    }\n",
              "\n",
              "    .colab-df-convert {\n",
              "      background-color: #E8F0FE;\n",
              "      border: none;\n",
              "      border-radius: 50%;\n",
              "      cursor: pointer;\n",
              "      display: none;\n",
              "      fill: #1967D2;\n",
              "      height: 32px;\n",
              "      padding: 0 0 0 0;\n",
              "      width: 32px;\n",
              "    }\n",
              "\n",
              "    .colab-df-convert:hover {\n",
              "      background-color: #E2EBFA;\n",
              "      box-shadow: 0px 1px 2px rgba(60, 64, 67, 0.3), 0px 1px 3px 1px rgba(60, 64, 67, 0.15);\n",
              "      fill: #174EA6;\n",
              "    }\n",
              "\n",
              "    .colab-df-buttons div {\n",
              "      margin-bottom: 4px;\n",
              "    }\n",
              "\n",
              "    [theme=dark] .colab-df-convert {\n",
              "      background-color: #3B4455;\n",
              "      fill: #D2E3FC;\n",
              "    }\n",
              "\n",
              "    [theme=dark] .colab-df-convert:hover {\n",
              "      background-color: #434B5C;\n",
              "      box-shadow: 0px 1px 3px 1px rgba(0, 0, 0, 0.15);\n",
              "      filter: drop-shadow(0px 1px 2px rgba(0, 0, 0, 0.3));\n",
              "      fill: #FFFFFF;\n",
              "    }\n",
              "  </style>\n",
              "\n",
              "    <script>\n",
              "      const buttonEl =\n",
              "        document.querySelector('#df-7c2403ee-0260-4b74-91bb-b26f0ccf7c16 button.colab-df-convert');\n",
              "      buttonEl.style.display =\n",
              "        google.colab.kernel.accessAllowed ? 'block' : 'none';\n",
              "\n",
              "      async function convertToInteractive(key) {\n",
              "        const element = document.querySelector('#df-7c2403ee-0260-4b74-91bb-b26f0ccf7c16');\n",
              "        const dataTable =\n",
              "          await google.colab.kernel.invokeFunction('convertToInteractive',\n",
              "                                                    [key], {});\n",
              "        if (!dataTable) return;\n",
              "\n",
              "        const docLinkHtml = 'Like what you see? Visit the ' +\n",
              "          '<a target=\"_blank\" href=https://colab.research.google.com/notebooks/data_table.ipynb>data table notebook</a>'\n",
              "          + ' to learn more about interactive tables.';\n",
              "        element.innerHTML = '';\n",
              "        dataTable['output_type'] = 'display_data';\n",
              "        await google.colab.output.renderOutput(dataTable, element);\n",
              "        const docLink = document.createElement('div');\n",
              "        docLink.innerHTML = docLinkHtml;\n",
              "        element.appendChild(docLink);\n",
              "      }\n",
              "    </script>\n",
              "  </div>\n",
              "\n",
              "\n",
              "<div id=\"df-f20cbdef-6385-424b-ad59-d13a055667a0\">\n",
              "  <button class=\"colab-df-quickchart\" onclick=\"quickchart('df-f20cbdef-6385-424b-ad59-d13a055667a0')\"\n",
              "            title=\"Suggest charts\"\n",
              "            style=\"display:none;\">\n",
              "\n",
              "<svg xmlns=\"http://www.w3.org/2000/svg\" height=\"24px\"viewBox=\"0 0 24 24\"\n",
              "     width=\"24px\">\n",
              "    <g>\n",
              "        <path d=\"M19 3H5c-1.1 0-2 .9-2 2v14c0 1.1.9 2 2 2h14c1.1 0 2-.9 2-2V5c0-1.1-.9-2-2-2zM9 17H7v-7h2v7zm4 0h-2V7h2v10zm4 0h-2v-4h2v4z\"/>\n",
              "    </g>\n",
              "</svg>\n",
              "  </button>\n",
              "\n",
              "<style>\n",
              "  .colab-df-quickchart {\n",
              "      --bg-color: #E8F0FE;\n",
              "      --fill-color: #1967D2;\n",
              "      --hover-bg-color: #E2EBFA;\n",
              "      --hover-fill-color: #174EA6;\n",
              "      --disabled-fill-color: #AAA;\n",
              "      --disabled-bg-color: #DDD;\n",
              "  }\n",
              "\n",
              "  [theme=dark] .colab-df-quickchart {\n",
              "      --bg-color: #3B4455;\n",
              "      --fill-color: #D2E3FC;\n",
              "      --hover-bg-color: #434B5C;\n",
              "      --hover-fill-color: #FFFFFF;\n",
              "      --disabled-bg-color: #3B4455;\n",
              "      --disabled-fill-color: #666;\n",
              "  }\n",
              "\n",
              "  .colab-df-quickchart {\n",
              "    background-color: var(--bg-color);\n",
              "    border: none;\n",
              "    border-radius: 50%;\n",
              "    cursor: pointer;\n",
              "    display: none;\n",
              "    fill: var(--fill-color);\n",
              "    height: 32px;\n",
              "    padding: 0;\n",
              "    width: 32px;\n",
              "  }\n",
              "\n",
              "  .colab-df-quickchart:hover {\n",
              "    background-color: var(--hover-bg-color);\n",
              "    box-shadow: 0 1px 2px rgba(60, 64, 67, 0.3), 0 1px 3px 1px rgba(60, 64, 67, 0.15);\n",
              "    fill: var(--button-hover-fill-color);\n",
              "  }\n",
              "\n",
              "  .colab-df-quickchart-complete:disabled,\n",
              "  .colab-df-quickchart-complete:disabled:hover {\n",
              "    background-color: var(--disabled-bg-color);\n",
              "    fill: var(--disabled-fill-color);\n",
              "    box-shadow: none;\n",
              "  }\n",
              "\n",
              "  .colab-df-spinner {\n",
              "    border: 2px solid var(--fill-color);\n",
              "    border-color: transparent;\n",
              "    border-bottom-color: var(--fill-color);\n",
              "    animation:\n",
              "      spin 1s steps(1) infinite;\n",
              "  }\n",
              "\n",
              "  @keyframes spin {\n",
              "    0% {\n",
              "      border-color: transparent;\n",
              "      border-bottom-color: var(--fill-color);\n",
              "      border-left-color: var(--fill-color);\n",
              "    }\n",
              "    20% {\n",
              "      border-color: transparent;\n",
              "      border-left-color: var(--fill-color);\n",
              "      border-top-color: var(--fill-color);\n",
              "    }\n",
              "    30% {\n",
              "      border-color: transparent;\n",
              "      border-left-color: var(--fill-color);\n",
              "      border-top-color: var(--fill-color);\n",
              "      border-right-color: var(--fill-color);\n",
              "    }\n",
              "    40% {\n",
              "      border-color: transparent;\n",
              "      border-right-color: var(--fill-color);\n",
              "      border-top-color: var(--fill-color);\n",
              "    }\n",
              "    60% {\n",
              "      border-color: transparent;\n",
              "      border-right-color: var(--fill-color);\n",
              "    }\n",
              "    80% {\n",
              "      border-color: transparent;\n",
              "      border-right-color: var(--fill-color);\n",
              "      border-bottom-color: var(--fill-color);\n",
              "    }\n",
              "    90% {\n",
              "      border-color: transparent;\n",
              "      border-bottom-color: var(--fill-color);\n",
              "    }\n",
              "  }\n",
              "</style>\n",
              "\n",
              "  <script>\n",
              "    async function quickchart(key) {\n",
              "      const quickchartButtonEl =\n",
              "        document.querySelector('#' + key + ' button');\n",
              "      quickchartButtonEl.disabled = true;  // To prevent multiple clicks.\n",
              "      quickchartButtonEl.classList.add('colab-df-spinner');\n",
              "      try {\n",
              "        const charts = await google.colab.kernel.invokeFunction(\n",
              "            'suggestCharts', [key], {});\n",
              "      } catch (error) {\n",
              "        console.error('Error during call to suggestCharts:', error);\n",
              "      }\n",
              "      quickchartButtonEl.classList.remove('colab-df-spinner');\n",
              "      quickchartButtonEl.classList.add('colab-df-quickchart-complete');\n",
              "    }\n",
              "    (() => {\n",
              "      let quickchartButtonEl =\n",
              "        document.querySelector('#df-f20cbdef-6385-424b-ad59-d13a055667a0 button');\n",
              "      quickchartButtonEl.style.display =\n",
              "        google.colab.kernel.accessAllowed ? 'block' : 'none';\n",
              "    })();\n",
              "  </script>\n",
              "</div>\n",
              "    </div>\n",
              "  </div>\n"
            ]
          },
          "metadata": {},
          "execution_count": 34
        }
      ],
      "source": [
        "import numpy as np\n",
        "import pandas as pd\n",
        "\n",
        "# Erstellen Sie eine leere Matrix der gleichen Größe wie Ihr Quadrantengitter\n",
        "ergebnis_matrix = np.empty((14, 14), dtype=object)  # Größe angepasst, um Store i_Koordinate von 13 zu berücksichtigen\n",
        "\n",
        "# Initialize the matrix with None to indicate empty cells\n",
        "ergebnis_matrix = np.full((14, 14), None, dtype=object)\n",
        "\n",
        "# Fill the matrix with the results from your model\n",
        "for s in S:\n",
        "    if x[s].solution_value() > 0:\n",
        "        for q in Q:\n",
        "            if z[q, s].solution_value() >= 1:\n",
        "                if ergebnis_matrix[q[0], q[1]] is not None:\n",
        "                    ergebnis_matrix[q[0], q[1]] += str(s)\n",
        "                else:\n",
        "                    ergebnis_matrix[q[0], q[1]] = str(s)\n",
        "\n",
        "# Nachdem alle Quadranten bedient wurden, gehen Sie erneut über alle Standorte in S\n",
        "for s in S:\n",
        "    if x[s].solution_value() == 1:  # Wenn ein Darkstore an diesem Standort errichtet wurde\n",
        "        i, j = Koordinaten[s]['i_Koordinate'], Koordinaten[s]['j_Koordinate']\n",
        "        if 0 <= i < 14 and 0 <= j < 14:  # Stellen Sie sicher, dass die Koordinaten innerhalb der Matrix liegen\n",
        "            ergebnis_matrix[i, j] = \"S\" + str(s)\n",
        "\n",
        "#ergebnis_matrix=np.where(ergebnis_matrix =='',None, ergebnis_matrix)\n",
        "# Konvertieren Sie die Matrix in einen DataFrame für eine schönere Darstellung\n",
        "ergebnis_df = pd.DataFrame(ergebnis_matrix).transpose()\n",
        "ergebnis_df\n"
      ],
      "id": "aCi9G6YIyCw-"
    },
    {
      "cell_type": "markdown",
      "metadata": {
        "id": "YFSpQjR1wgt9"
      },
      "source": [
        "####Visualisierung"
      ],
      "id": "YFSpQjR1wgt9"
    },
    {
      "cell_type": "code",
      "execution_count": 35,
      "metadata": {
        "colab": {
          "base_uri": "https://localhost:8080/",
          "height": 492
        },
        "id": "fjYpWhmO5skv",
        "outputId": "ba65e333-5923-40fe-bedd-fc0e38128baa"
      },
      "outputs": [
        {
          "output_type": "stream",
          "name": "stderr",
          "text": [
            "<ipython-input-35-f301535296cf>:14: FutureWarning: Downcasting object dtype arrays on .fillna, .ffill, .bfill is deprecated and will change in a future version. Call result.infer_objects(copy=False) instead. To opt-in to the future behavior, set `pd.set_option('future.no_silent_downcasting', True)`\n",
            "  num_matrix = num_matrix.fillna(-1)\n"
          ]
        },
        {
          "output_type": "display_data",
          "data": {
            "text/plain": [
              "<Figure size 640x480 with 2 Axes>"
            ],
            "image/png": "[encoded data removed]"
          },
          "metadata": {}
        }
      ],
      "source": [
        "import matplotlib.pyplot as plt\n",
        "import numpy as np\n",
        "\n",
        "# Erstellen Sie eine Kopie der Ergebnismatrix, in der die Darkstores und Quadranten durch eindeutige numerische Werte repräsentiert werden\n",
        "num_matrix = ergebnis_df.copy()\n",
        "for i in range(14):\n",
        "    for j in range(14):\n",
        "        if num_matrix.iloc[i, j] is not None and isinstance(num_matrix.iloc[i, j], str):\n",
        "            if \"S\" in num_matrix.iloc[i, j]:\n",
        "                num_matrix.iloc[i, j] = int(num_matrix.iloc[i, j].replace(\"S\", \"\"))\n",
        "            else:\n",
        "                num_matrix.iloc[i, j] = int(num_matrix.iloc[i, j])\n",
        "# Ersetzen Sie None-Werte durch einen speziellen numerischen Wert\n",
        "num_matrix = num_matrix.fillna(-1)\n",
        "# Ersetzen Sie den speziellen numerischen Wert durch NaN\n",
        "num_matrix[num_matrix == -1] = np.nan\n",
        "# Ersetzen Sie alle int Werte über 10 durch -2\n",
        "num_matrix[num_matrix > 10] = 11\n",
        "# Create a new color map with an extra color for the '10' value\n",
        "cmap = plt.get_cmap('tab10', int(np.nanmax(num_matrix) - np.nanmin(num_matrix) + 2))  # 'tab20' provides 20 distinct colors\n",
        "# Set the color for 'None' and '10'\n",
        "cmap.set_under('white')  # For 'None'\n",
        "cmap.set_over('gray')  # For '10'\n",
        "# Erstellen Sie eine Abbildung und eine Achse\n",
        "fig, ax = plt.subplots()\n",
        "cax = ax.matshow(num_matrix, cmap=cmap, vmin=0)  # Setzen Sie vmin auf 0, um die untere Grenze der Farbkarte festzulegen\n",
        "# Create the colorbar with custom boundaries\n",
        "cbar = fig.colorbar(cax, ticks=np.arange(np.nanmin(num_matrix), np.nanmax(num_matrix)), boundaries=np.arange(+0.5, np.nanmax(num_matrix)+0.5))  # +2.5 to include '10' and 'None'\n",
        "# Set the labels\n",
        "labels = ['S'+str(i) for i in range(int(np.nanmin(num_matrix)), int(np.nanmax(num_matrix)-1))] + ['Multiple']  # Add labels for 'None' and '10'\n",
        "cbar.ax.set_yticklabels(labels)\n",
        "# Zeichnen Sie ein 'X' in die Zellen, die einen Darkstore repräsentieren\n",
        "for s in S:\n",
        "    if x[s].solution_value() == 1:\n",
        "        j, i = Koordinaten[s]['i_Koordinate'], Koordinaten[s]['j_Koordinate']\n",
        "        if 0 <= i < 14 and 0 <= j < 14:  # Stellen Sie sicher, dass die Koordinaten innerhalb der Matrix liegen\n",
        "            plt.text(j, i, f'S{str(s)}', ha='center', va='center', color='black')\n",
        "\n",
        "# Zeigen Sie das Bild an\n",
        "plt.show()"
      ],
      "id": "fjYpWhmO5skv"
    },
    {
      "cell_type": "code",
      "execution_count": null,
      "metadata": {
        "id": "NsTdRRY54VHj"
      },
      "outputs": [],
      "source": [],
      "id": "NsTdRRY54VHj"
    }
  ],
  "metadata": {
    "colab": {
      "provenance": [],
      "collapsed_sections": [
        "Znr8k3tIxdcn",
        "z93bwBBhqk8O",
        "5MmzUUM2V8Tl"
      ],
      "include_colab_link": true
    },
    "kernelspec": {
      "display_name": "Python 3 (ipykernel)",
      "language": "python",
      "name": "python3"
    },
    "language_info": {
      "codemirror_mode": {
        "name": "ipython",
        "version": 3
      },
      "file_extension": ".py",
      "mimetype": "text/x-python",
      "name": "python",
      "nbconvert_exporter": "python",
      "pygments_lexer": "ipython3",
      "version": "3.8.5"
    }
  },
  "nbformat": 4,
  "nbformat_minor": 5
}